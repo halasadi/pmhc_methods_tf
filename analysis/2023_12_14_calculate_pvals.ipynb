{
 "cells": [
  {
   "cell_type": "code",
   "execution_count": 24,
   "metadata": {},
   "outputs": [],
   "source": [
    "import pandas as pd\n",
    "import xgboost as xgb\n",
    "import numpy as np\n",
    "import matplotlib.pyplot as plt\n",
    "from Bio import SeqIO\n",
    "from itertools import chain\n",
    "import joblib\n",
    "from sklearn.preprocessing import OneHotEncoder\n",
    "import pickle"
   ]
  },
  {
   "cell_type": "markdown",
   "metadata": {},
   "source": [
    "# Load old model "
   ]
  },
  {
   "cell_type": "code",
   "execution_count": 34,
   "metadata": {},
   "outputs": [],
   "source": [
    "# Load the saved XGBoost model\n",
    "#loaded_model = xgb.XGBClassifier()\n",
    "file_path = \"/Users/halasadi/code/pmhc_methods_tf/internal_data/2023_12_22_test_9mer_xgboost_model\"\n",
    "loaded_model = joblib.load(file_path + \"_xgboost_model.joblib\")\n",
    "feature_encoder = joblib.load(file_path + '_feature_encoder.joblib')\n",
    "label_encoder = joblib.load(file_path + '_label_encoder.joblib')"
   ]
  },
  {
   "cell_type": "code",
   "execution_count": 35,
   "metadata": {},
   "outputs": [],
   "source": [
    "# load in the human proteome from here: https://www.uniprot.org/proteomes/UP000005640\n",
    "\n",
    "fasta_file_path = \"/Users/halasadi/code/pmhc_methods_tf/external_data/mixmhcpred/UP000005640_9606.fasta\"\n",
    "sequences = SeqIO.parse(fasta_file_path, \"fasta\")\n",
    "peptides = list()\n",
    "cnt = 1\n",
    "for record in sequences:\n",
    "    cnt += 1\n",
    "    peptide = str(record.seq)\n",
    "    if (len(peptide) >= 10) and ('X' not in peptide) and ('U' not in peptide):\n",
    "        peptides.append(peptide)"
   ]
  },
  {
   "cell_type": "code",
   "execution_count": 36,
   "metadata": {},
   "outputs": [],
   "source": [
    "def generate_all_kmers(input_string, k):\n",
    "    kmers = []\n",
    "    # Iterate through the input string to generate 9-mers\n",
    "    for i in range(len(input_string) - k + 1):\n",
    "        kmer = input_string[i:i + k]\n",
    "        kmers.append(kmer)\n",
    "    return(kmers)\n",
    "    "
   ]
  },
  {
   "cell_type": "code",
   "execution_count": 37,
   "metadata": {},
   "outputs": [],
   "source": [
    "all_kmers = list()\n",
    "for peptide in peptides:\n",
    "    all_kmers.append(generate_all_kmers(peptide, 9))\n",
    "all_kmers = list(chain.from_iterable(all_kmers))"
   ]
  },
  {
   "cell_type": "code",
   "execution_count": 55,
   "metadata": {},
   "outputs": [],
   "source": [
    "import random\n",
    "sampled_kmers = random.sample(all_kmers, 1000000)"
   ]
  },
  {
   "cell_type": "code",
   "execution_count": 56,
   "metadata": {},
   "outputs": [],
   "source": [
    "X_encoded = np.array([list(s) for s in sampled_kmers])\n",
    "X_encoded = feature_encoder.fit_transform(X_encoded).toarray()"
   ]
  },
  {
   "cell_type": "code",
   "execution_count": 57,
   "metadata": {},
   "outputs": [],
   "source": [
    "ypred = loaded_model.predict_proba(X_encoded)"
   ]
  },
  {
   "cell_type": "code",
   "execution_count": 61,
   "metadata": {},
   "outputs": [],
   "source": [
    "pmax = np.amax(ypred, axis = 1)"
   ]
  },
  {
   "cell_type": "code",
   "execution_count": 64,
   "metadata": {},
   "outputs": [
    {
     "data": {
      "text/plain": [
       "(array([2.1950e+03, 1.9388e+04, 4.2748e+04, 5.7730e+04, 6.2501e+04,\n",
       "        5.9466e+04, 5.4434e+04, 4.7796e+04, 4.2364e+04, 3.7750e+04,\n",
       "        3.4203e+04, 3.1219e+04, 2.9117e+04, 2.6869e+04, 2.5670e+04,\n",
       "        2.4315e+04, 2.3166e+04, 2.1780e+04, 2.0952e+04, 1.9763e+04,\n",
       "        1.8264e+04, 1.7134e+04, 1.5983e+04, 1.5131e+04, 1.4279e+04,\n",
       "        1.3048e+04, 1.2264e+04, 1.1659e+04, 1.1105e+04, 1.0708e+04,\n",
       "        1.0132e+04, 9.8000e+03, 9.2380e+03, 9.0000e+03, 8.8060e+03,\n",
       "        8.3230e+03, 7.9590e+03, 7.7590e+03, 7.3310e+03, 6.9420e+03,\n",
       "        6.6290e+03, 6.2640e+03, 6.0110e+03, 5.7980e+03, 5.3200e+03,\n",
       "        4.9390e+03, 4.6690e+03, 4.2710e+03, 4.1260e+03, 3.7780e+03,\n",
       "        3.4570e+03, 3.1720e+03, 3.0060e+03, 2.7130e+03, 2.4300e+03,\n",
       "        2.3090e+03, 2.1640e+03, 1.9750e+03, 1.8170e+03, 1.6770e+03,\n",
       "        1.5260e+03, 1.4110e+03, 1.1770e+03, 1.1100e+03, 1.0100e+03,\n",
       "        9.0200e+02, 7.7700e+02, 7.5000e+02, 6.6000e+02, 5.7100e+02,\n",
       "        5.5200e+02, 4.0400e+02, 4.1100e+02, 3.5200e+02, 3.0800e+02,\n",
       "        3.3000e+02, 2.5300e+02, 2.5500e+02, 2.4500e+02, 2.0000e+02,\n",
       "        1.8200e+02, 2.1300e+02, 2.0900e+02, 1.7200e+02, 1.3300e+02,\n",
       "        1.3400e+02, 1.6600e+02, 1.4200e+02, 1.2500e+02, 1.0900e+02,\n",
       "        9.5000e+01, 8.5000e+01, 6.7000e+01, 4.5000e+01, 4.9000e+01,\n",
       "        2.3000e+01, 1.7000e+01, 8.0000e+00, 5.0000e+00, 1.0000e+00]),\n",
       " array([0.02347561, 0.03280014, 0.04212467, 0.05144919, 0.06077372,\n",
       "        0.07009825, 0.07942278, 0.08874731, 0.09807184, 0.10739636,\n",
       "        0.11672089, 0.12604542, 0.13536994, 0.14469448, 0.154019  ,\n",
       "        0.16334353, 0.17266805, 0.18199259, 0.19131711, 0.20064163,\n",
       "        0.20996617, 0.21929069, 0.22861522, 0.23793975, 0.24726428,\n",
       "        0.25658882, 0.26591334, 0.27523786, 0.28456238, 0.29388693,\n",
       "        0.30321145, 0.31253597, 0.32186049, 0.33118501, 0.34050956,\n",
       "        0.34983408, 0.35915861, 0.36848313, 0.37780768, 0.3871322 ,\n",
       "        0.39645672, 0.40578124, 0.41510579, 0.42443031, 0.43375483,\n",
       "        0.44307935, 0.45240387, 0.46172842, 0.47105294, 0.48037747,\n",
       "        0.48970199, 0.49902654, 0.50835103, 0.51767558, 0.52700013,\n",
       "        0.53632462, 0.54564917, 0.55497372, 0.56429821, 0.57362276,\n",
       "        0.58294725, 0.5922718 , 0.60159636, 0.61092085, 0.6202454 ,\n",
       "        0.62956989, 0.63889444, 0.64821899, 0.65754348, 0.66686803,\n",
       "        0.67619258, 0.68551707, 0.69484162, 0.70416611, 0.71349066,\n",
       "        0.72281522, 0.73213971, 0.74146426, 0.75078875, 0.7601133 ,\n",
       "        0.76943785, 0.77876234, 0.78808689, 0.79741144, 0.80673593,\n",
       "        0.81606048, 0.82538497, 0.83470953, 0.84403408, 0.85335857,\n",
       "        0.86268312, 0.87200761, 0.88133216, 0.89065671, 0.8999812 ,\n",
       "        0.90930575, 0.9186303 , 0.92795479, 0.93727934, 0.94660383,\n",
       "        0.95592839]),\n",
       " <BarContainer object of 100 artists>)"
      ]
     },
     "execution_count": 64,
     "metadata": {},
     "output_type": "execute_result"
    },
    {
     "data": {
      "image/png": "[encoded data removed]",
      "text/plain": [
       "<Figure size 640x480 with 1 Axes>"
      ]
     },
     "metadata": {},
     "output_type": "display_data"
    }
   ],
   "source": [
    "plt.hist(pmax, bins = 100)"
   ]
  },
  {
   "cell_type": "code",
   "execution_count": 66,
   "metadata": {},
   "outputs": [
    {
     "data": {
      "text/plain": [
       "['/Users/halasadi/code/pmhc_methods_tf/internal_data/2023_12_22_test_9mer_xgboost_model_null_distrib.joblib']"
      ]
     },
     "execution_count": 66,
     "metadata": {},
     "output_type": "execute_result"
    }
   ],
   "source": [
    "joblib.dump(pmax, file_path + '_null_distrib.joblib')"
   ]
  },
  {
   "cell_type": "code",
   "execution_count": 75,
   "metadata": {},
   "outputs": [],
   "source": [
    "def calculate_pval(pred_scores):\n",
    "    return(np.mean(pmax[:, np.newaxis] > pred_scores, axis=0))"
   ]
  },
  {
   "cell_type": "code",
   "execution_count": 76,
   "metadata": {},
   "outputs": [],
   "source": [
    "pred_scores = np.array([0.8, 0.5, 0.1])"
   ]
  },
  {
   "cell_type": "code",
   "execution_count": 77,
   "metadata": {},
   "outputs": [
    {
     "data": {
      "text/plain": [
       "array([0.001328, 0.0361  , 0.64444 ])"
      ]
     },
     "execution_count": 77,
     "metadata": {},
     "output_type": "execute_result"
    }
   ],
   "source": [
    "calculate_pval(np.array([0.8, 0.5, 0.1]))"
   ]
  }
 ],
 "metadata": {
  "kernelspec": {
   "display_name": "Python 3",
   "language": "python",
   "name": "python3"
  },
  "language_info": {
   "codemirror_mode": {
    "name": "ipython",
    "version": 3
   },
   "file_extension": ".py",
   "mimetype": "text/x-python",
   "name": "python",
   "nbconvert_exporter": "python",
   "pygments_lexer": "ipython3",
   "version": "3.11.6"
  }
 },
 "nbformat": 4,
 "nbformat_minor": 2
}
