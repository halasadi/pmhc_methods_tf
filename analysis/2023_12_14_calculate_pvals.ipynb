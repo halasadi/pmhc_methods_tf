{
 "cells": [
  {
   "cell_type": "code",
   "execution_count": 24,
   "metadata": {},
   "outputs": [],
   "source": [
    "import pandas as pd\n",
    "import xgboost as xgb\n",
    "import numpy as np\n",
    "import matplotlib.pyplot as plt\n",
    "from Bio import SeqIO\n",
    "from itertools import chain\n",
    "import joblib\n",
    "from sklearn.preprocessing import OneHotEncoder\n",
    "import pickle"
   ]
  },
  {
   "cell_type": "markdown",
   "metadata": {},
   "source": [
    "# Load old model "
   ]
  },
  {
   "cell_type": "code",
   "execution_count": 34,
   "metadata": {},
   "outputs": [],
   "source": [
    "# Load the saved XGBoost model\n",
    "#loaded_model = xgb.XGBClassifier()\n",
    "file_path = \"/Users/halasadi/code/pmhc_methods_tf/internal_data/2023_12_22_test_9mer_xgboost_model\"\n",
    "loaded_model = joblib.load(file_path + \"_xgboost_model.joblib\")\n",
    "feature_encoder = joblib.load(file_path + '_feature_encoder.joblib')\n",
    "label_encoder = joblib.load(file_path + '_label_encoder.joblib')"
   ]
  },
  {
   "cell_type": "code",
   "execution_count": 35,
   "metadata": {},
   "outputs": [],
   "source": [
    "# load in the human proteome from here: https://www.uniprot.org/proteomes/UP000005640\n",
    "\n",
    "fasta_file_path = \"/Users/halasadi/code/pmhc_methods_tf/external_data/mixmhcpred/UP000005640_9606.fasta\"\n",
    "sequences = SeqIO.parse(fasta_file_path, \"fasta\")\n",
    "peptides = list()\n",
    "cnt = 1\n",
    "for record in sequences:\n",
    "    cnt += 1\n",
    "    peptide = str(record.seq)\n",
    "    if (len(peptide) >= 10) and ('X' not in peptide) and ('U' not in peptide):\n",
    "        peptides.append(peptide)"
   ]
  },
  {
   "cell_type": "code",
   "execution_count": 36,
   "metadata": {},
   "outputs": [],
   "source": [
    "def generate_all_kmers(input_string, k):\n",
    "    kmers = []\n",
    "    # Iterate through the input string to generate 9-mers\n",
    "    for i in range(len(input_string) - k + 1):\n",
    "        kmer = input_string[i:i + k]\n",
    "        kmers.append(kmer)\n",
    "    return(kmers)\n",
    "    "
   ]
  },
  {
   "cell_type": "code",
   "execution_count": 37,
   "metadata": {},
   "outputs": [],
   "source": [
    "all_kmers = list()\n",
    "for peptide in peptides:\n",
    "    all_kmers.append(generate_all_kmers(peptide, 9))\n",
    "all_kmers = list(chain.from_iterable(all_kmers))"
   ]
  },
  {
   "cell_type": "code",
   "execution_count": 88,
   "metadata": {},
   "outputs": [],
   "source": [
    "import random\n",
    "sampled_kmers = random.sample(all_kmers, 1000000)"
   ]
  },
  {
   "cell_type": "code",
   "execution_count": 89,
   "metadata": {},
   "outputs": [],
   "source": [
    "X_encoded = np.array([list(s) for s in sampled_kmers])\n",
    "X_encoded = feature_encoder.fit_transform(X_encoded).toarray()"
   ]
  },
  {
   "cell_type": "code",
   "execution_count": 90,
   "metadata": {},
   "outputs": [],
   "source": [
    "ypred = loaded_model.predict_proba(X_encoded)"
   ]
  },
  {
   "cell_type": "code",
   "execution_count": 91,
   "metadata": {},
   "outputs": [],
   "source": [
    "pmax = np.amax(ypred, axis = 1)"
   ]
  },
  {
   "cell_type": "code",
   "execution_count": 95,
   "metadata": {},
   "outputs": [],
   "source": [
    "ypred_labels = loaded_model.predict(X_encoded)\n",
    "ypred_labels = label_encoder.inverse_transform(ypred_labels)"
   ]
  },
  {
   "cell_type": "code",
   "execution_count": 97,
   "metadata": {},
   "outputs": [
    {
     "data": {
      "text/plain": [
       "array(['B3801', 'A0101', 'A2402', ..., 'A0201', 'B2705', 'A0301'],\n",
       "      dtype=object)"
      ]
     },
     "execution_count": 97,
     "metadata": {},
     "output_type": "execute_result"
    }
   ],
   "source": [
    "ypred_labels"
   ]
  },
  {
   "cell_type": "code",
   "execution_count": 108,
   "metadata": {},
   "outputs": [
    {
     "data": {
      "text/plain": [
       "(array([2., 0., 1., 1., 0., 1., 2., 0., 1., 3., 0., 2., 3., 5., 5., 3., 2.,\n",
       "        3., 2., 4., 3., 5., 3., 1., 2., 1., 5., 1., 1., 1., 1., 6., 4., 3.,\n",
       "        2., 3., 2., 2., 2., 2., 1., 4., 2., 1., 0., 3., 1., 1., 0., 2., 1.,\n",
       "        0., 4., 2., 1., 2., 0., 2., 1., 1., 0., 2., 0., 1., 1., 2., 1., 0.,\n",
       "        0., 0., 0., 0., 0., 0., 0., 0., 0., 0., 1., 0., 0., 0., 0., 1., 1.,\n",
       "        0., 0., 0., 0., 0., 1., 1., 0., 0., 0., 0., 0., 0., 0., 1.]),\n",
       " array([0.03788195, 0.0392422 , 0.04060246, 0.04196271, 0.04332297,\n",
       "        0.04468323, 0.04604348, 0.04740373, 0.04876399, 0.05012425,\n",
       "        0.0514845 , 0.05284476, 0.05420501, 0.05556527, 0.05692552,\n",
       "        0.05828578, 0.05964603, 0.06100629, 0.06236654, 0.0637268 ,\n",
       "        0.06508705, 0.06644731, 0.06780756, 0.06916782, 0.07052808,\n",
       "        0.07188833, 0.07324859, 0.07460884, 0.07596909, 0.07732935,\n",
       "        0.0786896 , 0.08004986, 0.08141012, 0.08277037, 0.08413063,\n",
       "        0.08549088, 0.08685113, 0.08821139, 0.08957165, 0.0909319 ,\n",
       "        0.09229216, 0.09365241, 0.09501267, 0.09637292, 0.09773318,\n",
       "        0.09909344, 0.10045369, 0.10181394, 0.1031742 , 0.10453445,\n",
       "        0.10589471, 0.10725497, 0.10861522, 0.10997548, 0.11133573,\n",
       "        0.11269598, 0.11405624, 0.1154165 , 0.11677675, 0.11813701,\n",
       "        0.11949726, 0.12085752, 0.12221777, 0.12357803, 0.12493829,\n",
       "        0.12629855, 0.1276588 , 0.12901905, 0.1303793 , 0.13173956,\n",
       "        0.13309981, 0.13446008, 0.13582033, 0.13718058, 0.13854083,\n",
       "        0.13990109, 0.14126135, 0.14262161, 0.14398186, 0.14534211,\n",
       "        0.14670236, 0.14806262, 0.14942288, 0.15078314, 0.15214339,\n",
       "        0.15350364, 0.15486389, 0.15622416, 0.15758441, 0.15894467,\n",
       "        0.16030492, 0.16166517, 0.16302544, 0.16438569, 0.16574594,\n",
       "        0.1671062 , 0.16846645, 0.1698267 , 0.17118697, 0.17254722,\n",
       "        0.17390747]),\n",
       " <BarContainer object of 100 artists>)"
      ]
     },
     "execution_count": 108,
     "metadata": {},
     "output_type": "execute_result"
    },
    {
     "data": {
      "image/png": "[encoded data removed]",
      "text/plain": [
       "<Figure size 640x480 with 1 Axes>"
      ]
     },
     "metadata": {},
     "output_type": "display_data"
    }
   ],
   "source": [
    "plt.hist(pmax[ypred_labels == 'A0207'], bins = 100)"
   ]
  },
  {
   "cell_type": "code",
   "execution_count": 99,
   "metadata": {},
   "outputs": [
    {
     "data": {
      "text/plain": [
       "(array([  4.,  19.,  41.,  47.,  76.,  83., 134., 111., 118., 132., 116.,\n",
       "        112.,  99., 107.,  84.,  87.,  90.,  87.,  84.,  74.,  84.,  73.,\n",
       "         56.,  56.,  45.,  40.,  40.,  38.,  35.,  35.,  31.,  30.,  25.,\n",
       "         26.,  25.,  14.,  20.,  14.,  15.,  16.,  12.,  13.,  10.,  15.,\n",
       "         13.,   7.,  13.,   6.,   3.,  10.,   5.,   9.,   1.,   2.,   3.,\n",
       "          5.,  10.,   2.,   4.,   2.,   4.,   3.,   3.,   2.,   3.,   0.,\n",
       "          1.,   1.,   0.,   2.,   2.,   2.,   1.,   1.,   2.,   2.,   1.,\n",
       "          2.,   0.,   0.,   1.,   1.,   0.,   0.,   0.,   0.,   1.,   0.,\n",
       "          1.,   0.,   1.,   1.,   0.,   0.,   1.,   0.,   1.,   0.,   0.,\n",
       "          2.]),\n",
       " array([0.02963434, 0.03410115, 0.03856796, 0.04303478, 0.04750159,\n",
       "        0.0519684 , 0.05643522, 0.06090203, 0.06536885, 0.06983566,\n",
       "        0.07430247, 0.07876928, 0.0832361 , 0.08770291, 0.09216972,\n",
       "        0.09663653, 0.10110335, 0.10557017, 0.11003698, 0.11450379,\n",
       "        0.1189706 , 0.12343742, 0.12790424, 0.13237104, 0.13683785,\n",
       "        0.14130467, 0.14577149, 0.15023831, 0.15470511, 0.15917192,\n",
       "        0.16363874, 0.16810556, 0.17257236, 0.17703918, 0.18150599,\n",
       "        0.18597281, 0.19043961, 0.19490643, 0.19937325, 0.20384006,\n",
       "        0.20830688, 0.21277368, 0.2172405 , 0.22170731, 0.22617413,\n",
       "        0.23064093, 0.23510775, 0.23957457, 0.24404138, 0.2485082 ,\n",
       "        0.25297502, 0.25744182, 0.26190862, 0.26637545, 0.27084225,\n",
       "        0.27530909, 0.27977589, 0.28424269, 0.28870952, 0.29317632,\n",
       "        0.29764315, 0.30210996, 0.30657676, 0.31104359, 0.31551039,\n",
       "        0.31997719, 0.32444403, 0.32891083, 0.33337766, 0.33784446,\n",
       "        0.34231126, 0.34677809, 0.3512449 , 0.35571173, 0.36017853,\n",
       "        0.36464533, 0.36911216, 0.37357897, 0.37804577, 0.3825126 ,\n",
       "        0.3869794 , 0.39144623, 0.39591303, 0.40037984, 0.40484667,\n",
       "        0.40931347, 0.4137803 , 0.4182471 , 0.42271391, 0.42718074,\n",
       "        0.43164754, 0.43611437, 0.44058117, 0.44504797, 0.44951481,\n",
       "        0.45398161, 0.45844841, 0.46291524, 0.46738204, 0.47184888,\n",
       "        0.47631568]),\n",
       " <BarContainer object of 100 artists>)"
      ]
     },
     "execution_count": 99,
     "metadata": {},
     "output_type": "execute_result"
    },
    {
     "data": {
      "image/png": "[encoded data removed]",
      "text/plain": [
       "<Figure size 640x480 with 1 Axes>"
      ]
     },
     "metadata": {},
     "output_type": "display_data"
    }
   ],
   "source": [
    "plt.hist(pmax[ypred_labels == 'A0101'], bins = 100)"
   ]
  },
  {
   "cell_type": "code",
   "execution_count": 66,
   "metadata": {},
   "outputs": [
    {
     "data": {
      "text/plain": [
       "['/Users/halasadi/code/pmhc_methods_tf/internal_data/2023_12_22_test_9mer_xgboost_model_null_distrib.joblib']"
      ]
     },
     "execution_count": 66,
     "metadata": {},
     "output_type": "execute_result"
    }
   ],
   "source": [
    "joblib.dump(pmax, file_path + '_null_distrib.joblib')"
   ]
  },
  {
   "cell_type": "code",
   "execution_count": 75,
   "metadata": {},
   "outputs": [],
   "source": [
    "def calculate_pval(pred_scores):\n",
    "    return(np.mean(pmax[:, np.newaxis] > pred_scores, axis=0))"
   ]
  },
  {
   "cell_type": "code",
   "execution_count": 84,
   "metadata": {},
   "outputs": [],
   "source": [
    "pred_scores = np.array([0.8, 0.5, 0.1])"
   ]
  },
  {
   "cell_type": "code",
   "execution_count": 85,
   "metadata": {},
   "outputs": [],
   "source": [
    "pvals = calculate_pval(np.array([0.5, 0.5, 0.1]))"
   ]
  },
  {
   "cell_type": "code",
   "execution_count": 86,
   "metadata": {},
   "outputs": [],
   "source": [
    "el_ranks = 100 * pvals"
   ]
  },
  {
   "cell_type": "code",
   "execution_count": 87,
   "metadata": {},
   "outputs": [
    {
     "data": {
      "text/plain": [
       "array([ 3.61 ,  3.61 , 64.444])"
      ]
     },
     "execution_count": 87,
     "metadata": {},
     "output_type": "execute_result"
    }
   ],
   "source": [
    "el_ranks"
   ]
  },
  {
   "cell_type": "code",
   "execution_count": null,
   "metadata": {},
   "outputs": [],
   "source": []
  }
 ],
 "metadata": {
  "kernelspec": {
   "display_name": "Python 3",
   "language": "python",
   "name": "python3"
  },
  "language_info": {
   "codemirror_mode": {
    "name": "ipython",
    "version": 3
   },
   "file_extension": ".py",
   "mimetype": "text/x-python",
   "name": "python",
   "nbconvert_exporter": "python",
   "pygments_lexer": "ipython3",
   "version": "3.11.6"
  }
 },
 "nbformat": 4,
 "nbformat_minor": 2
}
