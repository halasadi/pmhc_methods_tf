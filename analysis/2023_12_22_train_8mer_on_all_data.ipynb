{
 "cells": [
  {
   "cell_type": "code",
   "execution_count": 3,
   "metadata": {},
   "outputs": [],
   "source": [
    "import pandas as pd\n",
    "import xgboost as xgb\n",
    "from sklearn.model_selection import train_test_split\n",
    "from sklearn.preprocessing import LabelEncoder\n",
    "import numpy as np\n",
    "import matplotlib.pyplot as plt\n",
    "from sklearn.preprocessing import OneHotEncoder\n",
    "from sklearn.metrics import accuracy_score\n",
    "import joblib"
   ]
  },
  {
   "cell_type": "code",
   "execution_count": 18,
   "metadata": {},
   "outputs": [],
   "source": [
    "path_to_data = '../external_data/mixmhcpred/TableS2.txt'\n",
    "# ignore the first row (header)\n",
    "df = pd.read_csv(path_to_data, sep='\\t', skiprows=1)\n",
    "df['Peptide_Lengths'] = df['Peptide'].apply(len)"
   ]
  },
  {
   "cell_type": "code",
   "execution_count": 19,
   "metadata": {},
   "outputs": [],
   "source": [
    "duplicates = df[df.duplicated(subset='Peptide', keep=False)]"
   ]
  },
  {
   "cell_type": "code",
   "execution_count": 20,
   "metadata": {},
   "outputs": [
    {
     "data": {
      "text/html": [
       "<div>\n",
       "<style scoped>\n",
       "    .dataframe tbody tr th:only-of-type {\n",
       "        vertical-align: middle;\n",
       "    }\n",
       "\n",
       "    .dataframe tbody tr th {\n",
       "        vertical-align: top;\n",
       "    }\n",
       "\n",
       "    .dataframe thead th {\n",
       "        text-align: right;\n",
       "    }\n",
       "</style>\n",
       "<table border=\"1\" class=\"dataframe\">\n",
       "  <thead>\n",
       "    <tr style=\"text-align: right;\">\n",
       "      <th></th>\n",
       "      <th>Peptide</th>\n",
       "      <th>Allele</th>\n",
       "      <th>Peptide_Lengths</th>\n",
       "    </tr>\n",
       "  </thead>\n",
       "  <tbody>\n",
       "    <tr>\n",
       "      <th>1</th>\n",
       "      <td>ADMGHLKY</td>\n",
       "      <td>A0101</td>\n",
       "      <td>8</td>\n",
       "    </tr>\n",
       "    <tr>\n",
       "      <th>112390</th>\n",
       "      <td>ADMGHLKY</td>\n",
       "      <td>A3601</td>\n",
       "      <td>8</td>\n",
       "    </tr>\n",
       "    <tr>\n",
       "      <th>189307</th>\n",
       "      <td>ADMGHLKY</td>\n",
       "      <td>B1801</td>\n",
       "      <td>8</td>\n",
       "    </tr>\n",
       "    <tr>\n",
       "      <th>257109</th>\n",
       "      <td>ADMGHLKY</td>\n",
       "      <td>B4403</td>\n",
       "      <td>8</td>\n",
       "    </tr>\n",
       "  </tbody>\n",
       "</table>\n",
       "</div>"
      ],
      "text/plain": [
       "         Peptide Allele  Peptide_Lengths\n",
       "1       ADMGHLKY  A0101                8\n",
       "112390  ADMGHLKY  A3601                8\n",
       "189307  ADMGHLKY  B1801                8\n",
       "257109  ADMGHLKY  B4403                8"
      ]
     },
     "execution_count": 20,
     "metadata": {},
     "output_type": "execute_result"
    }
   ],
   "source": [
    "duplicates[duplicates['Peptide'] == 'ADMGHLKY']"
   ]
  },
  {
   "cell_type": "code",
   "execution_count": 21,
   "metadata": {},
   "outputs": [
    {
     "data": {
      "text/plain": [
       "Peptide_Lengths\n",
       "8      26284\n",
       "9     235054\n",
       "10     64993\n",
       "11     39118\n",
       "12     11798\n",
       "13      4963\n",
       "14      1860\n",
       "Name: Peptide, dtype: int64"
      ]
     },
     "execution_count": 21,
     "metadata": {},
     "output_type": "execute_result"
    }
   ],
   "source": [
    "df.groupby('Peptide_Lengths')['Peptide'].count()"
   ]
  },
  {
   "cell_type": "code",
   "execution_count": 22,
   "metadata": {},
   "outputs": [],
   "source": [
    "df['PeptideShortened'] = df['Peptide'].apply(lambda x: x[:4] + x[-4:])"
   ]
  },
  {
   "cell_type": "markdown",
   "metadata": {},
   "source": [
    "Make sure lengths are equally represented"
   ]
  },
  {
   "cell_type": "code",
   "execution_count": 24,
   "metadata": {},
   "outputs": [],
   "source": [
    "def limit_rows(group):\n",
    "    return group.head(10000)\n",
    "\n",
    "df = df.groupby('Peptide_Lengths').apply(limit_rows).reset_index(drop=True)"
   ]
  },
  {
   "cell_type": "markdown",
   "metadata": {},
   "source": []
  },
  {
   "cell_type": "code",
   "execution_count": 25,
   "metadata": {},
   "outputs": [],
   "source": [
    "allele_counts = df['Allele'].value_counts()\n",
    "# Create a mask to filter IDs that appear at least 10 times\n",
    "mask = df['Allele'].map(allele_counts) >= 10\n",
    "df = df[mask]"
   ]
  },
  {
   "cell_type": "code",
   "execution_count": 26,
   "metadata": {},
   "outputs": [],
   "source": [
    "encoder = OneHotEncoder()\n",
    "X_encoded = np.array([list(s) for s in df['PeptideShortened'].values])\n",
    "X_encoded = encoder.fit_transform(X_encoded).toarray()\n",
    "\n",
    "label_encoder = LabelEncoder()\n",
    "# Fit the encoder on your class labels and transform them into numerical labels\n",
    "y_labeled = label_encoder.fit_transform(df['Allele'].values)"
   ]
  },
  {
   "cell_type": "code",
   "execution_count": 83,
   "metadata": {},
   "outputs": [],
   "source": [
    "#from sklearn.utils.class_weight import compute_sample_weight\n",
    "#classes_weights = compute_sample_weight(\n",
    "#    class_weight='balanced',\n",
    "#    y=y_labeled\n",
    "#)\n",
    "\n",
    "# calc"
   ]
  },
  {
   "cell_type": "code",
   "execution_count": 27,
   "metadata": {},
   "outputs": [],
   "source": [
    "indices = np.arange(len(X_encoded))\n",
    "X_train_encoded, X_test_encoded, y_train_labeled, y_test_labeled, indices_train, indices_test, = train_test_split(X_encoded, y_labeled, indices, test_size=0.1, random_state=1)"
   ]
  },
  {
   "cell_type": "code",
   "execution_count": 31,
   "metadata": {},
   "outputs": [
    {
     "name": "stdout",
     "output_type": "stream",
     "text": [
      "[0]\tvalidation_0-mlogloss:2.23208\tvalidation_1-mlogloss:2.22509\n",
      "[1]\tvalidation_0-mlogloss:2.05930\tvalidation_1-mlogloss:2.07763\n",
      "[2]\tvalidation_0-mlogloss:1.81296\tvalidation_1-mlogloss:1.84983\n",
      "[3]\tvalidation_0-mlogloss:1.71205\tvalidation_1-mlogloss:1.76091\n",
      "[4]\tvalidation_0-mlogloss:1.63535\tvalidation_1-mlogloss:1.69724\n",
      "[5]\tvalidation_0-mlogloss:1.57229\tvalidation_1-mlogloss:1.64649\n",
      "[6]\tvalidation_0-mlogloss:1.51733\tvalidation_1-mlogloss:1.60177\n",
      "[7]\tvalidation_0-mlogloss:1.47065\tvalidation_1-mlogloss:1.56492\n",
      "[8]\tvalidation_0-mlogloss:1.43167\tvalidation_1-mlogloss:1.53638\n",
      "[9]\tvalidation_0-mlogloss:1.39637\tvalidation_1-mlogloss:1.50939\n",
      "[10]\tvalidation_0-mlogloss:1.36605\tvalidation_1-mlogloss:1.48686\n",
      "[11]\tvalidation_0-mlogloss:1.33844\tvalidation_1-mlogloss:1.46802\n",
      "[12]\tvalidation_0-mlogloss:1.31291\tvalidation_1-mlogloss:1.45012\n",
      "[13]\tvalidation_0-mlogloss:1.29016\tvalidation_1-mlogloss:1.43473\n",
      "[14]\tvalidation_0-mlogloss:1.26960\tvalidation_1-mlogloss:1.42136\n",
      "[15]\tvalidation_0-mlogloss:1.25018\tvalidation_1-mlogloss:1.40889\n",
      "[16]\tvalidation_0-mlogloss:1.23195\tvalidation_1-mlogloss:1.39798\n",
      "[17]\tvalidation_0-mlogloss:1.21532\tvalidation_1-mlogloss:1.38885\n",
      "[18]\tvalidation_0-mlogloss:1.20038\tvalidation_1-mlogloss:1.38028\n",
      "[19]\tvalidation_0-mlogloss:1.18550\tvalidation_1-mlogloss:1.37195\n",
      "[20]\tvalidation_0-mlogloss:1.17226\tvalidation_1-mlogloss:1.36549\n",
      "[21]\tvalidation_0-mlogloss:1.15992\tvalidation_1-mlogloss:1.35912\n",
      "[22]\tvalidation_0-mlogloss:1.14735\tvalidation_1-mlogloss:1.35290\n",
      "[23]\tvalidation_0-mlogloss:1.13650\tvalidation_1-mlogloss:1.34704\n",
      "[24]\tvalidation_0-mlogloss:1.12581\tvalidation_1-mlogloss:1.34255\n",
      "[25]\tvalidation_0-mlogloss:1.11596\tvalidation_1-mlogloss:1.33880\n",
      "[26]\tvalidation_0-mlogloss:1.10672\tvalidation_1-mlogloss:1.33502\n",
      "[27]\tvalidation_0-mlogloss:1.09749\tvalidation_1-mlogloss:1.33071\n",
      "[28]\tvalidation_0-mlogloss:1.08832\tvalidation_1-mlogloss:1.32776\n",
      "[29]\tvalidation_0-mlogloss:1.07999\tvalidation_1-mlogloss:1.32468\n"
     ]
    },
    {
     "data": {
      "text/html": [
       "<style>#sk-container-id-2 {color: black;}#sk-container-id-2 pre{padding: 0;}#sk-container-id-2 div.sk-toggleable {background-color: white;}#sk-container-id-2 label.sk-toggleable__label {cursor: pointer;display: block;width: 100%;margin-bottom: 0;padding: 0.3em;box-sizing: border-box;text-align: center;}#sk-container-id-2 label.sk-toggleable__label-arrow:before {content: \"▸\";float: left;margin-right: 0.25em;color: #696969;}#sk-container-id-2 label.sk-toggleable__label-arrow:hover:before {color: black;}#sk-container-id-2 div.sk-estimator:hover label.sk-toggleable__label-arrow:before {color: black;}#sk-container-id-2 div.sk-toggleable__content {max-height: 0;max-width: 0;overflow: hidden;text-align: left;background-color: #f0f8ff;}#sk-container-id-2 div.sk-toggleable__content pre {margin: 0.2em;color: black;border-radius: 0.25em;background-color: #f0f8ff;}#sk-container-id-2 input.sk-toggleable__control:checked~div.sk-toggleable__content {max-height: 200px;max-width: 100%;overflow: auto;}#sk-container-id-2 input.sk-toggleable__control:checked~label.sk-toggleable__label-arrow:before {content: \"▾\";}#sk-container-id-2 div.sk-estimator input.sk-toggleable__control:checked~label.sk-toggleable__label {background-color: #d4ebff;}#sk-container-id-2 div.sk-label input.sk-toggleable__control:checked~label.sk-toggleable__label {background-color: #d4ebff;}#sk-container-id-2 input.sk-hidden--visually {border: 0;clip: rect(1px 1px 1px 1px);clip: rect(1px, 1px, 1px, 1px);height: 1px;margin: -1px;overflow: hidden;padding: 0;position: absolute;width: 1px;}#sk-container-id-2 div.sk-estimator {font-family: monospace;background-color: #f0f8ff;border: 1px dotted black;border-radius: 0.25em;box-sizing: border-box;margin-bottom: 0.5em;}#sk-container-id-2 div.sk-estimator:hover {background-color: #d4ebff;}#sk-container-id-2 div.sk-parallel-item::after {content: \"\";width: 100%;border-bottom: 1px solid gray;flex-grow: 1;}#sk-container-id-2 div.sk-label:hover label.sk-toggleable__label {background-color: #d4ebff;}#sk-container-id-2 div.sk-serial::before {content: \"\";position: absolute;border-left: 1px solid gray;box-sizing: border-box;top: 0;bottom: 0;left: 50%;z-index: 0;}#sk-container-id-2 div.sk-serial {display: flex;flex-direction: column;align-items: center;background-color: white;padding-right: 0.2em;padding-left: 0.2em;position: relative;}#sk-container-id-2 div.sk-item {position: relative;z-index: 1;}#sk-container-id-2 div.sk-parallel {display: flex;align-items: stretch;justify-content: center;background-color: white;position: relative;}#sk-container-id-2 div.sk-item::before, #sk-container-id-2 div.sk-parallel-item::before {content: \"\";position: absolute;border-left: 1px solid gray;box-sizing: border-box;top: 0;bottom: 0;left: 50%;z-index: -1;}#sk-container-id-2 div.sk-parallel-item {display: flex;flex-direction: column;z-index: 1;position: relative;background-color: white;}#sk-container-id-2 div.sk-parallel-item:first-child::after {align-self: flex-end;width: 50%;}#sk-container-id-2 div.sk-parallel-item:last-child::after {align-self: flex-start;width: 50%;}#sk-container-id-2 div.sk-parallel-item:only-child::after {width: 0;}#sk-container-id-2 div.sk-dashed-wrapped {border: 1px dashed gray;margin: 0 0.4em 0.5em 0.4em;box-sizing: border-box;padding-bottom: 0.4em;background-color: white;}#sk-container-id-2 div.sk-label label {font-family: monospace;font-weight: bold;display: inline-block;line-height: 1.2em;}#sk-container-id-2 div.sk-label-container {text-align: center;}#sk-container-id-2 div.sk-container {/* jupyter's `normalize.less` sets `[hidden] { display: none; }` but bootstrap.min.css set `[hidden] { display: none !important; }` so we also need the `!important` here to be able to override the default hidden behavior on the sphinx rendered scikit-learn.org. See: https://github.com/scikit-learn/scikit-learn/issues/21755 */display: inline-block !important;position: relative;}#sk-container-id-2 div.sk-text-repr-fallback {display: none;}</style><div id=\"sk-container-id-2\" class=\"sk-top-container\"><div class=\"sk-text-repr-fallback\"><pre>XGBClassifier(alpha=0.01, base_score=None, booster=None, callbacks=None,\n",
       "              colsample_bylevel=None, colsample_bynode=None,\n",
       "              colsample_bytree=None, device=None, early_stopping_rounds=None,\n",
       "              enable_categorical=False, eval_metric=&#x27;mlogloss&#x27;,\n",
       "              feature_types=None, gamma=None, grow_policy=None,\n",
       "              importance_type=None, interaction_constraints=None,\n",
       "              learning_rate=0.2, max_bin=None, max_cat_threshold=None,\n",
       "              max_cat_to_onehot=None, max_delta_step=None, max_depth=None,\n",
       "              max_leaves=None, min_child_weight=None, missing=nan,\n",
       "              monotone_constraints=None, multi_strategy=None, n_estimators=30,\n",
       "              n_jobs=None, num_class=94, ...)</pre><b>In a Jupyter environment, please rerun this cell to show the HTML representation or trust the notebook. <br />On GitHub, the HTML representation is unable to render, please try loading this page with nbviewer.org.</b></div><div class=\"sk-container\" hidden><div class=\"sk-item\"><div class=\"sk-estimator sk-toggleable\"><input class=\"sk-toggleable__control sk-hidden--visually\" id=\"sk-estimator-id-2\" type=\"checkbox\" checked><label for=\"sk-estimator-id-2\" class=\"sk-toggleable__label sk-toggleable__label-arrow\">XGBClassifier</label><div class=\"sk-toggleable__content\"><pre>XGBClassifier(alpha=0.01, base_score=None, booster=None, callbacks=None,\n",
       "              colsample_bylevel=None, colsample_bynode=None,\n",
       "              colsample_bytree=None, device=None, early_stopping_rounds=None,\n",
       "              enable_categorical=False, eval_metric=&#x27;mlogloss&#x27;,\n",
       "              feature_types=None, gamma=None, grow_policy=None,\n",
       "              importance_type=None, interaction_constraints=None,\n",
       "              learning_rate=0.2, max_bin=None, max_cat_threshold=None,\n",
       "              max_cat_to_onehot=None, max_delta_step=None, max_depth=None,\n",
       "              max_leaves=None, min_child_weight=None, missing=nan,\n",
       "              monotone_constraints=None, multi_strategy=None, n_estimators=30,\n",
       "              n_jobs=None, num_class=94, ...)</pre></div></div></div></div></div>"
      ],
      "text/plain": [
       "XGBClassifier(alpha=0.01, base_score=None, booster=None, callbacks=None,\n",
       "              colsample_bylevel=None, colsample_bynode=None,\n",
       "              colsample_bytree=None, device=None, early_stopping_rounds=None,\n",
       "              enable_categorical=False, eval_metric='mlogloss',\n",
       "              feature_types=None, gamma=None, grow_policy=None,\n",
       "              importance_type=None, interaction_constraints=None,\n",
       "              learning_rate=0.2, max_bin=None, max_cat_threshold=None,\n",
       "              max_cat_to_onehot=None, max_delta_step=None, max_depth=None,\n",
       "              max_leaves=None, min_child_weight=None, missing=nan,\n",
       "              monotone_constraints=None, multi_strategy=None, n_estimators=30,\n",
       "              n_jobs=None, num_class=94, ...)"
      ]
     },
     "execution_count": 31,
     "metadata": {},
     "output_type": "execute_result"
    }
   ],
   "source": [
    "num_classes = len(np.unique(df['Allele']))\n",
    "model_all = xgb.XGBClassifier(\n",
    "    objective='multi:softmax',\n",
    "    num_class=num_classes,\n",
    "    learning_rate=0.2,\n",
    "    n_estimators=40,\n",
    "    eval_metric = \"mlogloss\",\n",
    "    alpha = 0.005,\n",
    ")\n",
    "\n",
    "# Train the model while monitoring the evaluation metrics\n",
    "model_all.fit(\n",
    "    X_train_encoded, y_train_labeled,\n",
    "    eval_set=[(X_train_encoded, y_train_labeled), (X_test_encoded, y_test_labeled)],  # Datasets for evaluation\n",
    "    verbose=True\n",
    ")"
   ]
  },
  {
   "cell_type": "code",
   "execution_count": 29,
   "metadata": {},
   "outputs": [
    {
     "data": {
      "image/png": "[encoded data removed]",
      "text/plain": [
       "<Figure size 1000x600 with 1 Axes>"
      ]
     },
     "metadata": {},
     "output_type": "display_data"
    }
   ],
   "source": [
    "# Get the evaluation results for both training and validation sets\n",
    "results = model_all.evals_result()\n",
    "\n",
    "# Extract log-loss values\n",
    "train_logloss = results[\"validation_0\"][\"mlogloss\"]\n",
    "test_logloss = results[\"validation_1\"][\"mlogloss\"]\n",
    "\n",
    "# Plot log-loss\n",
    "plt.figure(figsize=(10, 6))\n",
    "plt.plot(train_logloss, label=\"Training Log-loss\")\n",
    "plt.plot(test_logloss, label=\"Testing Log-loss\")\n",
    "plt.xlabel(\"Boosting Round\")\n",
    "plt.ylabel(\"Log-loss\")\n",
    "plt.title(\"Training and Testing Log-loss\")\n",
    "plt.legend()\n",
    "plt.grid(True)\n",
    "plt.show()"
   ]
  },
  {
   "cell_type": "code",
   "execution_count": 9,
   "metadata": {},
   "outputs": [],
   "source": [
    "def save_model_params(feature_encoder, label_encoder, my_model, file_path):\n",
    "    joblib.dump(my_model, file_path + \"_xgboost_model.joblib\")\n",
    "    joblib.dump(feature_encoder, file_path + '_feature_encoder.joblib')\n",
    "    joblib.dump(label_encoder, file_path + '_label_encoder.joblib')"
   ]
  },
  {
   "cell_type": "code",
   "execution_count": 10,
   "metadata": {},
   "outputs": [],
   "source": [
    "save_model_params(encoder, label_encoder, model_all,\n",
    "                  \"/Users/halasadi/code/pmhc_methods_tf/internal_data/2023_12_22_all_8mer_xgboost_model\")"
   ]
  },
  {
   "cell_type": "code",
   "execution_count": 33,
   "metadata": {},
   "outputs": [],
   "source": [
    "joblib.dump(indices_test)"
   ]
  },
  {
   "cell_type": "code",
   "execution_count": null,
   "metadata": {},
   "outputs": [],
   "source": []
  }
 ],
 "metadata": {
  "kernelspec": {
   "display_name": "Python 3",
   "language": "python",
   "name": "python3"
  },
  "language_info": {
   "codemirror_mode": {
    "name": "ipython",
    "version": 3
   },
   "file_extension": ".py",
   "mimetype": "text/x-python",
   "name": "python",
   "nbconvert_exporter": "python",
   "pygments_lexer": "ipython3",
   "version": "3.11.6"
  }
 },
 "nbformat": 4,
 "nbformat_minor": 2
}
