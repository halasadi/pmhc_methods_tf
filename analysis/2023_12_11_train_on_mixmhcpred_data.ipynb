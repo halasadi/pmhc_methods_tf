{
 "cells": [
  {
   "cell_type": "code",
   "execution_count": 1,
   "metadata": {},
   "outputs": [],
   "source": [
    "import pandas as pd\n",
    "import xgboost as xgb\n",
    "from sklearn.model_selection import train_test_split\n",
    "from sklearn.preprocessing import LabelEncoder\n",
    "import numpy as np\n",
    "import matplotlib.pyplot as plt\n",
    "from sklearn.preprocessing import OneHotEncoder\n",
    "from sklearn.metrics import accuracy_score"
   ]
  },
  {
   "cell_type": "markdown",
   "metadata": {},
   "source": [
    "# Load data "
   ]
  },
  {
   "cell_type": "code",
   "execution_count": 2,
   "metadata": {},
   "outputs": [],
   "source": [
    "path_to_data = '../external_data/mixmhcpred/TableS2.txt'\n",
    "# ignore the first row (header)\n",
    "df = pd.read_csv(path_to_data, sep='\\t', skiprows=1)"
   ]
  },
  {
   "cell_type": "code",
   "execution_count": 3,
   "metadata": {},
   "outputs": [
    {
     "data": {
      "text/plain": [
       "<Axes: >"
      ]
     },
     "execution_count": 3,
     "metadata": {},
     "output_type": "execute_result"
    },
    {
     "data": {
      "image/png": "[encoded data removed]",
      "text/plain": [
       "<Figure size 640x480 with 1 Axes>"
      ]
     },
     "metadata": {},
     "output_type": "display_data"
    }
   ],
   "source": [
    "# length distributions of peptides\n",
    "df['Peptide_Lengths'] = df['Peptide'].apply(len)\n",
    "df['Peptide_Lengths'].hist(bins=20)"
   ]
  },
  {
   "cell_type": "markdown",
   "metadata": {},
   "source": [
    "# Build XgBoost model for peptides with length of 9"
   ]
  },
  {
   "cell_type": "code",
   "execution_count": 4,
   "metadata": {},
   "outputs": [],
   "source": [
    "df_9 = df[df['Peptide_Lengths'] == 9]"
   ]
  },
  {
   "cell_type": "code",
   "execution_count": 5,
   "metadata": {},
   "outputs": [],
   "source": [
    "ninemer_encoder = OneHotEncoder()\n",
    "X_encoded = np.array([list(s) for s in df_9['Peptide'].values])\n",
    "X_encoded = ninemer_encoder.fit_transform(X_encoded).toarray()\n",
    "\n",
    "ninemer_label_encoder = LabelEncoder()\n",
    "# Fit the encoder on your class labels and transform them into numerical labels\n",
    "y_labeled = ninemer_label_encoder.fit_transform(df_9['Allele'].values)\n"
   ]
  },
  {
   "cell_type": "code",
   "execution_count": 6,
   "metadata": {},
   "outputs": [],
   "source": [
    "X_train_encoded, X_test_encoded, y_train_labeled, y_test_labeled = train_test_split(X_encoded, y_labeled, test_size=0.1, random_state=1)\n",
    "X_train_encoded, X_valid_encoded, y_train_labeled, y_valid_encoded = train_test_split(X_train_encoded, y_train_labeled, test_size=0.12, random_state=1) # 0.12 x 0.9 ~ 0.1"
   ]
  },
  {
   "cell_type": "code",
   "execution_count": 7,
   "metadata": {},
   "outputs": [
    {
     "name": "stdout",
     "output_type": "stream",
     "text": [
      "[0]\tvalidation_0-mlogloss:3.89762\tvalidation_1-mlogloss:3.90228\n",
      "[1]\tvalidation_0-mlogloss:3.65873\tvalidation_1-mlogloss:3.66480\n",
      "[2]\tvalidation_0-mlogloss:3.49450\tvalidation_1-mlogloss:3.50213\n",
      "[3]\tvalidation_0-mlogloss:3.36478\tvalidation_1-mlogloss:3.37325\n",
      "[4]\tvalidation_0-mlogloss:3.25931\tvalidation_1-mlogloss:3.26894\n",
      "[5]\tvalidation_0-mlogloss:3.16857\tvalidation_1-mlogloss:3.17932\n",
      "[6]\tvalidation_0-mlogloss:3.09055\tvalidation_1-mlogloss:3.10214\n",
      "[7]\tvalidation_0-mlogloss:3.02149\tvalidation_1-mlogloss:3.03415\n",
      "[8]\tvalidation_0-mlogloss:2.96013\tvalidation_1-mlogloss:2.97321\n",
      "[9]\tvalidation_0-mlogloss:2.90552\tvalidation_1-mlogloss:2.91946\n",
      "[10]\tvalidation_0-mlogloss:2.85536\tvalidation_1-mlogloss:2.87031\n",
      "[11]\tvalidation_0-mlogloss:2.81008\tvalidation_1-mlogloss:2.82578\n",
      "[12]\tvalidation_0-mlogloss:2.76874\tvalidation_1-mlogloss:2.78510\n",
      "[13]\tvalidation_0-mlogloss:2.73059\tvalidation_1-mlogloss:2.74775\n",
      "[14]\tvalidation_0-mlogloss:2.69503\tvalidation_1-mlogloss:2.71310\n",
      "[15]\tvalidation_0-mlogloss:2.66264\tvalidation_1-mlogloss:2.68183\n",
      "[16]\tvalidation_0-mlogloss:2.63198\tvalidation_1-mlogloss:2.65207\n",
      "[17]\tvalidation_0-mlogloss:2.60366\tvalidation_1-mlogloss:2.62478\n",
      "[18]\tvalidation_0-mlogloss:2.57705\tvalidation_1-mlogloss:2.59858\n",
      "[19]\tvalidation_0-mlogloss:2.55199\tvalidation_1-mlogloss:2.57419\n",
      "[20]\tvalidation_0-mlogloss:2.52846\tvalidation_1-mlogloss:2.55144\n",
      "[21]\tvalidation_0-mlogloss:2.50669\tvalidation_1-mlogloss:2.53032\n",
      "[22]\tvalidation_0-mlogloss:2.48602\tvalidation_1-mlogloss:2.51038\n",
      "[23]\tvalidation_0-mlogloss:2.46658\tvalidation_1-mlogloss:2.49166\n",
      "[24]\tvalidation_0-mlogloss:2.44798\tvalidation_1-mlogloss:2.47370\n",
      "[25]\tvalidation_0-mlogloss:2.43056\tvalidation_1-mlogloss:2.45676\n",
      "[26]\tvalidation_0-mlogloss:2.41366\tvalidation_1-mlogloss:2.44065\n",
      "[27]\tvalidation_0-mlogloss:2.39793\tvalidation_1-mlogloss:2.42546\n",
      "[28]\tvalidation_0-mlogloss:2.38290\tvalidation_1-mlogloss:2.41101\n",
      "[29]\tvalidation_0-mlogloss:2.36858\tvalidation_1-mlogloss:2.39702\n",
      "[30]\tvalidation_0-mlogloss:2.35477\tvalidation_1-mlogloss:2.38381\n",
      "[31]\tvalidation_0-mlogloss:2.34175\tvalidation_1-mlogloss:2.37139\n",
      "[32]\tvalidation_0-mlogloss:2.32930\tvalidation_1-mlogloss:2.35962\n",
      "[33]\tvalidation_0-mlogloss:2.31741\tvalidation_1-mlogloss:2.34839\n",
      "[34]\tvalidation_0-mlogloss:2.30591\tvalidation_1-mlogloss:2.33766\n",
      "[35]\tvalidation_0-mlogloss:2.29497\tvalidation_1-mlogloss:2.32696\n",
      "[36]\tvalidation_0-mlogloss:2.28442\tvalidation_1-mlogloss:2.31706\n",
      "[37]\tvalidation_0-mlogloss:2.27421\tvalidation_1-mlogloss:2.30747\n",
      "[38]\tvalidation_0-mlogloss:2.26457\tvalidation_1-mlogloss:2.29822\n",
      "[39]\tvalidation_0-mlogloss:2.25520\tvalidation_1-mlogloss:2.28945\n",
      "[40]\tvalidation_0-mlogloss:2.24614\tvalidation_1-mlogloss:2.28100\n",
      "[41]\tvalidation_0-mlogloss:2.23747\tvalidation_1-mlogloss:2.27292\n",
      "[42]\tvalidation_0-mlogloss:2.22917\tvalidation_1-mlogloss:2.26526\n",
      "[43]\tvalidation_0-mlogloss:2.22127\tvalidation_1-mlogloss:2.25783\n",
      "[44]\tvalidation_0-mlogloss:2.21369\tvalidation_1-mlogloss:2.25087\n",
      "[45]\tvalidation_0-mlogloss:2.20604\tvalidation_1-mlogloss:2.24360\n",
      "[46]\tvalidation_0-mlogloss:2.19872\tvalidation_1-mlogloss:2.23683\n",
      "[47]\tvalidation_0-mlogloss:2.19164\tvalidation_1-mlogloss:2.23038\n",
      "[48]\tvalidation_0-mlogloss:2.18484\tvalidation_1-mlogloss:2.22402\n",
      "[49]\tvalidation_0-mlogloss:2.17816\tvalidation_1-mlogloss:2.21808\n",
      "[50]\tvalidation_0-mlogloss:2.17178\tvalidation_1-mlogloss:2.21231\n",
      "[51]\tvalidation_0-mlogloss:2.16562\tvalidation_1-mlogloss:2.20653\n",
      "[52]\tvalidation_0-mlogloss:2.15950\tvalidation_1-mlogloss:2.20103\n",
      "[53]\tvalidation_0-mlogloss:2.15369\tvalidation_1-mlogloss:2.19575\n",
      "[54]\tvalidation_0-mlogloss:2.14809\tvalidation_1-mlogloss:2.19071\n",
      "[55]\tvalidation_0-mlogloss:2.14249\tvalidation_1-mlogloss:2.18567\n",
      "[56]\tvalidation_0-mlogloss:2.13701\tvalidation_1-mlogloss:2.18081\n",
      "[57]\tvalidation_0-mlogloss:2.13162\tvalidation_1-mlogloss:2.17607\n",
      "[58]\tvalidation_0-mlogloss:2.12645\tvalidation_1-mlogloss:2.17146\n",
      "[59]\tvalidation_0-mlogloss:2.12140\tvalidation_1-mlogloss:2.16681\n",
      "[60]\tvalidation_0-mlogloss:2.11646\tvalidation_1-mlogloss:2.16234\n",
      "[61]\tvalidation_0-mlogloss:2.11183\tvalidation_1-mlogloss:2.15820\n",
      "[62]\tvalidation_0-mlogloss:2.10713\tvalidation_1-mlogloss:2.15417\n",
      "[63]\tvalidation_0-mlogloss:2.10258\tvalidation_1-mlogloss:2.15006\n",
      "[64]\tvalidation_0-mlogloss:2.09805\tvalidation_1-mlogloss:2.14607\n",
      "[65]\tvalidation_0-mlogloss:2.09385\tvalidation_1-mlogloss:2.14247\n",
      "[66]\tvalidation_0-mlogloss:2.08964\tvalidation_1-mlogloss:2.13885\n",
      "[67]\tvalidation_0-mlogloss:2.08553\tvalidation_1-mlogloss:2.13534\n",
      "[68]\tvalidation_0-mlogloss:2.08143\tvalidation_1-mlogloss:2.13197\n",
      "[69]\tvalidation_0-mlogloss:2.07736\tvalidation_1-mlogloss:2.12826\n",
      "[70]\tvalidation_0-mlogloss:2.07343\tvalidation_1-mlogloss:2.12486\n",
      "[71]\tvalidation_0-mlogloss:2.06958\tvalidation_1-mlogloss:2.12161\n",
      "[72]\tvalidation_0-mlogloss:2.06577\tvalidation_1-mlogloss:2.11829\n",
      "[73]\tvalidation_0-mlogloss:2.06213\tvalidation_1-mlogloss:2.11518\n",
      "[74]\tvalidation_0-mlogloss:2.05850\tvalidation_1-mlogloss:2.11212\n",
      "[75]\tvalidation_0-mlogloss:2.05482\tvalidation_1-mlogloss:2.10889\n",
      "[76]\tvalidation_0-mlogloss:2.05118\tvalidation_1-mlogloss:2.10566\n",
      "[77]\tvalidation_0-mlogloss:2.04765\tvalidation_1-mlogloss:2.10273\n",
      "[78]\tvalidation_0-mlogloss:2.04422\tvalidation_1-mlogloss:2.09977\n",
      "[79]\tvalidation_0-mlogloss:2.04085\tvalidation_1-mlogloss:2.09678\n",
      "[80]\tvalidation_0-mlogloss:2.03761\tvalidation_1-mlogloss:2.09422\n",
      "[81]\tvalidation_0-mlogloss:2.03441\tvalidation_1-mlogloss:2.09162\n",
      "[82]\tvalidation_0-mlogloss:2.03127\tvalidation_1-mlogloss:2.08906\n",
      "[83]\tvalidation_0-mlogloss:2.02813\tvalidation_1-mlogloss:2.08645\n",
      "[84]\tvalidation_0-mlogloss:2.02505\tvalidation_1-mlogloss:2.08395\n",
      "[85]\tvalidation_0-mlogloss:2.02184\tvalidation_1-mlogloss:2.08138\n",
      "[86]\tvalidation_0-mlogloss:2.01883\tvalidation_1-mlogloss:2.07882\n",
      "[87]\tvalidation_0-mlogloss:2.01591\tvalidation_1-mlogloss:2.07647\n",
      "[88]\tvalidation_0-mlogloss:2.01304\tvalidation_1-mlogloss:2.07418\n",
      "[89]\tvalidation_0-mlogloss:2.01014\tvalidation_1-mlogloss:2.07178\n",
      "[90]\tvalidation_0-mlogloss:2.00730\tvalidation_1-mlogloss:2.06941\n",
      "[91]\tvalidation_0-mlogloss:2.00456\tvalidation_1-mlogloss:2.06714\n",
      "[92]\tvalidation_0-mlogloss:2.00175\tvalidation_1-mlogloss:2.06490\n",
      "[93]\tvalidation_0-mlogloss:1.99901\tvalidation_1-mlogloss:2.06268\n",
      "[94]\tvalidation_0-mlogloss:1.99628\tvalidation_1-mlogloss:2.06043\n",
      "[95]\tvalidation_0-mlogloss:1.99363\tvalidation_1-mlogloss:2.05819\n",
      "[96]\tvalidation_0-mlogloss:1.99101\tvalidation_1-mlogloss:2.05609\n",
      "[97]\tvalidation_0-mlogloss:1.98835\tvalidation_1-mlogloss:2.05390\n",
      "[98]\tvalidation_0-mlogloss:1.98579\tvalidation_1-mlogloss:2.05198\n",
      "[99]\tvalidation_0-mlogloss:1.98327\tvalidation_1-mlogloss:2.04996\n"
     ]
    },
    {
     "data": {
      "text/html": [
       "<style>#sk-container-id-1 {color: black;}#sk-container-id-1 pre{padding: 0;}#sk-container-id-1 div.sk-toggleable {background-color: white;}#sk-container-id-1 label.sk-toggleable__label {cursor: pointer;display: block;width: 100%;margin-bottom: 0;padding: 0.3em;box-sizing: border-box;text-align: center;}#sk-container-id-1 label.sk-toggleable__label-arrow:before {content: \"▸\";float: left;margin-right: 0.25em;color: #696969;}#sk-container-id-1 label.sk-toggleable__label-arrow:hover:before {color: black;}#sk-container-id-1 div.sk-estimator:hover label.sk-toggleable__label-arrow:before {color: black;}#sk-container-id-1 div.sk-toggleable__content {max-height: 0;max-width: 0;overflow: hidden;text-align: left;background-color: #f0f8ff;}#sk-container-id-1 div.sk-toggleable__content pre {margin: 0.2em;color: black;border-radius: 0.25em;background-color: #f0f8ff;}#sk-container-id-1 input.sk-toggleable__control:checked~div.sk-toggleable__content {max-height: 200px;max-width: 100%;overflow: auto;}#sk-container-id-1 input.sk-toggleable__control:checked~label.sk-toggleable__label-arrow:before {content: \"▾\";}#sk-container-id-1 div.sk-estimator input.sk-toggleable__control:checked~label.sk-toggleable__label {background-color: #d4ebff;}#sk-container-id-1 div.sk-label input.sk-toggleable__control:checked~label.sk-toggleable__label {background-color: #d4ebff;}#sk-container-id-1 input.sk-hidden--visually {border: 0;clip: rect(1px 1px 1px 1px);clip: rect(1px, 1px, 1px, 1px);height: 1px;margin: -1px;overflow: hidden;padding: 0;position: absolute;width: 1px;}#sk-container-id-1 div.sk-estimator {font-family: monospace;background-color: #f0f8ff;border: 1px dotted black;border-radius: 0.25em;box-sizing: border-box;margin-bottom: 0.5em;}#sk-container-id-1 div.sk-estimator:hover {background-color: #d4ebff;}#sk-container-id-1 div.sk-parallel-item::after {content: \"\";width: 100%;border-bottom: 1px solid gray;flex-grow: 1;}#sk-container-id-1 div.sk-label:hover label.sk-toggleable__label {background-color: #d4ebff;}#sk-container-id-1 div.sk-serial::before {content: \"\";position: absolute;border-left: 1px solid gray;box-sizing: border-box;top: 0;bottom: 0;left: 50%;z-index: 0;}#sk-container-id-1 div.sk-serial {display: flex;flex-direction: column;align-items: center;background-color: white;padding-right: 0.2em;padding-left: 0.2em;position: relative;}#sk-container-id-1 div.sk-item {position: relative;z-index: 1;}#sk-container-id-1 div.sk-parallel {display: flex;align-items: stretch;justify-content: center;background-color: white;position: relative;}#sk-container-id-1 div.sk-item::before, #sk-container-id-1 div.sk-parallel-item::before {content: \"\";position: absolute;border-left: 1px solid gray;box-sizing: border-box;top: 0;bottom: 0;left: 50%;z-index: -1;}#sk-container-id-1 div.sk-parallel-item {display: flex;flex-direction: column;z-index: 1;position: relative;background-color: white;}#sk-container-id-1 div.sk-parallel-item:first-child::after {align-self: flex-end;width: 50%;}#sk-container-id-1 div.sk-parallel-item:last-child::after {align-self: flex-start;width: 50%;}#sk-container-id-1 div.sk-parallel-item:only-child::after {width: 0;}#sk-container-id-1 div.sk-dashed-wrapped {border: 1px dashed gray;margin: 0 0.4em 0.5em 0.4em;box-sizing: border-box;padding-bottom: 0.4em;background-color: white;}#sk-container-id-1 div.sk-label label {font-family: monospace;font-weight: bold;display: inline-block;line-height: 1.2em;}#sk-container-id-1 div.sk-label-container {text-align: center;}#sk-container-id-1 div.sk-container {/* jupyter's `normalize.less` sets `[hidden] { display: none; }` but bootstrap.min.css set `[hidden] { display: none !important; }` so we also need the `!important` here to be able to override the default hidden behavior on the sphinx rendered scikit-learn.org. See: https://github.com/scikit-learn/scikit-learn/issues/21755 */display: inline-block !important;position: relative;}#sk-container-id-1 div.sk-text-repr-fallback {display: none;}</style><div id=\"sk-container-id-1\" class=\"sk-top-container\"><div class=\"sk-text-repr-fallback\"><pre>XGBClassifier(base_score=None, booster=None, callbacks=None,\n",
       "              colsample_bylevel=None, colsample_bynode=None,\n",
       "              colsample_bytree=None, device=None, early_stopping_rounds=None,\n",
       "              enable_categorical=False, eval_metric=&#x27;mlogloss&#x27;,\n",
       "              feature_types=None, gamma=None, grow_policy=None,\n",
       "              importance_type=None, interaction_constraints=None,\n",
       "              learning_rate=0.1, max_bin=None, max_cat_threshold=None,\n",
       "              max_cat_to_onehot=None, max_delta_step=None, max_depth=3,\n",
       "              max_leaves=None, min_child_weight=None, missing=nan,\n",
       "              monotone_constraints=None, multi_strategy=None, n_estimators=100,\n",
       "              n_jobs=None, num_class=119, num_parallel_tree=None, ...)</pre><b>In a Jupyter environment, please rerun this cell to show the HTML representation or trust the notebook. <br />On GitHub, the HTML representation is unable to render, please try loading this page with nbviewer.org.</b></div><div class=\"sk-container\" hidden><div class=\"sk-item\"><div class=\"sk-estimator sk-toggleable\"><input class=\"sk-toggleable__control sk-hidden--visually\" id=\"sk-estimator-id-1\" type=\"checkbox\" checked><label for=\"sk-estimator-id-1\" class=\"sk-toggleable__label sk-toggleable__label-arrow\">XGBClassifier</label><div class=\"sk-toggleable__content\"><pre>XGBClassifier(base_score=None, booster=None, callbacks=None,\n",
       "              colsample_bylevel=None, colsample_bynode=None,\n",
       "              colsample_bytree=None, device=None, early_stopping_rounds=None,\n",
       "              enable_categorical=False, eval_metric=&#x27;mlogloss&#x27;,\n",
       "              feature_types=None, gamma=None, grow_policy=None,\n",
       "              importance_type=None, interaction_constraints=None,\n",
       "              learning_rate=0.1, max_bin=None, max_cat_threshold=None,\n",
       "              max_cat_to_onehot=None, max_delta_step=None, max_depth=3,\n",
       "              max_leaves=None, min_child_weight=None, missing=nan,\n",
       "              monotone_constraints=None, multi_strategy=None, n_estimators=100,\n",
       "              n_jobs=None, num_class=119, num_parallel_tree=None, ...)</pre></div></div></div></div></div>"
      ],
      "text/plain": [
       "XGBClassifier(base_score=None, booster=None, callbacks=None,\n",
       "              colsample_bylevel=None, colsample_bynode=None,\n",
       "              colsample_bytree=None, device=None, early_stopping_rounds=None,\n",
       "              enable_categorical=False, eval_metric='mlogloss',\n",
       "              feature_types=None, gamma=None, grow_policy=None,\n",
       "              importance_type=None, interaction_constraints=None,\n",
       "              learning_rate=0.1, max_bin=None, max_cat_threshold=None,\n",
       "              max_cat_to_onehot=None, max_delta_step=None, max_depth=3,\n",
       "              max_leaves=None, min_child_weight=None, missing=nan,\n",
       "              monotone_constraints=None, multi_strategy=None, n_estimators=100,\n",
       "              n_jobs=None, num_class=119, num_parallel_tree=None, ...)"
      ]
     },
     "execution_count": 7,
     "metadata": {},
     "output_type": "execute_result"
    }
   ],
   "source": [
    "num_classes = len(np.unique(df_9['Allele']))\n",
    "model_l9 = xgb.XGBClassifier(\n",
    "    objective='multi:softmax',\n",
    "    num_class=num_classes,\n",
    "    max_depth=3,\n",
    "    learning_rate=0.1,\n",
    "    n_estimators=100,\n",
    "    eval_metric = \"mlogloss\"\n",
    ")\n",
    "\n",
    "# Train the model while monitoring the evaluation metrics\n",
    "model_l9.fit(\n",
    "    X_train_encoded, y_train_labeled,\n",
    "    eval_set=[(X_train_encoded, y_train_labeled), (X_test_encoded, y_test_labeled)],  # Datasets for evaluation\n",
    "    verbose=True\n",
    ")\n"
   ]
  },
  {
   "cell_type": "code",
   "execution_count": 8,
   "metadata": {},
   "outputs": [
    {
     "data": {
      "image/png": "[encoded data removed]",
      "text/plain": [
       "<Figure size 1000x600 with 1 Axes>"
      ]
     },
     "metadata": {},
     "output_type": "display_data"
    }
   ],
   "source": [
    "# Get the evaluation results for both training and validation sets\n",
    "results = model_l9.evals_result()\n",
    "\n",
    "# Extract log-loss values\n",
    "train_logloss = results[\"validation_0\"][\"mlogloss\"]\n",
    "test_logloss = results[\"validation_1\"][\"mlogloss\"]\n",
    "\n",
    "# Plot log-loss\n",
    "plt.figure(figsize=(10, 6))\n",
    "plt.plot(train_logloss, label=\"Training Log-loss\")\n",
    "plt.plot(test_logloss, label=\"Testing Log-loss\")\n",
    "plt.xlabel(\"Boosting Round\")\n",
    "plt.ylabel(\"Log-loss\")\n",
    "plt.title(\"Training and Testing Log-loss\")\n",
    "plt.legend()\n",
    "plt.grid(True)\n",
    "plt.show()"
   ]
  },
  {
   "cell_type": "markdown",
   "metadata": {},
   "source": [
    "Compare to MixMHCpred"
   ]
  },
  {
   "cell_type": "code",
   "execution_count": 27,
   "metadata": {},
   "outputs": [],
   "source": [
    "\n",
    "test_peptides = ninemer_encoder.inverse_transform(X_test_encoded)\n",
    "test_peptides = [\"\".join(x) for x in test_peptides]\n",
    "test_peptides_file = \"/Users/halasadi/code/pmhc_methods_tf/internal_data/test_peptides.fasta\"\n",
    "\n",
    "# Open the output file for writing\n",
    "with open(test_peptides_file, \"w\") as fasta_file:\n",
    "    for peptide in test_peptides:\n",
    "        # Write the peptide name as the header line starting with \">\"\n",
    "        fasta_file.write(f\">{peptide}\\n\")\n",
    "        fasta_file.write(f\"{peptide}\\n\")\n",
    "\n",
    "\n",
    "true_labels = ninemer_label_encoder.inverse_transform(y_test_labeled)\n",
    "df_9_test_truth = pd.DataFrame({'Peptide':test_peptides, 'Allele': true_labels})"
   ]
  },
  {
   "cell_type": "code",
   "execution_count": 29,
   "metadata": {},
   "outputs": [],
   "source": [
    "import subprocess\n",
    "\n",
    "out_file = '/Users/halasadi/code/pmhc_methods_tf/internal_data/out.txt'\n",
    "command = [\"/Users/halasadi/code/MixMHCpred-master/MixMHCpred\", \"-i\", test_peptides_file, '-o', out_file, '-a', \",\".join(np.unique(df_9['Allele'].values))]\n",
    "try:\n",
    "    output = subprocess.check_output(command, stderr=subprocess.STDOUT, universal_newlines=True)\n",
    "except subprocess.CalledProcessError as e:\n",
    "    print(f\"Command failed with return code {e.returncode}\")"
   ]
  },
  {
   "cell_type": "code",
   "execution_count": 37,
   "metadata": {},
   "outputs": [
    {
     "name": "stdout",
     "output_type": "stream",
     "text": [
      "Accuracy of XgBoost: 0.4086190759806007\n",
      "Accuracy of High Confidence XgBoost Calls: 0.9375\n"
     ]
    }
   ],
   "source": [
    "y_pred = model_l9.predict(X_test_encoded)\n",
    "pred_labels = ninemer_label_encoder.inverse_transform(y_pred)\n",
    "accuracy = accuracy_score(pred_labels, df_9_test_truth['Allele'].values)\n",
    "print(f\"Accuracy of XgBoost: {accuracy}\")\n",
    "\n",
    "pred_p = model_l9.predict_proba(X_test_encoded)\n",
    "max_p = np.amax(pred_p, axis=1)\n",
    "accuracy = accuracy_score(pred_labels[max_p > 0.9], df_9_test_truth['Allele'][max_p > 0.9].values)\n",
    "print(f\"Accuracy of High Confidence XgBoost Calls: {accuracy}\")"
   ]
  },
  {
   "cell_type": "code",
   "execution_count": 38,
   "metadata": {},
   "outputs": [
    {
     "name": "stdout",
     "output_type": "stream",
     "text": [
      "Accuracy of MixMHCPred: 0.3341403483414035\n"
     ]
    }
   ],
   "source": [
    "df_out = pd.read_csv(out_file, sep='\\t', comment='#')\n",
    "mixmhcpredout = df_out[['Peptide', 'BestAllele']]\n",
    "mixmhcpredout = mixmhcpredout.merge(df_9_test_truth, on = \"Peptide\", how = \"left\")\n",
    "accuracy = accuracy_score(mixmhcpredout['Allele'], mixmhcpredout['BestAllele'])\n",
    "print(f\"Accuracy of MixMHCPred: {accuracy}\")"
   ]
  },
  {
   "cell_type": "markdown",
   "metadata": {},
   "source": [
    "It looks like our XgBoost model beats the PWM approach by a noticeable margin!"
   ]
  },
  {
   "cell_type": "markdown",
   "metadata": {},
   "source": [
    "# Build XgBoost model for peptides with length 10"
   ]
  },
  {
   "cell_type": "markdown",
   "metadata": {},
   "source": [
    "Here we will use our XgBoost model trained on 9mers on 10mers "
   ]
  },
  {
   "cell_type": "code",
   "execution_count": 39,
   "metadata": {},
   "outputs": [],
   "source": [
    "df_10 = df[df['Peptide_Lengths'] == 10]"
   ]
  },
  {
   "cell_type": "code",
   "execution_count": 63,
   "metadata": {},
   "outputs": [],
   "source": [
    "allele_counts = df_10['Allele'].value_counts()\n",
    "\n",
    "# Create a mask to filter IDs that appear at least 10 times\n",
    "mask = df_10['Allele'].map(allele_counts) >= 10\n",
    "\n",
    "# Apply the mask to filter the DataFrame\n",
    "df_10 = df_10[mask]"
   ]
  },
  {
   "cell_type": "markdown",
   "metadata": {},
   "source": [
    "Out of curosity, let's investigate whether there is signal in the 9mer data that has predictive signal in the 10mer data. "
   ]
  },
  {
   "cell_type": "code",
   "execution_count": 64,
   "metadata": {},
   "outputs": [
    {
     "name": "stdout",
     "output_type": "stream",
     "text": [
      "0.20484673061230774\n",
      "0.12244615171436929\n",
      "0.20484673061230774\n"
     ]
    }
   ],
   "source": [
    "all_substrings_of_length_9 = [(s[:9], s[1:10]) for s in df_10['Peptide'].values]\n",
    "\n",
    "\n",
    "sub_peptides_1 = [tu[0] for tu in all_substrings_of_length_9]\n",
    "x_substr_9_1 = np.array([list(s) for s in sub_peptides_1])\n",
    "x_substr_9_1 = ninemer_encoder.fit_transform(x_substr_9_1).toarray()\n",
    "\n",
    "sub_peptides_2 = [tu[1] for tu in all_substrings_of_length_9]\n",
    "x_substr_9_2 = np.array([list(s) for s in sub_peptides_2])\n",
    "x_substr_9_2 = ninemer_encoder.fit_transform(x_substr_9_2).toarray()\n",
    "\n",
    "y_pred_9_1 = ninemer_label_encoder.inverse_transform(model_l9.predict(x_substr_9_1))\n",
    "y_pred_9_2 = ninemer_label_encoder.inverse_transform(model_l9.predict(x_substr_9_2))\n",
    "\n",
    "max_p1 = np.amax(model_l9.predict_proba(x_substr_9_1), axis=1)\n",
    "max_p2 = np.amax(model_l9.predict_proba(x_substr_9_2), axis=1)\n",
    "y_pred_combined = y_pred_9_1\n",
    "y_pred_combined[max_p2 > max_p1] = y_pred_9_2[max_p2 > max_p1]\n",
    "\n",
    "\n",
    "print(accuracy_score(y_pred_9_1, df_10['Allele'].values))\n",
    "print(accuracy_score(y_pred_9_2, df_10['Allele'].values))\n",
    "print(accuracy_score(y_pred_combined, df_10['Allele'].values))"
   ]
  },
  {
   "cell_type": "markdown",
   "metadata": {},
   "source": [
    "Yes! There does seem to be substantial signal that is transferable across 9,10 mers. Interestingly, the left aligned peptides do a lot better, which suggests to me that position matters quite a bit here! "
   ]
  },
  {
   "cell_type": "markdown",
   "metadata": {},
   "source": [
    "Then we will train a new classifier based on 10mer data only"
   ]
  },
  {
   "cell_type": "code",
   "execution_count": 65,
   "metadata": {},
   "outputs": [],
   "source": [
    "tenmer_encoder = OneHotEncoder()\n",
    "X_encoded = np.array([list(s) for s in df_10['Peptide'].values])\n",
    "X_encoded = tenmer_encoder.fit_transform(X_encoded).toarray()\n",
    "\n",
    "tenmer_label_encoder = LabelEncoder()\n",
    "# Fit the encoder on your class labels and transform them into numerical labels\n",
    "y_labeled = tenmer_label_encoder.fit_transform(df_10['Allele'].values)\n"
   ]
  },
  {
   "cell_type": "code",
   "execution_count": 66,
   "metadata": {},
   "outputs": [],
   "source": [
    "X_train_encoded, X_test_encoded, y_train_labeled, y_test_labeled = train_test_split(X_encoded, y_labeled, test_size=0.1, random_state=1)\n",
    "X_train_encoded, X_valid_encoded, y_train_labeled, y_valid_labeled = train_test_split(X_train_encoded, y_train_labeled, test_size=0.12, random_state=1) # 0.12 x 0.9 ~ 0.1"
   ]
  },
  {
   "cell_type": "code",
   "execution_count": 67,
   "metadata": {},
   "outputs": [
    {
     "name": "stdout",
     "output_type": "stream",
     "text": [
      "[0]\tvalidation_0-mlogloss:3.55364\tvalidation_1-mlogloss:3.58623\n",
      "[1]\tvalidation_0-mlogloss:3.31188\tvalidation_1-mlogloss:3.34902\n",
      "[2]\tvalidation_0-mlogloss:3.14406\tvalidation_1-mlogloss:3.18681\n",
      "[3]\tvalidation_0-mlogloss:3.01267\tvalidation_1-mlogloss:3.05870\n",
      "[4]\tvalidation_0-mlogloss:2.90356\tvalidation_1-mlogloss:2.95401\n",
      "[5]\tvalidation_0-mlogloss:2.81033\tvalidation_1-mlogloss:2.86505\n",
      "[6]\tvalidation_0-mlogloss:2.72951\tvalidation_1-mlogloss:2.78594\n"
     ]
    }
   ],
   "source": [
    "num_classes = len(np.unique(y_train_labeled))\n",
    "model_l10 = xgb.XGBClassifier(\n",
    "    objective='multi:softmax',\n",
    "    num_class=num_classes,\n",
    "    max_depth=3,\n",
    "    learning_rate=0.1,\n",
    "    n_estimators=100,\n",
    "    eval_metric = \"mlogloss\"\n",
    ")\n",
    "\n",
    "# Train the model while monitoring the evaluation metrics\n",
    "model_l10.fit(\n",
    "    X_train_encoded, y_train_labeled,\n",
    "    eval_set=[(X_train_encoded, y_train_labeled), (X_valid_encoded, y_valid_labeled)],  # Datasets for evaluation\n",
    "    verbose=True\n",
    ")\n"
   ]
  },
  {
   "cell_type": "code",
   "execution_count": null,
   "metadata": {},
   "outputs": [],
   "source": []
  }
 ],
 "metadata": {
  "kernelspec": {
   "display_name": "Python 3",
   "language": "python",
   "name": "python3"
  },
  "language_info": {
   "codemirror_mode": {
    "name": "ipython",
    "version": 3
   },
   "file_extension": ".py",
   "mimetype": "text/x-python",
   "name": "python",
   "nbconvert_exporter": "python",
   "pygments_lexer": "ipython3",
   "version": "3.11.6"
  }
 },
 "nbformat": 4,
 "nbformat_minor": 2
}
