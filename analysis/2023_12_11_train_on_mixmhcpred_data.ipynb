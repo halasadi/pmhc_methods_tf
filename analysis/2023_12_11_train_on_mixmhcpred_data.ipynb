{
 "cells": [
  {
   "cell_type": "code",
   "execution_count": 1,
   "metadata": {},
   "outputs": [],
   "source": [
    "import pandas as pd\n",
    "import xgboost as xgb\n",
    "from sklearn.model_selection import train_test_split\n",
    "from sklearn.preprocessing import LabelEncoder\n",
    "import numpy as np\n",
    "import matplotlib.pyplot as plt\n",
    "from sklearn.preprocessing import OneHotEncoder\n",
    "from sklearn.metrics import accuracy_score"
   ]
  },
  {
   "cell_type": "markdown",
   "metadata": {},
   "source": [
    "# Load data "
   ]
  },
  {
   "cell_type": "code",
   "execution_count": 2,
   "metadata": {},
   "outputs": [],
   "source": [
    "path_to_data = '../external_data/mixmhcpred/TableS2.txt'\n",
    "# ignore the first row (header)\n",
    "df = pd.read_csv(path_to_data, sep='\\t', skiprows=1)"
   ]
  },
  {
   "cell_type": "code",
   "execution_count": 3,
   "metadata": {},
   "outputs": [
    {
     "data": {
      "text/plain": [
       "<Axes: >"
      ]
     },
     "execution_count": 3,
     "metadata": {},
     "output_type": "execute_result"
    },
    {
     "data": {
      "image/png": "[encoded data removed]",
      "text/plain": [
       "<Figure size 640x480 with 1 Axes>"
      ]
     },
     "metadata": {},
     "output_type": "display_data"
    }
   ],
   "source": [
    "# length distributions of peptides\n",
    "df['Peptide_Lengths'] = df['Peptide'].apply(len)\n",
    "df['Peptide_Lengths'].hist(bins=20)"
   ]
  },
  {
   "cell_type": "markdown",
   "metadata": {},
   "source": [
    "# Build XgBoost model for peptides with length of 9"
   ]
  },
  {
   "cell_type": "code",
   "execution_count": 4,
   "metadata": {},
   "outputs": [],
   "source": [
    "df_9 = df[df['Peptide_Lengths'] == 9]\n",
    "\n",
    "alleles_to_exclude = ['C1505', 'B1401', 'C0704', 'B4801', 'C1602', 'B1803']\n",
    "df_9 = df_9[~df_9['Allele'].isin(alleles_to_exclude)]"
   ]
  },
  {
   "cell_type": "code",
   "execution_count": 5,
   "metadata": {},
   "outputs": [],
   "source": [
    "ninemer_encoder = OneHotEncoder()\n",
    "X_encoded = np.array([list(s) for s in df_9['Peptide'].values])\n",
    "X_encoded = ninemer_encoder.fit_transform(X_encoded).toarray()\n",
    "\n",
    "ninemer_label_encoder = LabelEncoder()\n",
    "# Fit the encoder on your class labels and transform them into numerical labels\n",
    "y_labeled = ninemer_label_encoder.fit_transform(df_9['Allele'].values)\n"
   ]
  },
  {
   "cell_type": "code",
   "execution_count": 6,
   "metadata": {},
   "outputs": [],
   "source": [
    "X_train_encoded, X_test_encoded, y_train_labeled, y_test_labeled = train_test_split(X_encoded, y_labeled, test_size=0.1, random_state=1)\n",
    "X_train_encoded, X_valid_encoded, y_train_labeled, y_valid_encoded = train_test_split(X_train_encoded, y_train_labeled, test_size=0.12, random_state=1) # 0.12 x 0.9 ~ 0.1"
   ]
  },
  {
   "cell_type": "code",
   "execution_count": 7,
   "metadata": {},
   "outputs": [
    {
     "name": "stdout",
     "output_type": "stream",
     "text": [
      "[0]\tvalidation_0-mlogloss:3.88314\tvalidation_1-mlogloss:3.87453\n",
      "[1]\tvalidation_0-mlogloss:3.64467\tvalidation_1-mlogloss:3.63847\n",
      "[2]\tvalidation_0-mlogloss:3.47980\tvalidation_1-mlogloss:3.47550\n",
      "[3]\tvalidation_0-mlogloss:3.35050\tvalidation_1-mlogloss:3.34866\n",
      "[4]\tvalidation_0-mlogloss:3.24478\tvalidation_1-mlogloss:3.24400\n",
      "[5]\tvalidation_0-mlogloss:3.15449\tvalidation_1-mlogloss:3.15507\n",
      "[6]\tvalidation_0-mlogloss:3.07575\tvalidation_1-mlogloss:3.07716\n",
      "[7]\tvalidation_0-mlogloss:3.00691\tvalidation_1-mlogloss:3.00918\n",
      "[8]\tvalidation_0-mlogloss:2.94591\tvalidation_1-mlogloss:2.94895\n",
      "[9]\tvalidation_0-mlogloss:2.89021\tvalidation_1-mlogloss:2.89413\n",
      "[10]\tvalidation_0-mlogloss:2.84056\tvalidation_1-mlogloss:2.84522\n",
      "[11]\tvalidation_0-mlogloss:2.79471\tvalidation_1-mlogloss:2.80020\n",
      "[12]\tvalidation_0-mlogloss:2.75328\tvalidation_1-mlogloss:2.75955\n",
      "[13]\tvalidation_0-mlogloss:2.71504\tvalidation_1-mlogloss:2.72202\n",
      "[14]\tvalidation_0-mlogloss:2.67988\tvalidation_1-mlogloss:2.68744\n",
      "[15]\tvalidation_0-mlogloss:2.64703\tvalidation_1-mlogloss:2.65547\n",
      "[16]\tvalidation_0-mlogloss:2.61618\tvalidation_1-mlogloss:2.62546\n",
      "[17]\tvalidation_0-mlogloss:2.58792\tvalidation_1-mlogloss:2.59830\n",
      "[18]\tvalidation_0-mlogloss:2.56145\tvalidation_1-mlogloss:2.57250\n",
      "[19]\tvalidation_0-mlogloss:2.53642\tvalidation_1-mlogloss:2.54788\n",
      "[20]\tvalidation_0-mlogloss:2.51330\tvalidation_1-mlogloss:2.52570\n",
      "[21]\tvalidation_0-mlogloss:2.49108\tvalidation_1-mlogloss:2.50414\n",
      "[22]\tvalidation_0-mlogloss:2.47021\tvalidation_1-mlogloss:2.48447\n",
      "[23]\tvalidation_0-mlogloss:2.45060\tvalidation_1-mlogloss:2.46580\n",
      "[24]\tvalidation_0-mlogloss:2.43236\tvalidation_1-mlogloss:2.44819\n",
      "[25]\tvalidation_0-mlogloss:2.41489\tvalidation_1-mlogloss:2.43147\n",
      "[26]\tvalidation_0-mlogloss:2.39818\tvalidation_1-mlogloss:2.41553\n",
      "[27]\tvalidation_0-mlogloss:2.38211\tvalidation_1-mlogloss:2.40020\n",
      "[28]\tvalidation_0-mlogloss:2.36711\tvalidation_1-mlogloss:2.38568\n",
      "[29]\tvalidation_0-mlogloss:2.35279\tvalidation_1-mlogloss:2.37200\n",
      "[30]\tvalidation_0-mlogloss:2.33927\tvalidation_1-mlogloss:2.35898\n",
      "[31]\tvalidation_0-mlogloss:2.32630\tvalidation_1-mlogloss:2.34683\n",
      "[32]\tvalidation_0-mlogloss:2.31376\tvalidation_1-mlogloss:2.33469\n",
      "[33]\tvalidation_0-mlogloss:2.30196\tvalidation_1-mlogloss:2.32348\n",
      "[34]\tvalidation_0-mlogloss:2.29065\tvalidation_1-mlogloss:2.31272\n",
      "[35]\tvalidation_0-mlogloss:2.27987\tvalidation_1-mlogloss:2.30248\n",
      "[36]\tvalidation_0-mlogloss:2.26937\tvalidation_1-mlogloss:2.29268\n",
      "[37]\tvalidation_0-mlogloss:2.25931\tvalidation_1-mlogloss:2.28322\n",
      "[38]\tvalidation_0-mlogloss:2.24978\tvalidation_1-mlogloss:2.27420\n",
      "[39]\tvalidation_0-mlogloss:2.24030\tvalidation_1-mlogloss:2.26533\n",
      "[40]\tvalidation_0-mlogloss:2.23141\tvalidation_1-mlogloss:2.25691\n",
      "[41]\tvalidation_0-mlogloss:2.22278\tvalidation_1-mlogloss:2.24892\n",
      "[42]\tvalidation_0-mlogloss:2.21447\tvalidation_1-mlogloss:2.24092\n",
      "[43]\tvalidation_0-mlogloss:2.20651\tvalidation_1-mlogloss:2.23351\n",
      "[44]\tvalidation_0-mlogloss:2.19868\tvalidation_1-mlogloss:2.22639\n",
      "[45]\tvalidation_0-mlogloss:2.19102\tvalidation_1-mlogloss:2.21914\n",
      "[46]\tvalidation_0-mlogloss:2.18369\tvalidation_1-mlogloss:2.21230\n",
      "[47]\tvalidation_0-mlogloss:2.17692\tvalidation_1-mlogloss:2.20597\n",
      "[48]\tvalidation_0-mlogloss:2.17008\tvalidation_1-mlogloss:2.19969\n",
      "[49]\tvalidation_0-mlogloss:2.16341\tvalidation_1-mlogloss:2.19359\n",
      "[50]\tvalidation_0-mlogloss:2.15695\tvalidation_1-mlogloss:2.18747\n",
      "[51]\tvalidation_0-mlogloss:2.15071\tvalidation_1-mlogloss:2.18185\n",
      "[52]\tvalidation_0-mlogloss:2.14469\tvalidation_1-mlogloss:2.17652\n",
      "[53]\tvalidation_0-mlogloss:2.13881\tvalidation_1-mlogloss:2.17105\n",
      "[54]\tvalidation_0-mlogloss:2.13304\tvalidation_1-mlogloss:2.16591\n",
      "[55]\tvalidation_0-mlogloss:2.12755\tvalidation_1-mlogloss:2.16102\n",
      "[56]\tvalidation_0-mlogloss:2.12216\tvalidation_1-mlogloss:2.15610\n",
      "[57]\tvalidation_0-mlogloss:2.11689\tvalidation_1-mlogloss:2.15120\n",
      "[58]\tvalidation_0-mlogloss:2.11186\tvalidation_1-mlogloss:2.14672\n",
      "[59]\tvalidation_0-mlogloss:2.10680\tvalidation_1-mlogloss:2.14230\n",
      "[60]\tvalidation_0-mlogloss:2.10198\tvalidation_1-mlogloss:2.13807\n",
      "[61]\tvalidation_0-mlogloss:2.09715\tvalidation_1-mlogloss:2.13375\n",
      "[62]\tvalidation_0-mlogloss:2.09248\tvalidation_1-mlogloss:2.12967\n",
      "[63]\tvalidation_0-mlogloss:2.08795\tvalidation_1-mlogloss:2.12570\n",
      "[64]\tvalidation_0-mlogloss:2.08335\tvalidation_1-mlogloss:2.12160\n",
      "[65]\tvalidation_0-mlogloss:2.07893\tvalidation_1-mlogloss:2.11787\n",
      "[66]\tvalidation_0-mlogloss:2.07466\tvalidation_1-mlogloss:2.11422\n",
      "[67]\tvalidation_0-mlogloss:2.07049\tvalidation_1-mlogloss:2.11077\n",
      "[68]\tvalidation_0-mlogloss:2.06634\tvalidation_1-mlogloss:2.10713\n",
      "[69]\tvalidation_0-mlogloss:2.06230\tvalidation_1-mlogloss:2.10384\n",
      "[70]\tvalidation_0-mlogloss:2.05855\tvalidation_1-mlogloss:2.10039\n",
      "[71]\tvalidation_0-mlogloss:2.05471\tvalidation_1-mlogloss:2.09707\n",
      "[72]\tvalidation_0-mlogloss:2.05087\tvalidation_1-mlogloss:2.09378\n",
      "[73]\tvalidation_0-mlogloss:2.04715\tvalidation_1-mlogloss:2.09061\n",
      "[74]\tvalidation_0-mlogloss:2.04359\tvalidation_1-mlogloss:2.08761\n",
      "[75]\tvalidation_0-mlogloss:2.04003\tvalidation_1-mlogloss:2.08468\n",
      "[76]\tvalidation_0-mlogloss:2.03653\tvalidation_1-mlogloss:2.08172\n",
      "[77]\tvalidation_0-mlogloss:2.03314\tvalidation_1-mlogloss:2.07886\n",
      "[78]\tvalidation_0-mlogloss:2.02979\tvalidation_1-mlogloss:2.07592\n",
      "[79]\tvalidation_0-mlogloss:2.02651\tvalidation_1-mlogloss:2.07320\n",
      "[80]\tvalidation_0-mlogloss:2.02323\tvalidation_1-mlogloss:2.07043\n",
      "[81]\tvalidation_0-mlogloss:2.02002\tvalidation_1-mlogloss:2.06761\n",
      "[82]\tvalidation_0-mlogloss:2.01680\tvalidation_1-mlogloss:2.06502\n",
      "[83]\tvalidation_0-mlogloss:2.01369\tvalidation_1-mlogloss:2.06233\n",
      "[84]\tvalidation_0-mlogloss:2.01072\tvalidation_1-mlogloss:2.05991\n",
      "[85]\tvalidation_0-mlogloss:2.00770\tvalidation_1-mlogloss:2.05736\n",
      "[86]\tvalidation_0-mlogloss:2.00466\tvalidation_1-mlogloss:2.05478\n",
      "[87]\tvalidation_0-mlogloss:2.00181\tvalidation_1-mlogloss:2.05242\n",
      "[88]\tvalidation_0-mlogloss:1.99893\tvalidation_1-mlogloss:2.05002\n",
      "[89]\tvalidation_0-mlogloss:1.99617\tvalidation_1-mlogloss:2.04771\n",
      "[90]\tvalidation_0-mlogloss:1.99340\tvalidation_1-mlogloss:2.04557\n",
      "[91]\tvalidation_0-mlogloss:1.99059\tvalidation_1-mlogloss:2.04339\n",
      "[92]\tvalidation_0-mlogloss:1.98785\tvalidation_1-mlogloss:2.04115\n",
      "[93]\tvalidation_0-mlogloss:1.98519\tvalidation_1-mlogloss:2.03890\n",
      "[94]\tvalidation_0-mlogloss:1.98245\tvalidation_1-mlogloss:2.03668\n",
      "[95]\tvalidation_0-mlogloss:1.97986\tvalidation_1-mlogloss:2.03464\n",
      "[96]\tvalidation_0-mlogloss:1.97721\tvalidation_1-mlogloss:2.03247\n",
      "[97]\tvalidation_0-mlogloss:1.97465\tvalidation_1-mlogloss:2.03036\n",
      "[98]\tvalidation_0-mlogloss:1.97209\tvalidation_1-mlogloss:2.02839\n",
      "[99]\tvalidation_0-mlogloss:1.96966\tvalidation_1-mlogloss:2.02641\n"
     ]
    },
    {
     "data": {
      "text/html": [
       "<style>#sk-container-id-1 {color: black;}#sk-container-id-1 pre{padding: 0;}#sk-container-id-1 div.sk-toggleable {background-color: white;}#sk-container-id-1 label.sk-toggleable__label {cursor: pointer;display: block;width: 100%;margin-bottom: 0;padding: 0.3em;box-sizing: border-box;text-align: center;}#sk-container-id-1 label.sk-toggleable__label-arrow:before {content: \"▸\";float: left;margin-right: 0.25em;color: #696969;}#sk-container-id-1 label.sk-toggleable__label-arrow:hover:before {color: black;}#sk-container-id-1 div.sk-estimator:hover label.sk-toggleable__label-arrow:before {color: black;}#sk-container-id-1 div.sk-toggleable__content {max-height: 0;max-width: 0;overflow: hidden;text-align: left;background-color: #f0f8ff;}#sk-container-id-1 div.sk-toggleable__content pre {margin: 0.2em;color: black;border-radius: 0.25em;background-color: #f0f8ff;}#sk-container-id-1 input.sk-toggleable__control:checked~div.sk-toggleable__content {max-height: 200px;max-width: 100%;overflow: auto;}#sk-container-id-1 input.sk-toggleable__control:checked~label.sk-toggleable__label-arrow:before {content: \"▾\";}#sk-container-id-1 div.sk-estimator input.sk-toggleable__control:checked~label.sk-toggleable__label {background-color: #d4ebff;}#sk-container-id-1 div.sk-label input.sk-toggleable__control:checked~label.sk-toggleable__label {background-color: #d4ebff;}#sk-container-id-1 input.sk-hidden--visually {border: 0;clip: rect(1px 1px 1px 1px);clip: rect(1px, 1px, 1px, 1px);height: 1px;margin: -1px;overflow: hidden;padding: 0;position: absolute;width: 1px;}#sk-container-id-1 div.sk-estimator {font-family: monospace;background-color: #f0f8ff;border: 1px dotted black;border-radius: 0.25em;box-sizing: border-box;margin-bottom: 0.5em;}#sk-container-id-1 div.sk-estimator:hover {background-color: #d4ebff;}#sk-container-id-1 div.sk-parallel-item::after {content: \"\";width: 100%;border-bottom: 1px solid gray;flex-grow: 1;}#sk-container-id-1 div.sk-label:hover label.sk-toggleable__label {background-color: #d4ebff;}#sk-container-id-1 div.sk-serial::before {content: \"\";position: absolute;border-left: 1px solid gray;box-sizing: border-box;top: 0;bottom: 0;left: 50%;z-index: 0;}#sk-container-id-1 div.sk-serial {display: flex;flex-direction: column;align-items: center;background-color: white;padding-right: 0.2em;padding-left: 0.2em;position: relative;}#sk-container-id-1 div.sk-item {position: relative;z-index: 1;}#sk-container-id-1 div.sk-parallel {display: flex;align-items: stretch;justify-content: center;background-color: white;position: relative;}#sk-container-id-1 div.sk-item::before, #sk-container-id-1 div.sk-parallel-item::before {content: \"\";position: absolute;border-left: 1px solid gray;box-sizing: border-box;top: 0;bottom: 0;left: 50%;z-index: -1;}#sk-container-id-1 div.sk-parallel-item {display: flex;flex-direction: column;z-index: 1;position: relative;background-color: white;}#sk-container-id-1 div.sk-parallel-item:first-child::after {align-self: flex-end;width: 50%;}#sk-container-id-1 div.sk-parallel-item:last-child::after {align-self: flex-start;width: 50%;}#sk-container-id-1 div.sk-parallel-item:only-child::after {width: 0;}#sk-container-id-1 div.sk-dashed-wrapped {border: 1px dashed gray;margin: 0 0.4em 0.5em 0.4em;box-sizing: border-box;padding-bottom: 0.4em;background-color: white;}#sk-container-id-1 div.sk-label label {font-family: monospace;font-weight: bold;display: inline-block;line-height: 1.2em;}#sk-container-id-1 div.sk-label-container {text-align: center;}#sk-container-id-1 div.sk-container {/* jupyter's `normalize.less` sets `[hidden] { display: none; }` but bootstrap.min.css set `[hidden] { display: none !important; }` so we also need the `!important` here to be able to override the default hidden behavior on the sphinx rendered scikit-learn.org. See: https://github.com/scikit-learn/scikit-learn/issues/21755 */display: inline-block !important;position: relative;}#sk-container-id-1 div.sk-text-repr-fallback {display: none;}</style><div id=\"sk-container-id-1\" class=\"sk-top-container\"><div class=\"sk-text-repr-fallback\"><pre>XGBClassifier(base_score=None, booster=None, callbacks=None,\n",
       "              colsample_bylevel=None, colsample_bynode=None,\n",
       "              colsample_bytree=None, device=None, early_stopping_rounds=None,\n",
       "              enable_categorical=False, eval_metric=&#x27;mlogloss&#x27;,\n",
       "              feature_types=None, gamma=None, grow_policy=None,\n",
       "              importance_type=None, interaction_constraints=None,\n",
       "              learning_rate=0.1, max_bin=None, max_cat_threshold=None,\n",
       "              max_cat_to_onehot=None, max_delta_step=None, max_depth=3,\n",
       "              max_leaves=None, min_child_weight=None, missing=nan,\n",
       "              monotone_constraints=None, multi_strategy=None, n_estimators=100,\n",
       "              n_jobs=None, num_class=113, num_parallel_tree=None, ...)</pre><b>In a Jupyter environment, please rerun this cell to show the HTML representation or trust the notebook. <br />On GitHub, the HTML representation is unable to render, please try loading this page with nbviewer.org.</b></div><div class=\"sk-container\" hidden><div class=\"sk-item\"><div class=\"sk-estimator sk-toggleable\"><input class=\"sk-toggleable__control sk-hidden--visually\" id=\"sk-estimator-id-1\" type=\"checkbox\" checked><label for=\"sk-estimator-id-1\" class=\"sk-toggleable__label sk-toggleable__label-arrow\">XGBClassifier</label><div class=\"sk-toggleable__content\"><pre>XGBClassifier(base_score=None, booster=None, callbacks=None,\n",
       "              colsample_bylevel=None, colsample_bynode=None,\n",
       "              colsample_bytree=None, device=None, early_stopping_rounds=None,\n",
       "              enable_categorical=False, eval_metric=&#x27;mlogloss&#x27;,\n",
       "              feature_types=None, gamma=None, grow_policy=None,\n",
       "              importance_type=None, interaction_constraints=None,\n",
       "              learning_rate=0.1, max_bin=None, max_cat_threshold=None,\n",
       "              max_cat_to_onehot=None, max_delta_step=None, max_depth=3,\n",
       "              max_leaves=None, min_child_weight=None, missing=nan,\n",
       "              monotone_constraints=None, multi_strategy=None, n_estimators=100,\n",
       "              n_jobs=None, num_class=113, num_parallel_tree=None, ...)</pre></div></div></div></div></div>"
      ],
      "text/plain": [
       "XGBClassifier(base_score=None, booster=None, callbacks=None,\n",
       "              colsample_bylevel=None, colsample_bynode=None,\n",
       "              colsample_bytree=None, device=None, early_stopping_rounds=None,\n",
       "              enable_categorical=False, eval_metric='mlogloss',\n",
       "              feature_types=None, gamma=None, grow_policy=None,\n",
       "              importance_type=None, interaction_constraints=None,\n",
       "              learning_rate=0.1, max_bin=None, max_cat_threshold=None,\n",
       "              max_cat_to_onehot=None, max_delta_step=None, max_depth=3,\n",
       "              max_leaves=None, min_child_weight=None, missing=nan,\n",
       "              monotone_constraints=None, multi_strategy=None, n_estimators=100,\n",
       "              n_jobs=None, num_class=113, num_parallel_tree=None, ...)"
      ]
     },
     "execution_count": 7,
     "metadata": {},
     "output_type": "execute_result"
    }
   ],
   "source": [
    "num_classes = len(np.unique(df_9['Allele']))\n",
    "model_l9 = xgb.XGBClassifier(\n",
    "    objective='multi:softmax',\n",
    "    num_class=num_classes,\n",
    "    max_depth=3,\n",
    "    learning_rate=0.1,\n",
    "    n_estimators=100,\n",
    "    eval_metric = \"mlogloss\"\n",
    ")\n",
    "\n",
    "# Train the model while monitoring the evaluation metrics\n",
    "model_l9.fit(\n",
    "    X_train_encoded, y_train_labeled,\n",
    "    eval_set=[(X_train_encoded, y_train_labeled), (X_test_encoded, y_test_labeled)],  # Datasets for evaluation\n",
    "    verbose=True\n",
    ")\n"
   ]
  },
  {
   "cell_type": "code",
   "execution_count": 9,
   "metadata": {},
   "outputs": [
    {
     "data": {
      "image/png": "[encoded data removed]",
      "text/plain": [
       "<Figure size 1000x600 with 1 Axes>"
      ]
     },
     "metadata": {},
     "output_type": "display_data"
    }
   ],
   "source": [
    "# Get the evaluation results for both training and validation sets\n",
    "results = model_l9.evals_result()\n",
    "\n",
    "# Extract log-loss values\n",
    "train_logloss = results[\"validation_0\"][\"mlogloss\"]\n",
    "test_logloss = results[\"validation_1\"][\"mlogloss\"]\n",
    "\n",
    "# Plot log-loss\n",
    "plt.figure(figsize=(10, 6))\n",
    "plt.plot(train_logloss, label=\"Training Log-loss\")\n",
    "plt.plot(test_logloss, label=\"Testing Log-loss\")\n",
    "plt.xlabel(\"Boosting Round\")\n",
    "plt.ylabel(\"Log-loss\")\n",
    "plt.title(\"Training and Testing Log-loss\")\n",
    "plt.legend()\n",
    "plt.grid(True)\n",
    "plt.show()"
   ]
  },
  {
   "cell_type": "markdown",
   "metadata": {},
   "source": [
    "Compare to MixMHCpred"
   ]
  },
  {
   "cell_type": "code",
   "execution_count": 9,
   "metadata": {},
   "outputs": [],
   "source": [
    "\n",
    "test_peptides = ninemer_encoder.inverse_transform(X_test_encoded)\n",
    "test_peptides = [\"\".join(x) for x in test_peptides]\n",
    "test_peptides_file = \"/Users/halasadi/code/pmhc_methods_tf/internal_data/test_peptides.fasta\"\n",
    "\n",
    "# Open the output file for writing\n",
    "with open(test_peptides_file, \"w\") as fasta_file:\n",
    "    for peptide in test_peptides:\n",
    "        # Write the peptide name as the header line starting with \">\"\n",
    "        fasta_file.write(f\">{peptide}\\n\")\n",
    "        fasta_file.write(f\"{peptide}\\n\")\n",
    "\n",
    "\n",
    "true_labels = ninemer_label_encoder.inverse_transform(y_test_labeled)\n",
    "df_9_test_truth = pd.DataFrame({'Peptide':test_peptides, 'Allele': true_labels})"
   ]
  },
  {
   "cell_type": "code",
   "execution_count": 10,
   "metadata": {},
   "outputs": [],
   "source": [
    "import subprocess\n",
    "\n",
    "out_file = '/Users/halasadi/code/pmhc_methods_tf/internal_data/out.txt'\n",
    "command = [\"/Users/halasadi/code/MixMHCpred-master/MixMHCpred\", \"-i\", test_peptides_file, '-o', out_file, '-a', \",\".join(np.unique(df_9['Allele'].values))]\n",
    "try:\n",
    "    output = subprocess.check_output(command, stderr=subprocess.STDOUT, universal_newlines=True)\n",
    "except subprocess.CalledProcessError as e:\n",
    "    print(f\"Command failed with return code {e.returncode}\")"
   ]
  },
  {
   "cell_type": "code",
   "execution_count": 11,
   "metadata": {},
   "outputs": [
    {
     "name": "stdout",
     "output_type": "stream",
     "text": [
      "Accuracy of XgBoost: 0.4086190759806007\n",
      "Accuracy of High Confidence XgBoost Calls: 0.9375\n"
     ]
    }
   ],
   "source": [
    "y_pred = model_l9.predict(X_test_encoded)\n",
    "pred_labels = ninemer_label_encoder.inverse_transform(y_pred)\n",
    "accuracy = accuracy_score(pred_labels, df_9_test_truth['Allele'].values)\n",
    "print(f\"Accuracy of XgBoost: {accuracy}\")\n",
    "\n",
    "pred_p = model_l9.predict_proba(X_test_encoded)\n",
    "max_p = np.amax(pred_p, axis=1)\n",
    "accuracy = accuracy_score(pred_labels[max_p > 0.9], df_9_test_truth['Allele'][max_p > 0.9].values)\n",
    "print(f\"Accuracy of High Confidence XgBoost Calls: {accuracy}\")"
   ]
  },
  {
   "cell_type": "code",
   "execution_count": 12,
   "metadata": {},
   "outputs": [
    {
     "name": "stdout",
     "output_type": "stream",
     "text": [
      "Accuracy of MixMHCPred: 0.3341403483414035\n"
     ]
    }
   ],
   "source": [
    "df_out = pd.read_csv(out_file, sep='\\t', comment='#')\n",
    "mixmhcpredout = df_out[['Peptide', 'BestAllele']]\n",
    "mixmhcpredout = mixmhcpredout.merge(df_9_test_truth, on = \"Peptide\", how = \"left\")\n",
    "accuracy = accuracy_score(mixmhcpredout['Allele'], mixmhcpredout['BestAllele'])\n",
    "print(f\"Accuracy of MixMHCPred: {accuracy}\")"
   ]
  },
  {
   "cell_type": "markdown",
   "metadata": {},
   "source": [
    "It looks like our XgBoost model beats the PWM approach by a noticeable margin!"
   ]
  },
  {
   "cell_type": "markdown",
   "metadata": {},
   "source": [
    "# Build XgBoost model for peptides with length 10 and investigating whether data from peptide lengths == 9 helps."
   ]
  },
  {
   "cell_type": "markdown",
   "metadata": {},
   "source": [
    "Here we will use our XgBoost model trained on 9mers on 10mers "
   ]
  },
  {
   "cell_type": "code",
   "execution_count": 10,
   "metadata": {},
   "outputs": [],
   "source": [
    "df_10 = df[df['Peptide_Lengths'] == 10]"
   ]
  },
  {
   "cell_type": "code",
   "execution_count": 11,
   "metadata": {},
   "outputs": [],
   "source": [
    "#allele_counts = df_10['Allele'].value_counts()\n",
    "# Create a mask to filter IDs that appear at least 10 times\n",
    "#mask = df_10['Allele'].map(allele_counts) >= 10\n",
    "# Apply the mask to filter the DataFrame\n",
    "#df_10 = df_10[mask]\n",
    "\n",
    "alleles_to_exclude = ['C1505', 'B1401', 'C0704', 'B4801', 'C1602', 'B1803']\n",
    "df_10 = df_10[~df_10['Allele'].isin(alleles_to_exclude)]"
   ]
  },
  {
   "cell_type": "markdown",
   "metadata": {},
   "source": [
    "Out of curosity, let's investigate whether there is signal in the 9mer data that has predictive signal in the 10mer data. "
   ]
  },
  {
   "cell_type": "code",
   "execution_count": 12,
   "metadata": {},
   "outputs": [
    {
     "name": "stdout",
     "output_type": "stream",
     "text": [
      "0.20290680666964328\n",
      "0.11958245446567413\n",
      "0.20290680666964328\n"
     ]
    }
   ],
   "source": [
    "all_substrings_of_length_9 = [(s[:9], s[1:10]) for s in df_10['Peptide'].values]\n",
    "\n",
    "\n",
    "sub_peptides_1 = [tu[0] for tu in all_substrings_of_length_9]\n",
    "x_substr_9_1 = np.array([list(s) for s in sub_peptides_1])\n",
    "x_substr_9_1 = ninemer_encoder.fit_transform(x_substr_9_1).toarray()\n",
    "\n",
    "sub_peptides_2 = [tu[1] for tu in all_substrings_of_length_9]\n",
    "x_substr_9_2 = np.array([list(s) for s in sub_peptides_2])\n",
    "x_substr_9_2 = ninemer_encoder.fit_transform(x_substr_9_2).toarray()\n",
    "\n",
    "y_pred_9_1 = ninemer_label_encoder.inverse_transform(model_l9.predict(x_substr_9_1))\n",
    "y_pred_9_2 = ninemer_label_encoder.inverse_transform(model_l9.predict(x_substr_9_2))\n",
    "\n",
    "max_p1 = np.amax(model_l9.predict_proba(x_substr_9_1), axis=1)\n",
    "max_p2 = np.amax(model_l9.predict_proba(x_substr_9_2), axis=1)\n",
    "y_pred_combined = y_pred_9_1\n",
    "y_pred_combined[max_p2 > max_p1] = y_pred_9_2[max_p2 > max_p1]\n",
    "\n",
    "\n",
    "print(accuracy_score(y_pred_9_1, df_10['Allele'].values))\n",
    "print(accuracy_score(y_pred_9_2, df_10['Allele'].values))\n",
    "print(accuracy_score(y_pred_combined, df_10['Allele'].values))"
   ]
  },
  {
   "cell_type": "markdown",
   "metadata": {},
   "source": [
    "Yes! There does seem to be substantial signal that is transferable across 9,10 mers. Interestingly, the left aligned peptides do a lot better, which suggests to me that position matters quite a bit here! "
   ]
  },
  {
   "cell_type": "markdown",
   "metadata": {},
   "source": [
    "Then we will train a new classifier based on 10mer data only"
   ]
  },
  {
   "cell_type": "code",
   "execution_count": 22,
   "metadata": {},
   "outputs": [],
   "source": [
    "tenmer_encoder = OneHotEncoder()\n",
    "X_encoded = np.array([list(s) for s in df_10['Peptide'].values])\n",
    "X_encoded = tenmer_encoder.fit_transform(X_encoded).toarray()\n",
    "\n",
    "#tenmer_label_encoder = LabelEncoder()\n",
    "# Fit the encoder on your class labels and transform them into numerical labels\n",
    "y_labeled = ninemer_label_encoder.fit_transform(df_10['Allele'].values)\n"
   ]
  },
  {
   "cell_type": "code",
   "execution_count": 23,
   "metadata": {},
   "outputs": [],
   "source": [
    "X_train_encoded, X_test_encoded, y_train_labeled, y_test_labeled = train_test_split(X_encoded, y_labeled, test_size=0.1, random_state=1)\n",
    "X_train_encoded, X_valid_encoded, y_train_labeled, y_valid_labeled = train_test_split(X_train_encoded, y_train_labeled, test_size=0.12, random_state=1) # 0.12 x 0.9 ~ 0.1"
   ]
  },
  {
   "cell_type": "code",
   "execution_count": 24,
   "metadata": {},
   "outputs": [
    {
     "name": "stdout",
     "output_type": "stream",
     "text": [
      "[0]\tvalidation_0-mlogloss:3.55364\tvalidation_1-mlogloss:3.58623\n",
      "[1]\tvalidation_0-mlogloss:3.31188\tvalidation_1-mlogloss:3.34902\n",
      "[2]\tvalidation_0-mlogloss:3.14406\tvalidation_1-mlogloss:3.18681\n",
      "[3]\tvalidation_0-mlogloss:3.01267\tvalidation_1-mlogloss:3.05870\n",
      "[4]\tvalidation_0-mlogloss:2.90356\tvalidation_1-mlogloss:2.95401\n",
      "[5]\tvalidation_0-mlogloss:2.81033\tvalidation_1-mlogloss:2.86505\n",
      "[6]\tvalidation_0-mlogloss:2.72951\tvalidation_1-mlogloss:2.78594\n",
      "[7]\tvalidation_0-mlogloss:2.65895\tvalidation_1-mlogloss:2.71868\n",
      "[8]\tvalidation_0-mlogloss:2.59554\tvalidation_1-mlogloss:2.65715\n",
      "[9]\tvalidation_0-mlogloss:2.53921\tvalidation_1-mlogloss:2.60329\n",
      "[10]\tvalidation_0-mlogloss:2.48820\tvalidation_1-mlogloss:2.55435\n",
      "[11]\tvalidation_0-mlogloss:2.44190\tvalidation_1-mlogloss:2.51074\n",
      "[12]\tvalidation_0-mlogloss:2.39976\tvalidation_1-mlogloss:2.47044\n",
      "[13]\tvalidation_0-mlogloss:2.36064\tvalidation_1-mlogloss:2.43247\n",
      "[14]\tvalidation_0-mlogloss:2.32453\tvalidation_1-mlogloss:2.39801\n",
      "[15]\tvalidation_0-mlogloss:2.29143\tvalidation_1-mlogloss:2.36652\n",
      "[16]\tvalidation_0-mlogloss:2.26058\tvalidation_1-mlogloss:2.33758\n",
      "[17]\tvalidation_0-mlogloss:2.23162\tvalidation_1-mlogloss:2.31017\n",
      "[18]\tvalidation_0-mlogloss:2.20486\tvalidation_1-mlogloss:2.28519\n",
      "[19]\tvalidation_0-mlogloss:2.17964\tvalidation_1-mlogloss:2.26127\n",
      "[20]\tvalidation_0-mlogloss:2.15600\tvalidation_1-mlogloss:2.23945\n",
      "[21]\tvalidation_0-mlogloss:2.13395\tvalidation_1-mlogloss:2.21907\n",
      "[22]\tvalidation_0-mlogloss:2.11285\tvalidation_1-mlogloss:2.19949\n",
      "[23]\tvalidation_0-mlogloss:2.09308\tvalidation_1-mlogloss:2.18143\n",
      "[24]\tvalidation_0-mlogloss:2.07446\tvalidation_1-mlogloss:2.16503\n",
      "[25]\tvalidation_0-mlogloss:2.05652\tvalidation_1-mlogloss:2.14863\n",
      "[26]\tvalidation_0-mlogloss:2.03983\tvalidation_1-mlogloss:2.13367\n",
      "[27]\tvalidation_0-mlogloss:2.02384\tvalidation_1-mlogloss:2.11944\n",
      "[28]\tvalidation_0-mlogloss:2.00849\tvalidation_1-mlogloss:2.10570\n",
      "[29]\tvalidation_0-mlogloss:1.99381\tvalidation_1-mlogloss:2.09290\n",
      "[30]\tvalidation_0-mlogloss:1.97993\tvalidation_1-mlogloss:2.08038\n",
      "[31]\tvalidation_0-mlogloss:1.96682\tvalidation_1-mlogloss:2.06915\n",
      "[32]\tvalidation_0-mlogloss:1.95404\tvalidation_1-mlogloss:2.05805\n",
      "[33]\tvalidation_0-mlogloss:1.94205\tvalidation_1-mlogloss:2.04800\n",
      "[34]\tvalidation_0-mlogloss:1.93050\tvalidation_1-mlogloss:2.03770\n",
      "[35]\tvalidation_0-mlogloss:1.91932\tvalidation_1-mlogloss:2.02822\n",
      "[36]\tvalidation_0-mlogloss:1.90850\tvalidation_1-mlogloss:2.01905\n",
      "[37]\tvalidation_0-mlogloss:1.89830\tvalidation_1-mlogloss:2.01033\n",
      "[38]\tvalidation_0-mlogloss:1.88857\tvalidation_1-mlogloss:2.00235\n",
      "[39]\tvalidation_0-mlogloss:1.87898\tvalidation_1-mlogloss:1.99440\n",
      "[40]\tvalidation_0-mlogloss:1.86985\tvalidation_1-mlogloss:1.98683\n",
      "[41]\tvalidation_0-mlogloss:1.86095\tvalidation_1-mlogloss:1.97955\n",
      "[42]\tvalidation_0-mlogloss:1.85235\tvalidation_1-mlogloss:1.97246\n",
      "[43]\tvalidation_0-mlogloss:1.84425\tvalidation_1-mlogloss:1.96564\n",
      "[44]\tvalidation_0-mlogloss:1.83626\tvalidation_1-mlogloss:1.95947\n",
      "[45]\tvalidation_0-mlogloss:1.82862\tvalidation_1-mlogloss:1.95345\n",
      "[46]\tvalidation_0-mlogloss:1.82099\tvalidation_1-mlogloss:1.94725\n",
      "[47]\tvalidation_0-mlogloss:1.81391\tvalidation_1-mlogloss:1.94167\n",
      "[48]\tvalidation_0-mlogloss:1.80684\tvalidation_1-mlogloss:1.93594\n",
      "[49]\tvalidation_0-mlogloss:1.79992\tvalidation_1-mlogloss:1.93064\n",
      "[50]\tvalidation_0-mlogloss:1.79321\tvalidation_1-mlogloss:1.92545\n",
      "[51]\tvalidation_0-mlogloss:1.78690\tvalidation_1-mlogloss:1.92093\n",
      "[52]\tvalidation_0-mlogloss:1.78056\tvalidation_1-mlogloss:1.91596\n",
      "[53]\tvalidation_0-mlogloss:1.77447\tvalidation_1-mlogloss:1.91127\n",
      "[54]\tvalidation_0-mlogloss:1.76850\tvalidation_1-mlogloss:1.90653\n",
      "[55]\tvalidation_0-mlogloss:1.76283\tvalidation_1-mlogloss:1.90246\n",
      "[56]\tvalidation_0-mlogloss:1.75728\tvalidation_1-mlogloss:1.89809\n",
      "[57]\tvalidation_0-mlogloss:1.75175\tvalidation_1-mlogloss:1.89415\n",
      "[58]\tvalidation_0-mlogloss:1.74655\tvalidation_1-mlogloss:1.89057\n",
      "[59]\tvalidation_0-mlogloss:1.74133\tvalidation_1-mlogloss:1.88672\n",
      "[60]\tvalidation_0-mlogloss:1.73613\tvalidation_1-mlogloss:1.88282\n",
      "[61]\tvalidation_0-mlogloss:1.73132\tvalidation_1-mlogloss:1.87930\n",
      "[62]\tvalidation_0-mlogloss:1.72634\tvalidation_1-mlogloss:1.87568\n",
      "[63]\tvalidation_0-mlogloss:1.72169\tvalidation_1-mlogloss:1.87258\n",
      "[64]\tvalidation_0-mlogloss:1.71698\tvalidation_1-mlogloss:1.86922\n",
      "[65]\tvalidation_0-mlogloss:1.71257\tvalidation_1-mlogloss:1.86619\n",
      "[66]\tvalidation_0-mlogloss:1.70812\tvalidation_1-mlogloss:1.86316\n",
      "[67]\tvalidation_0-mlogloss:1.70384\tvalidation_1-mlogloss:1.86039\n",
      "[68]\tvalidation_0-mlogloss:1.69929\tvalidation_1-mlogloss:1.85756\n",
      "[69]\tvalidation_0-mlogloss:1.69508\tvalidation_1-mlogloss:1.85452\n",
      "[70]\tvalidation_0-mlogloss:1.69101\tvalidation_1-mlogloss:1.85193\n",
      "[71]\tvalidation_0-mlogloss:1.68693\tvalidation_1-mlogloss:1.84928\n",
      "[72]\tvalidation_0-mlogloss:1.68301\tvalidation_1-mlogloss:1.84695\n",
      "[73]\tvalidation_0-mlogloss:1.67910\tvalidation_1-mlogloss:1.84419\n",
      "[74]\tvalidation_0-mlogloss:1.67524\tvalidation_1-mlogloss:1.84175\n",
      "[75]\tvalidation_0-mlogloss:1.67151\tvalidation_1-mlogloss:1.83948\n",
      "[76]\tvalidation_0-mlogloss:1.66787\tvalidation_1-mlogloss:1.83731\n",
      "[77]\tvalidation_0-mlogloss:1.66440\tvalidation_1-mlogloss:1.83493\n",
      "[78]\tvalidation_0-mlogloss:1.66071\tvalidation_1-mlogloss:1.83265\n",
      "[79]\tvalidation_0-mlogloss:1.65722\tvalidation_1-mlogloss:1.83070\n",
      "[80]\tvalidation_0-mlogloss:1.65367\tvalidation_1-mlogloss:1.82853\n",
      "[81]\tvalidation_0-mlogloss:1.65036\tvalidation_1-mlogloss:1.82649\n",
      "[82]\tvalidation_0-mlogloss:1.64708\tvalidation_1-mlogloss:1.82442\n",
      "[83]\tvalidation_0-mlogloss:1.64380\tvalidation_1-mlogloss:1.82251\n",
      "[84]\tvalidation_0-mlogloss:1.64049\tvalidation_1-mlogloss:1.82047\n",
      "[85]\tvalidation_0-mlogloss:1.63742\tvalidation_1-mlogloss:1.81865\n",
      "[86]\tvalidation_0-mlogloss:1.63425\tvalidation_1-mlogloss:1.81696\n",
      "[87]\tvalidation_0-mlogloss:1.63121\tvalidation_1-mlogloss:1.81507\n",
      "[88]\tvalidation_0-mlogloss:1.62804\tvalidation_1-mlogloss:1.81325\n",
      "[89]\tvalidation_0-mlogloss:1.62496\tvalidation_1-mlogloss:1.81151\n",
      "[90]\tvalidation_0-mlogloss:1.62198\tvalidation_1-mlogloss:1.80988\n",
      "[91]\tvalidation_0-mlogloss:1.61907\tvalidation_1-mlogloss:1.80829\n",
      "[92]\tvalidation_0-mlogloss:1.61622\tvalidation_1-mlogloss:1.80662\n",
      "[93]\tvalidation_0-mlogloss:1.61334\tvalidation_1-mlogloss:1.80518\n",
      "[94]\tvalidation_0-mlogloss:1.61047\tvalidation_1-mlogloss:1.80365\n",
      "[95]\tvalidation_0-mlogloss:1.60766\tvalidation_1-mlogloss:1.80206\n",
      "[96]\tvalidation_0-mlogloss:1.60494\tvalidation_1-mlogloss:1.80050\n",
      "[97]\tvalidation_0-mlogloss:1.60220\tvalidation_1-mlogloss:1.79927\n",
      "[98]\tvalidation_0-mlogloss:1.59951\tvalidation_1-mlogloss:1.79797\n",
      "[99]\tvalidation_0-mlogloss:1.59692\tvalidation_1-mlogloss:1.79658\n"
     ]
    },
    {
     "data": {
      "text/html": [
       "<style>#sk-container-id-3 {color: black;}#sk-container-id-3 pre{padding: 0;}#sk-container-id-3 div.sk-toggleable {background-color: white;}#sk-container-id-3 label.sk-toggleable__label {cursor: pointer;display: block;width: 100%;margin-bottom: 0;padding: 0.3em;box-sizing: border-box;text-align: center;}#sk-container-id-3 label.sk-toggleable__label-arrow:before {content: \"▸\";float: left;margin-right: 0.25em;color: #696969;}#sk-container-id-3 label.sk-toggleable__label-arrow:hover:before {color: black;}#sk-container-id-3 div.sk-estimator:hover label.sk-toggleable__label-arrow:before {color: black;}#sk-container-id-3 div.sk-toggleable__content {max-height: 0;max-width: 0;overflow: hidden;text-align: left;background-color: #f0f8ff;}#sk-container-id-3 div.sk-toggleable__content pre {margin: 0.2em;color: black;border-radius: 0.25em;background-color: #f0f8ff;}#sk-container-id-3 input.sk-toggleable__control:checked~div.sk-toggleable__content {max-height: 200px;max-width: 100%;overflow: auto;}#sk-container-id-3 input.sk-toggleable__control:checked~label.sk-toggleable__label-arrow:before {content: \"▾\";}#sk-container-id-3 div.sk-estimator input.sk-toggleable__control:checked~label.sk-toggleable__label {background-color: #d4ebff;}#sk-container-id-3 div.sk-label input.sk-toggleable__control:checked~label.sk-toggleable__label {background-color: #d4ebff;}#sk-container-id-3 input.sk-hidden--visually {border: 0;clip: rect(1px 1px 1px 1px);clip: rect(1px, 1px, 1px, 1px);height: 1px;margin: -1px;overflow: hidden;padding: 0;position: absolute;width: 1px;}#sk-container-id-3 div.sk-estimator {font-family: monospace;background-color: #f0f8ff;border: 1px dotted black;border-radius: 0.25em;box-sizing: border-box;margin-bottom: 0.5em;}#sk-container-id-3 div.sk-estimator:hover {background-color: #d4ebff;}#sk-container-id-3 div.sk-parallel-item::after {content: \"\";width: 100%;border-bottom: 1px solid gray;flex-grow: 1;}#sk-container-id-3 div.sk-label:hover label.sk-toggleable__label {background-color: #d4ebff;}#sk-container-id-3 div.sk-serial::before {content: \"\";position: absolute;border-left: 1px solid gray;box-sizing: border-box;top: 0;bottom: 0;left: 50%;z-index: 0;}#sk-container-id-3 div.sk-serial {display: flex;flex-direction: column;align-items: center;background-color: white;padding-right: 0.2em;padding-left: 0.2em;position: relative;}#sk-container-id-3 div.sk-item {position: relative;z-index: 1;}#sk-container-id-3 div.sk-parallel {display: flex;align-items: stretch;justify-content: center;background-color: white;position: relative;}#sk-container-id-3 div.sk-item::before, #sk-container-id-3 div.sk-parallel-item::before {content: \"\";position: absolute;border-left: 1px solid gray;box-sizing: border-box;top: 0;bottom: 0;left: 50%;z-index: -1;}#sk-container-id-3 div.sk-parallel-item {display: flex;flex-direction: column;z-index: 1;position: relative;background-color: white;}#sk-container-id-3 div.sk-parallel-item:first-child::after {align-self: flex-end;width: 50%;}#sk-container-id-3 div.sk-parallel-item:last-child::after {align-self: flex-start;width: 50%;}#sk-container-id-3 div.sk-parallel-item:only-child::after {width: 0;}#sk-container-id-3 div.sk-dashed-wrapped {border: 1px dashed gray;margin: 0 0.4em 0.5em 0.4em;box-sizing: border-box;padding-bottom: 0.4em;background-color: white;}#sk-container-id-3 div.sk-label label {font-family: monospace;font-weight: bold;display: inline-block;line-height: 1.2em;}#sk-container-id-3 div.sk-label-container {text-align: center;}#sk-container-id-3 div.sk-container {/* jupyter's `normalize.less` sets `[hidden] { display: none; }` but bootstrap.min.css set `[hidden] { display: none !important; }` so we also need the `!important` here to be able to override the default hidden behavior on the sphinx rendered scikit-learn.org. See: https://github.com/scikit-learn/scikit-learn/issues/21755 */display: inline-block !important;position: relative;}#sk-container-id-3 div.sk-text-repr-fallback {display: none;}</style><div id=\"sk-container-id-3\" class=\"sk-top-container\"><div class=\"sk-text-repr-fallback\"><pre>XGBClassifier(base_score=None, booster=None, callbacks=None,\n",
       "              colsample_bylevel=None, colsample_bynode=None,\n",
       "              colsample_bytree=None, device=None, early_stopping_rounds=None,\n",
       "              enable_categorical=False, eval_metric=&#x27;mlogloss&#x27;,\n",
       "              feature_types=None, gamma=None, grow_policy=None,\n",
       "              importance_type=None, interaction_constraints=None,\n",
       "              learning_rate=0.1, max_bin=None, max_cat_threshold=None,\n",
       "              max_cat_to_onehot=None, max_delta_step=None, max_depth=3,\n",
       "              max_leaves=None, min_child_weight=None, missing=nan,\n",
       "              monotone_constraints=None, multi_strategy=None, n_estimators=100,\n",
       "              n_jobs=None, num_class=113, num_parallel_tree=None, ...)</pre><b>In a Jupyter environment, please rerun this cell to show the HTML representation or trust the notebook. <br />On GitHub, the HTML representation is unable to render, please try loading this page with nbviewer.org.</b></div><div class=\"sk-container\" hidden><div class=\"sk-item\"><div class=\"sk-estimator sk-toggleable\"><input class=\"sk-toggleable__control sk-hidden--visually\" id=\"sk-estimator-id-3\" type=\"checkbox\" checked><label for=\"sk-estimator-id-3\" class=\"sk-toggleable__label sk-toggleable__label-arrow\">XGBClassifier</label><div class=\"sk-toggleable__content\"><pre>XGBClassifier(base_score=None, booster=None, callbacks=None,\n",
       "              colsample_bylevel=None, colsample_bynode=None,\n",
       "              colsample_bytree=None, device=None, early_stopping_rounds=None,\n",
       "              enable_categorical=False, eval_metric=&#x27;mlogloss&#x27;,\n",
       "              feature_types=None, gamma=None, grow_policy=None,\n",
       "              importance_type=None, interaction_constraints=None,\n",
       "              learning_rate=0.1, max_bin=None, max_cat_threshold=None,\n",
       "              max_cat_to_onehot=None, max_delta_step=None, max_depth=3,\n",
       "              max_leaves=None, min_child_weight=None, missing=nan,\n",
       "              monotone_constraints=None, multi_strategy=None, n_estimators=100,\n",
       "              n_jobs=None, num_class=113, num_parallel_tree=None, ...)</pre></div></div></div></div></div>"
      ],
      "text/plain": [
       "XGBClassifier(base_score=None, booster=None, callbacks=None,\n",
       "              colsample_bylevel=None, colsample_bynode=None,\n",
       "              colsample_bytree=None, device=None, early_stopping_rounds=None,\n",
       "              enable_categorical=False, eval_metric='mlogloss',\n",
       "              feature_types=None, gamma=None, grow_policy=None,\n",
       "              importance_type=None, interaction_constraints=None,\n",
       "              learning_rate=0.1, max_bin=None, max_cat_threshold=None,\n",
       "              max_cat_to_onehot=None, max_delta_step=None, max_depth=3,\n",
       "              max_leaves=None, min_child_weight=None, missing=nan,\n",
       "              monotone_constraints=None, multi_strategy=None, n_estimators=100,\n",
       "              n_jobs=None, num_class=113, num_parallel_tree=None, ...)"
      ]
     },
     "execution_count": 24,
     "metadata": {},
     "output_type": "execute_result"
    }
   ],
   "source": [
    "num_classes = len(np.unique(y_train_labeled))\n",
    "model_l10 = xgb.XGBClassifier(\n",
    "    objective='multi:softmax',\n",
    "    num_class=num_classes,\n",
    "    max_depth=3,\n",
    "    learning_rate=0.1,\n",
    "    n_estimators=100,\n",
    "    eval_metric = \"mlogloss\"\n",
    ")\n",
    "\n",
    "# Train the model while monitoring the evaluation metrics\n",
    "model_l10.fit(\n",
    "    X_train_encoded, y_train_labeled,\n",
    "    eval_set=[(X_train_encoded, y_train_labeled), (X_valid_encoded, y_valid_labeled)],  # Datasets for evaluation\n",
    "    verbose=True\n",
    ")\n"
   ]
  },
  {
   "cell_type": "code",
   "execution_count": 25,
   "metadata": {},
   "outputs": [
    {
     "name": "stdout",
     "output_type": "stream",
     "text": [
      "Accuracy of XgBoost: 0.46813423645320196\n"
     ]
    }
   ],
   "source": [
    "y_pred = model_l10.predict(X_test_encoded)\n",
    "pred_labels = ninemer_label_encoder.inverse_transform(y_pred)\n",
    "\n",
    "test_peptides = tenmer_encoder.inverse_transform(X_test_encoded)\n",
    "test_peptides = [\"\".join(x) for x in test_peptides]\n",
    "true_labels = ninemer_label_encoder.inverse_transform(y_test_labeled)\n",
    "df_10_test_truth = pd.DataFrame({'Peptide':test_peptides, 'Allele': true_labels})\n",
    "\n",
    "accuracy = accuracy_score(pred_labels, df_10_test_truth['Allele'].values)\n",
    "print(f\"Accuracy of XgBoost: {accuracy}\")"
   ]
  },
  {
   "cell_type": "code",
   "execution_count": 26,
   "metadata": {},
   "outputs": [],
   "source": [
    "all_test_substrings_of_length_9 = [(s[:9], s[1:10]) for s in df_10_test_truth['Peptide'].values]\n",
    "test_sub_peptides_1 = [tu[0] for tu in all_test_substrings_of_length_9]\n",
    "x_substr_9_1 = np.array([list(s) for s in test_sub_peptides_1])\n",
    "x_substr_9_1 = ninemer_encoder.fit_transform(x_substr_9_1).toarray()"
   ]
  },
  {
   "cell_type": "code",
   "execution_count": 27,
   "metadata": {},
   "outputs": [],
   "source": [
    "p10 = model_l10.predict_proba(X_test_encoded)\n",
    "p9 = model_l9.predict_proba(x_substr_9_1)"
   ]
  },
  {
   "cell_type": "code",
   "execution_count": 45,
   "metadata": {},
   "outputs": [],
   "source": [
    "# maybe try something like this\n",
    "ptotal = 0.2 * p9 + 0.8 * p10\n",
    "\n",
    "# then measure accuracy\n",
    "# and actually can do a for loop and measure different amounts of accuracy"
   ]
  },
  {
   "cell_type": "code",
   "execution_count": 46,
   "metadata": {},
   "outputs": [],
   "source": [
    "max_i = ptotal.argmax(axis = 1)\n",
    "pred_labels_by_total = ninemer_label_encoder.inverse_transform(max_i)"
   ]
  },
  {
   "cell_type": "code",
   "execution_count": 48,
   "metadata": {},
   "outputs": [
    {
     "name": "stdout",
     "output_type": "stream",
     "text": [
      "Accuracy of Combined Methods, using 9mer and 10mers: 0.4676724137931034\n"
     ]
    }
   ],
   "source": [
    "accuracy = accuracy_score(pred_labels_by_total, df_10_test_truth['Allele'].values)\n",
    "print(f\"Accuracy of Combined Methods, using 9mer and 10mers: {accuracy}\")"
   ]
  }
 ],
 "metadata": {
  "kernelspec": {
   "display_name": "Python 3",
   "language": "python",
   "name": "python3"
  },
  "language_info": {
   "codemirror_mode": {
    "name": "ipython",
    "version": 3
   },
   "file_extension": ".py",
   "mimetype": "text/x-python",
   "name": "python",
   "nbconvert_exporter": "python",
   "pygments_lexer": "ipython3",
   "version": "3.11.6"
  }
 },
 "nbformat": 4,
 "nbformat_minor": 2
}
