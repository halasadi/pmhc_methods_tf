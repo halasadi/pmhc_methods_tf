{
 "cells": [
  {
   "cell_type": "code",
   "execution_count": 2,
   "metadata": {},
   "outputs": [],
   "source": [
    "import pandas as pd\n",
    "import xgboost as xgb\n",
    "from sklearn.model_selection import train_test_split\n",
    "from sklearn.preprocessing import LabelEncoder\n",
    "import numpy as np\n",
    "import matplotlib.pyplot as plt\n",
    "from sklearn.preprocessing import OneHotEncoder\n",
    "from sklearn.metrics import accuracy_score"
   ]
  },
  {
   "cell_type": "markdown",
   "metadata": {},
   "source": [
    "# Load data "
   ]
  },
  {
   "cell_type": "code",
   "execution_count": 3,
   "metadata": {},
   "outputs": [],
   "source": [
    "path_to_data = '../public_data/mixmhcpred/TableS2.txt'\n",
    "# ignore the first row (header)\n",
    "df = pd.read_csv(path_to_data, sep='\\t', skiprows=1)"
   ]
  },
  {
   "cell_type": "code",
   "execution_count": 4,
   "metadata": {},
   "outputs": [
    {
     "data": {
      "text/plain": [
       "<Axes: >"
      ]
     },
     "execution_count": 4,
     "metadata": {},
     "output_type": "execute_result"
    },
    {
     "data": {
      "image/png": "[encoded data removed]",
      "text/plain": [
       "<Figure size 640x480 with 1 Axes>"
      ]
     },
     "metadata": {},
     "output_type": "display_data"
    }
   ],
   "source": [
    "# length distributions of peptides\n",
    "df['Peptide_Lengths'] = df['Peptide'].apply(len)\n",
    "df['Peptide_Lengths'].hist(bins=20)"
   ]
  },
  {
   "cell_type": "markdown",
   "metadata": {},
   "source": [
    "# Build XgBoost model for peptides with length of 8"
   ]
  },
  {
   "cell_type": "code",
   "execution_count": 5,
   "metadata": {},
   "outputs": [],
   "source": [
    "df_8 = df[df['Peptide_Lengths'] == 8]"
   ]
  },
  {
   "cell_type": "code",
   "execution_count": 6,
   "metadata": {},
   "outputs": [],
   "source": [
    "encoder = OneHotEncoder()\n",
    "\n",
    "X_encoded = np.array([list(s) for s in df_8['Peptide'].values])\n",
    "X_encoded = encoder.fit_transform(X_encoded).toarray()\n"
   ]
  },
  {
   "cell_type": "code",
   "execution_count": 7,
   "metadata": {},
   "outputs": [],
   "source": [
    "label_encoder = LabelEncoder()\n",
    "# Fit the encoder on your class labels and transform them into numerical labels\n",
    "y_labeled = label_encoder.fit_transform(df_8['Allele'].values)"
   ]
  },
  {
   "cell_type": "code",
   "execution_count": 8,
   "metadata": {},
   "outputs": [],
   "source": [
    "test_size = 0.2\n",
    "\n",
    "# Calculate the number of samples in the test set\n",
    "num_test_samples = int(test_size * len(X_encoded))\n",
    "\n",
    "# Create an array of indices for shuffling\n",
    "indices = np.arange(len(X_encoded))\n",
    "\n",
    "# Randomly shuffle the indices\n",
    "np.random.seed(20)\n",
    "np.random.shuffle(indices)\n",
    "\n",
    "# Split the shuffled indices into train and test sets\n",
    "train_indices = indices[num_test_samples:]\n",
    "test_indices = indices[:num_test_samples]"
   ]
  },
  {
   "cell_type": "code",
   "execution_count": 9,
   "metadata": {},
   "outputs": [],
   "source": [
    "X_train_encoded = X_encoded[train_indices]\n",
    "X_test_encoded = X_encoded[test_indices]\n",
    "y_train_labeled = y_labeled[train_indices]\n",
    "y_test_labeled = y_labeled[test_indices]"
   ]
  },
  {
   "cell_type": "code",
   "execution_count": 10,
   "metadata": {},
   "outputs": [
    {
     "name": "stderr",
     "output_type": "stream",
     "text": [
      "/usr/local/lib/python3.11/site-packages/xgboost/sklearn.py:885: UserWarning: `eval_metric` in `fit` method is deprecated for better compatibility with scikit-learn, use `eval_metric` in constructor or`set_params` instead.\n",
      "  warnings.warn(\n"
     ]
    },
    {
     "name": "stdout",
     "output_type": "stream",
     "text": [
      "[0]\tvalidation_0-mlogloss:3.48110\tvalidation_1-mlogloss:3.48269\n",
      "[1]\tvalidation_0-mlogloss:3.22192\tvalidation_1-mlogloss:3.23243\n",
      "[2]\tvalidation_0-mlogloss:3.03191\tvalidation_1-mlogloss:3.04814\n",
      "[3]\tvalidation_0-mlogloss:2.88342\tvalidation_1-mlogloss:2.90466\n",
      "[4]\tvalidation_0-mlogloss:2.76317\tvalidation_1-mlogloss:2.78896\n",
      "[5]\tvalidation_0-mlogloss:2.65818\tvalidation_1-mlogloss:2.68870\n",
      "[6]\tvalidation_0-mlogloss:2.56908\tvalidation_1-mlogloss:2.60490\n",
      "[7]\tvalidation_0-mlogloss:2.49039\tvalidation_1-mlogloss:2.53060\n",
      "[8]\tvalidation_0-mlogloss:2.41902\tvalidation_1-mlogloss:2.46356\n",
      "[9]\tvalidation_0-mlogloss:2.35573\tvalidation_1-mlogloss:2.40483\n",
      "[10]\tvalidation_0-mlogloss:2.29900\tvalidation_1-mlogloss:2.35157\n",
      "[11]\tvalidation_0-mlogloss:2.24619\tvalidation_1-mlogloss:2.30288\n",
      "[12]\tvalidation_0-mlogloss:2.19865\tvalidation_1-mlogloss:2.25964\n",
      "[13]\tvalidation_0-mlogloss:2.15494\tvalidation_1-mlogloss:2.21876\n",
      "[14]\tvalidation_0-mlogloss:2.11284\tvalidation_1-mlogloss:2.17991\n",
      "[15]\tvalidation_0-mlogloss:2.07494\tvalidation_1-mlogloss:2.14472\n",
      "[16]\tvalidation_0-mlogloss:2.04016\tvalidation_1-mlogloss:2.11322\n",
      "[17]\tvalidation_0-mlogloss:2.00777\tvalidation_1-mlogloss:2.08401\n",
      "[18]\tvalidation_0-mlogloss:1.97696\tvalidation_1-mlogloss:2.05612\n",
      "[19]\tvalidation_0-mlogloss:1.94845\tvalidation_1-mlogloss:2.03034\n",
      "[20]\tvalidation_0-mlogloss:1.92197\tvalidation_1-mlogloss:2.00660\n",
      "[21]\tvalidation_0-mlogloss:1.89658\tvalidation_1-mlogloss:1.98351\n",
      "[22]\tvalidation_0-mlogloss:1.87275\tvalidation_1-mlogloss:1.96263\n",
      "[23]\tvalidation_0-mlogloss:1.84970\tvalidation_1-mlogloss:1.94275\n",
      "[24]\tvalidation_0-mlogloss:1.82876\tvalidation_1-mlogloss:1.92502\n",
      "[25]\tvalidation_0-mlogloss:1.80860\tvalidation_1-mlogloss:1.90724\n",
      "[26]\tvalidation_0-mlogloss:1.78919\tvalidation_1-mlogloss:1.88996\n",
      "[27]\tvalidation_0-mlogloss:1.77131\tvalidation_1-mlogloss:1.87479\n",
      "[28]\tvalidation_0-mlogloss:1.75398\tvalidation_1-mlogloss:1.85987\n",
      "[29]\tvalidation_0-mlogloss:1.73716\tvalidation_1-mlogloss:1.84550\n",
      "[30]\tvalidation_0-mlogloss:1.72122\tvalidation_1-mlogloss:1.83220\n",
      "[31]\tvalidation_0-mlogloss:1.70626\tvalidation_1-mlogloss:1.81964\n",
      "[32]\tvalidation_0-mlogloss:1.69164\tvalidation_1-mlogloss:1.80763\n",
      "[33]\tvalidation_0-mlogloss:1.67726\tvalidation_1-mlogloss:1.79548\n",
      "[34]\tvalidation_0-mlogloss:1.66384\tvalidation_1-mlogloss:1.78439\n",
      "[35]\tvalidation_0-mlogloss:1.65136\tvalidation_1-mlogloss:1.77443\n",
      "[36]\tvalidation_0-mlogloss:1.63922\tvalidation_1-mlogloss:1.76473\n",
      "[37]\tvalidation_0-mlogloss:1.62679\tvalidation_1-mlogloss:1.75441\n",
      "[38]\tvalidation_0-mlogloss:1.61559\tvalidation_1-mlogloss:1.74547\n",
      "[39]\tvalidation_0-mlogloss:1.60444\tvalidation_1-mlogloss:1.73652\n",
      "[40]\tvalidation_0-mlogloss:1.59432\tvalidation_1-mlogloss:1.72896\n",
      "[41]\tvalidation_0-mlogloss:1.58428\tvalidation_1-mlogloss:1.72088\n",
      "[42]\tvalidation_0-mlogloss:1.57462\tvalidation_1-mlogloss:1.71360\n",
      "[43]\tvalidation_0-mlogloss:1.56538\tvalidation_1-mlogloss:1.70713\n",
      "[44]\tvalidation_0-mlogloss:1.55622\tvalidation_1-mlogloss:1.70036\n",
      "[45]\tvalidation_0-mlogloss:1.54717\tvalidation_1-mlogloss:1.69369\n",
      "[46]\tvalidation_0-mlogloss:1.53871\tvalidation_1-mlogloss:1.68709\n",
      "[47]\tvalidation_0-mlogloss:1.53025\tvalidation_1-mlogloss:1.68084\n",
      "[48]\tvalidation_0-mlogloss:1.52183\tvalidation_1-mlogloss:1.67448\n",
      "[49]\tvalidation_0-mlogloss:1.51398\tvalidation_1-mlogloss:1.66857\n",
      "[50]\tvalidation_0-mlogloss:1.50634\tvalidation_1-mlogloss:1.66329\n",
      "[51]\tvalidation_0-mlogloss:1.49874\tvalidation_1-mlogloss:1.65803\n",
      "[52]\tvalidation_0-mlogloss:1.49153\tvalidation_1-mlogloss:1.65296\n",
      "[53]\tvalidation_0-mlogloss:1.48462\tvalidation_1-mlogloss:1.64833\n",
      "[54]\tvalidation_0-mlogloss:1.47771\tvalidation_1-mlogloss:1.64379\n",
      "[55]\tvalidation_0-mlogloss:1.47115\tvalidation_1-mlogloss:1.63929\n",
      "[56]\tvalidation_0-mlogloss:1.46479\tvalidation_1-mlogloss:1.63479\n",
      "[57]\tvalidation_0-mlogloss:1.45864\tvalidation_1-mlogloss:1.63104\n",
      "[58]\tvalidation_0-mlogloss:1.45244\tvalidation_1-mlogloss:1.62701\n",
      "[59]\tvalidation_0-mlogloss:1.44608\tvalidation_1-mlogloss:1.62269\n",
      "[60]\tvalidation_0-mlogloss:1.44007\tvalidation_1-mlogloss:1.61933\n",
      "[61]\tvalidation_0-mlogloss:1.43415\tvalidation_1-mlogloss:1.61536\n",
      "[62]\tvalidation_0-mlogloss:1.42870\tvalidation_1-mlogloss:1.61224\n",
      "[63]\tvalidation_0-mlogloss:1.42319\tvalidation_1-mlogloss:1.60879\n",
      "[64]\tvalidation_0-mlogloss:1.41766\tvalidation_1-mlogloss:1.60563\n",
      "[65]\tvalidation_0-mlogloss:1.41227\tvalidation_1-mlogloss:1.60259\n",
      "[66]\tvalidation_0-mlogloss:1.40691\tvalidation_1-mlogloss:1.59955\n",
      "[67]\tvalidation_0-mlogloss:1.40171\tvalidation_1-mlogloss:1.59688\n",
      "[68]\tvalidation_0-mlogloss:1.39675\tvalidation_1-mlogloss:1.59396\n",
      "[69]\tvalidation_0-mlogloss:1.39175\tvalidation_1-mlogloss:1.59105\n",
      "[70]\tvalidation_0-mlogloss:1.38687\tvalidation_1-mlogloss:1.58842\n",
      "[71]\tvalidation_0-mlogloss:1.38223\tvalidation_1-mlogloss:1.58584\n",
      "[72]\tvalidation_0-mlogloss:1.37754\tvalidation_1-mlogloss:1.58346\n",
      "[73]\tvalidation_0-mlogloss:1.37296\tvalidation_1-mlogloss:1.58104\n",
      "[74]\tvalidation_0-mlogloss:1.36844\tvalidation_1-mlogloss:1.57889\n",
      "[75]\tvalidation_0-mlogloss:1.36389\tvalidation_1-mlogloss:1.57643\n",
      "[76]\tvalidation_0-mlogloss:1.35957\tvalidation_1-mlogloss:1.57398\n",
      "[77]\tvalidation_0-mlogloss:1.35541\tvalidation_1-mlogloss:1.57170\n",
      "[78]\tvalidation_0-mlogloss:1.35134\tvalidation_1-mlogloss:1.56957\n",
      "[79]\tvalidation_0-mlogloss:1.34729\tvalidation_1-mlogloss:1.56756\n",
      "[80]\tvalidation_0-mlogloss:1.34313\tvalidation_1-mlogloss:1.56517\n",
      "[81]\tvalidation_0-mlogloss:1.33930\tvalidation_1-mlogloss:1.56338\n",
      "[82]\tvalidation_0-mlogloss:1.33540\tvalidation_1-mlogloss:1.56157\n",
      "[83]\tvalidation_0-mlogloss:1.33153\tvalidation_1-mlogloss:1.55944\n",
      "[84]\tvalidation_0-mlogloss:1.32779\tvalidation_1-mlogloss:1.55767\n",
      "[85]\tvalidation_0-mlogloss:1.32416\tvalidation_1-mlogloss:1.55595\n",
      "[86]\tvalidation_0-mlogloss:1.32035\tvalidation_1-mlogloss:1.55385\n",
      "[87]\tvalidation_0-mlogloss:1.31676\tvalidation_1-mlogloss:1.55203\n",
      "[88]\tvalidation_0-mlogloss:1.31323\tvalidation_1-mlogloss:1.55023\n",
      "[89]\tvalidation_0-mlogloss:1.30978\tvalidation_1-mlogloss:1.54854\n",
      "[90]\tvalidation_0-mlogloss:1.30647\tvalidation_1-mlogloss:1.54708\n",
      "[91]\tvalidation_0-mlogloss:1.30296\tvalidation_1-mlogloss:1.54533\n",
      "[92]\tvalidation_0-mlogloss:1.29959\tvalidation_1-mlogloss:1.54377\n",
      "[93]\tvalidation_0-mlogloss:1.29642\tvalidation_1-mlogloss:1.54225\n",
      "[94]\tvalidation_0-mlogloss:1.29327\tvalidation_1-mlogloss:1.54081\n",
      "[95]\tvalidation_0-mlogloss:1.29003\tvalidation_1-mlogloss:1.53928\n",
      "[96]\tvalidation_0-mlogloss:1.28683\tvalidation_1-mlogloss:1.53789\n",
      "[97]\tvalidation_0-mlogloss:1.28374\tvalidation_1-mlogloss:1.53658\n",
      "[98]\tvalidation_0-mlogloss:1.28052\tvalidation_1-mlogloss:1.53485\n",
      "[99]\tvalidation_0-mlogloss:1.27755\tvalidation_1-mlogloss:1.53346\n",
      "[100]\tvalidation_0-mlogloss:1.27463\tvalidation_1-mlogloss:1.53218\n",
      "[101]\tvalidation_0-mlogloss:1.27170\tvalidation_1-mlogloss:1.53064\n",
      "[102]\tvalidation_0-mlogloss:1.26883\tvalidation_1-mlogloss:1.52924\n",
      "[103]\tvalidation_0-mlogloss:1.26603\tvalidation_1-mlogloss:1.52815\n",
      "[104]\tvalidation_0-mlogloss:1.26330\tvalidation_1-mlogloss:1.52723\n",
      "[105]\tvalidation_0-mlogloss:1.26047\tvalidation_1-mlogloss:1.52617\n",
      "[106]\tvalidation_0-mlogloss:1.25766\tvalidation_1-mlogloss:1.52492\n",
      "[107]\tvalidation_0-mlogloss:1.25478\tvalidation_1-mlogloss:1.52367\n",
      "[108]\tvalidation_0-mlogloss:1.25219\tvalidation_1-mlogloss:1.52267\n",
      "[109]\tvalidation_0-mlogloss:1.24945\tvalidation_1-mlogloss:1.52125\n",
      "[110]\tvalidation_0-mlogloss:1.24689\tvalidation_1-mlogloss:1.52012\n",
      "[111]\tvalidation_0-mlogloss:1.24414\tvalidation_1-mlogloss:1.51880\n",
      "[112]\tvalidation_0-mlogloss:1.24167\tvalidation_1-mlogloss:1.51777\n",
      "[113]\tvalidation_0-mlogloss:1.23904\tvalidation_1-mlogloss:1.51651\n",
      "[114]\tvalidation_0-mlogloss:1.23651\tvalidation_1-mlogloss:1.51535\n",
      "[115]\tvalidation_0-mlogloss:1.23398\tvalidation_1-mlogloss:1.51439\n",
      "[116]\tvalidation_0-mlogloss:1.23144\tvalidation_1-mlogloss:1.51345\n",
      "[117]\tvalidation_0-mlogloss:1.22883\tvalidation_1-mlogloss:1.51249\n",
      "[118]\tvalidation_0-mlogloss:1.22638\tvalidation_1-mlogloss:1.51160\n",
      "[119]\tvalidation_0-mlogloss:1.22409\tvalidation_1-mlogloss:1.51071\n",
      "[120]\tvalidation_0-mlogloss:1.22157\tvalidation_1-mlogloss:1.50976\n",
      "[121]\tvalidation_0-mlogloss:1.21912\tvalidation_1-mlogloss:1.50906\n",
      "[122]\tvalidation_0-mlogloss:1.21671\tvalidation_1-mlogloss:1.50810\n",
      "[123]\tvalidation_0-mlogloss:1.21441\tvalidation_1-mlogloss:1.50716\n",
      "[124]\tvalidation_0-mlogloss:1.21216\tvalidation_1-mlogloss:1.50623\n",
      "[125]\tvalidation_0-mlogloss:1.20990\tvalidation_1-mlogloss:1.50542\n",
      "[126]\tvalidation_0-mlogloss:1.20761\tvalidation_1-mlogloss:1.50432\n",
      "[127]\tvalidation_0-mlogloss:1.20549\tvalidation_1-mlogloss:1.50366\n",
      "[128]\tvalidation_0-mlogloss:1.20336\tvalidation_1-mlogloss:1.50278\n",
      "[129]\tvalidation_0-mlogloss:1.20124\tvalidation_1-mlogloss:1.50188\n",
      "[130]\tvalidation_0-mlogloss:1.19911\tvalidation_1-mlogloss:1.50120\n",
      "[131]\tvalidation_0-mlogloss:1.19683\tvalidation_1-mlogloss:1.50055\n",
      "[132]\tvalidation_0-mlogloss:1.19471\tvalidation_1-mlogloss:1.49976\n",
      "[133]\tvalidation_0-mlogloss:1.19253\tvalidation_1-mlogloss:1.49898\n",
      "[134]\tvalidation_0-mlogloss:1.19036\tvalidation_1-mlogloss:1.49824\n",
      "[135]\tvalidation_0-mlogloss:1.18827\tvalidation_1-mlogloss:1.49784\n",
      "[136]\tvalidation_0-mlogloss:1.18621\tvalidation_1-mlogloss:1.49734\n",
      "[137]\tvalidation_0-mlogloss:1.18423\tvalidation_1-mlogloss:1.49679\n",
      "[138]\tvalidation_0-mlogloss:1.18213\tvalidation_1-mlogloss:1.49589\n",
      "[139]\tvalidation_0-mlogloss:1.18007\tvalidation_1-mlogloss:1.49519\n",
      "[140]\tvalidation_0-mlogloss:1.17812\tvalidation_1-mlogloss:1.49462\n",
      "[141]\tvalidation_0-mlogloss:1.17616\tvalidation_1-mlogloss:1.49375\n",
      "[142]\tvalidation_0-mlogloss:1.17422\tvalidation_1-mlogloss:1.49295\n",
      "[143]\tvalidation_0-mlogloss:1.17228\tvalidation_1-mlogloss:1.49247\n",
      "[144]\tvalidation_0-mlogloss:1.17029\tvalidation_1-mlogloss:1.49185\n",
      "[145]\tvalidation_0-mlogloss:1.16833\tvalidation_1-mlogloss:1.49123\n",
      "[146]\tvalidation_0-mlogloss:1.16646\tvalidation_1-mlogloss:1.49046\n",
      "[147]\tvalidation_0-mlogloss:1.16465\tvalidation_1-mlogloss:1.48991\n",
      "[148]\tvalidation_0-mlogloss:1.16267\tvalidation_1-mlogloss:1.48934\n",
      "[149]\tvalidation_0-mlogloss:1.16087\tvalidation_1-mlogloss:1.48866\n",
      "[150]\tvalidation_0-mlogloss:1.15906\tvalidation_1-mlogloss:1.48817\n",
      "[151]\tvalidation_0-mlogloss:1.15707\tvalidation_1-mlogloss:1.48757\n",
      "[152]\tvalidation_0-mlogloss:1.15521\tvalidation_1-mlogloss:1.48708\n",
      "[153]\tvalidation_0-mlogloss:1.15342\tvalidation_1-mlogloss:1.48650\n",
      "[154]\tvalidation_0-mlogloss:1.15167\tvalidation_1-mlogloss:1.48583\n",
      "[155]\tvalidation_0-mlogloss:1.14979\tvalidation_1-mlogloss:1.48518\n",
      "[156]\tvalidation_0-mlogloss:1.14790\tvalidation_1-mlogloss:1.48464\n",
      "[157]\tvalidation_0-mlogloss:1.14613\tvalidation_1-mlogloss:1.48403\n",
      "[158]\tvalidation_0-mlogloss:1.14430\tvalidation_1-mlogloss:1.48353\n",
      "[159]\tvalidation_0-mlogloss:1.14262\tvalidation_1-mlogloss:1.48299\n",
      "[160]\tvalidation_0-mlogloss:1.14084\tvalidation_1-mlogloss:1.48262\n",
      "[161]\tvalidation_0-mlogloss:1.13908\tvalidation_1-mlogloss:1.48222\n",
      "[162]\tvalidation_0-mlogloss:1.13737\tvalidation_1-mlogloss:1.48150\n",
      "[163]\tvalidation_0-mlogloss:1.13564\tvalidation_1-mlogloss:1.48098\n",
      "[164]\tvalidation_0-mlogloss:1.13401\tvalidation_1-mlogloss:1.48054\n",
      "[165]\tvalidation_0-mlogloss:1.13236\tvalidation_1-mlogloss:1.48000\n",
      "[166]\tvalidation_0-mlogloss:1.13058\tvalidation_1-mlogloss:1.47953\n",
      "[167]\tvalidation_0-mlogloss:1.12896\tvalidation_1-mlogloss:1.47909\n",
      "[168]\tvalidation_0-mlogloss:1.12732\tvalidation_1-mlogloss:1.47859\n",
      "[169]\tvalidation_0-mlogloss:1.12557\tvalidation_1-mlogloss:1.47820\n",
      "[170]\tvalidation_0-mlogloss:1.12396\tvalidation_1-mlogloss:1.47779\n",
      "[171]\tvalidation_0-mlogloss:1.12234\tvalidation_1-mlogloss:1.47732\n",
      "[172]\tvalidation_0-mlogloss:1.12073\tvalidation_1-mlogloss:1.47686\n",
      "[173]\tvalidation_0-mlogloss:1.11914\tvalidation_1-mlogloss:1.47651\n",
      "[174]\tvalidation_0-mlogloss:1.11760\tvalidation_1-mlogloss:1.47617\n",
      "[175]\tvalidation_0-mlogloss:1.11607\tvalidation_1-mlogloss:1.47589\n",
      "[176]\tvalidation_0-mlogloss:1.11434\tvalidation_1-mlogloss:1.47532\n",
      "[177]\tvalidation_0-mlogloss:1.11275\tvalidation_1-mlogloss:1.47499\n",
      "[178]\tvalidation_0-mlogloss:1.11110\tvalidation_1-mlogloss:1.47461\n",
      "[179]\tvalidation_0-mlogloss:1.10958\tvalidation_1-mlogloss:1.47408\n",
      "[180]\tvalidation_0-mlogloss:1.10794\tvalidation_1-mlogloss:1.47356\n",
      "[181]\tvalidation_0-mlogloss:1.10648\tvalidation_1-mlogloss:1.47333\n",
      "[182]\tvalidation_0-mlogloss:1.10490\tvalidation_1-mlogloss:1.47280\n",
      "[183]\tvalidation_0-mlogloss:1.10344\tvalidation_1-mlogloss:1.47252\n",
      "[184]\tvalidation_0-mlogloss:1.10207\tvalidation_1-mlogloss:1.47228\n",
      "[185]\tvalidation_0-mlogloss:1.10064\tvalidation_1-mlogloss:1.47208\n",
      "[186]\tvalidation_0-mlogloss:1.09916\tvalidation_1-mlogloss:1.47173\n",
      "[187]\tvalidation_0-mlogloss:1.09771\tvalidation_1-mlogloss:1.47138\n",
      "[188]\tvalidation_0-mlogloss:1.09622\tvalidation_1-mlogloss:1.47108\n",
      "[189]\tvalidation_0-mlogloss:1.09483\tvalidation_1-mlogloss:1.47084\n",
      "[190]\tvalidation_0-mlogloss:1.09334\tvalidation_1-mlogloss:1.47063\n",
      "[191]\tvalidation_0-mlogloss:1.09188\tvalidation_1-mlogloss:1.47031\n",
      "[192]\tvalidation_0-mlogloss:1.09034\tvalidation_1-mlogloss:1.46984\n",
      "[193]\tvalidation_0-mlogloss:1.08896\tvalidation_1-mlogloss:1.46945\n",
      "[194]\tvalidation_0-mlogloss:1.08748\tvalidation_1-mlogloss:1.46911\n",
      "[195]\tvalidation_0-mlogloss:1.08604\tvalidation_1-mlogloss:1.46879\n",
      "[196]\tvalidation_0-mlogloss:1.08460\tvalidation_1-mlogloss:1.46843\n",
      "[197]\tvalidation_0-mlogloss:1.08308\tvalidation_1-mlogloss:1.46798\n",
      "[198]\tvalidation_0-mlogloss:1.08167\tvalidation_1-mlogloss:1.46762\n",
      "[199]\tvalidation_0-mlogloss:1.08021\tvalidation_1-mlogloss:1.46724\n"
     ]
    },
    {
     "data": {
      "text/html": [
       "<style>#sk-container-id-1 {color: black;}#sk-container-id-1 pre{padding: 0;}#sk-container-id-1 div.sk-toggleable {background-color: white;}#sk-container-id-1 label.sk-toggleable__label {cursor: pointer;display: block;width: 100%;margin-bottom: 0;padding: 0.3em;box-sizing: border-box;text-align: center;}#sk-container-id-1 label.sk-toggleable__label-arrow:before {content: \"▸\";float: left;margin-right: 0.25em;color: #696969;}#sk-container-id-1 label.sk-toggleable__label-arrow:hover:before {color: black;}#sk-container-id-1 div.sk-estimator:hover label.sk-toggleable__label-arrow:before {color: black;}#sk-container-id-1 div.sk-toggleable__content {max-height: 0;max-width: 0;overflow: hidden;text-align: left;background-color: #f0f8ff;}#sk-container-id-1 div.sk-toggleable__content pre {margin: 0.2em;color: black;border-radius: 0.25em;background-color: #f0f8ff;}#sk-container-id-1 input.sk-toggleable__control:checked~div.sk-toggleable__content {max-height: 200px;max-width: 100%;overflow: auto;}#sk-container-id-1 input.sk-toggleable__control:checked~label.sk-toggleable__label-arrow:before {content: \"▾\";}#sk-container-id-1 div.sk-estimator input.sk-toggleable__control:checked~label.sk-toggleable__label {background-color: #d4ebff;}#sk-container-id-1 div.sk-label input.sk-toggleable__control:checked~label.sk-toggleable__label {background-color: #d4ebff;}#sk-container-id-1 input.sk-hidden--visually {border: 0;clip: rect(1px 1px 1px 1px);clip: rect(1px, 1px, 1px, 1px);height: 1px;margin: -1px;overflow: hidden;padding: 0;position: absolute;width: 1px;}#sk-container-id-1 div.sk-estimator {font-family: monospace;background-color: #f0f8ff;border: 1px dotted black;border-radius: 0.25em;box-sizing: border-box;margin-bottom: 0.5em;}#sk-container-id-1 div.sk-estimator:hover {background-color: #d4ebff;}#sk-container-id-1 div.sk-parallel-item::after {content: \"\";width: 100%;border-bottom: 1px solid gray;flex-grow: 1;}#sk-container-id-1 div.sk-label:hover label.sk-toggleable__label {background-color: #d4ebff;}#sk-container-id-1 div.sk-serial::before {content: \"\";position: absolute;border-left: 1px solid gray;box-sizing: border-box;top: 0;bottom: 0;left: 50%;z-index: 0;}#sk-container-id-1 div.sk-serial {display: flex;flex-direction: column;align-items: center;background-color: white;padding-right: 0.2em;padding-left: 0.2em;position: relative;}#sk-container-id-1 div.sk-item {position: relative;z-index: 1;}#sk-container-id-1 div.sk-parallel {display: flex;align-items: stretch;justify-content: center;background-color: white;position: relative;}#sk-container-id-1 div.sk-item::before, #sk-container-id-1 div.sk-parallel-item::before {content: \"\";position: absolute;border-left: 1px solid gray;box-sizing: border-box;top: 0;bottom: 0;left: 50%;z-index: -1;}#sk-container-id-1 div.sk-parallel-item {display: flex;flex-direction: column;z-index: 1;position: relative;background-color: white;}#sk-container-id-1 div.sk-parallel-item:first-child::after {align-self: flex-end;width: 50%;}#sk-container-id-1 div.sk-parallel-item:last-child::after {align-self: flex-start;width: 50%;}#sk-container-id-1 div.sk-parallel-item:only-child::after {width: 0;}#sk-container-id-1 div.sk-dashed-wrapped {border: 1px dashed gray;margin: 0 0.4em 0.5em 0.4em;box-sizing: border-box;padding-bottom: 0.4em;background-color: white;}#sk-container-id-1 div.sk-label label {font-family: monospace;font-weight: bold;display: inline-block;line-height: 1.2em;}#sk-container-id-1 div.sk-label-container {text-align: center;}#sk-container-id-1 div.sk-container {/* jupyter's `normalize.less` sets `[hidden] { display: none; }` but bootstrap.min.css set `[hidden] { display: none !important; }` so we also need the `!important` here to be able to override the default hidden behavior on the sphinx rendered scikit-learn.org. See: https://github.com/scikit-learn/scikit-learn/issues/21755 */display: inline-block !important;position: relative;}#sk-container-id-1 div.sk-text-repr-fallback {display: none;}</style><div id=\"sk-container-id-1\" class=\"sk-top-container\"><div class=\"sk-text-repr-fallback\"><pre>XGBClassifier(base_score=None, booster=None, callbacks=None,\n",
       "              colsample_bylevel=None, colsample_bynode=None,\n",
       "              colsample_bytree=None, device=None, early_stopping_rounds=None,\n",
       "              enable_categorical=False, eval_metric=None, feature_types=None,\n",
       "              gamma=None, grow_policy=None, importance_type=None,\n",
       "              interaction_constraints=None, learning_rate=0.1, max_bin=None,\n",
       "              max_cat_threshold=None, max_cat_to_onehot=None,\n",
       "              max_delta_step=None, max_depth=3, max_leaves=None,\n",
       "              min_child_weight=None, missing=nan, monotone_constraints=None,\n",
       "              multi_strategy=None, n_estimators=200, n_jobs=None, num_class=117,\n",
       "              num_parallel_tree=None, ...)</pre><b>In a Jupyter environment, please rerun this cell to show the HTML representation or trust the notebook. <br />On GitHub, the HTML representation is unable to render, please try loading this page with nbviewer.org.</b></div><div class=\"sk-container\" hidden><div class=\"sk-item\"><div class=\"sk-estimator sk-toggleable\"><input class=\"sk-toggleable__control sk-hidden--visually\" id=\"sk-estimator-id-1\" type=\"checkbox\" checked><label for=\"sk-estimator-id-1\" class=\"sk-toggleable__label sk-toggleable__label-arrow\">XGBClassifier</label><div class=\"sk-toggleable__content\"><pre>XGBClassifier(base_score=None, booster=None, callbacks=None,\n",
       "              colsample_bylevel=None, colsample_bynode=None,\n",
       "              colsample_bytree=None, device=None, early_stopping_rounds=None,\n",
       "              enable_categorical=False, eval_metric=None, feature_types=None,\n",
       "              gamma=None, grow_policy=None, importance_type=None,\n",
       "              interaction_constraints=None, learning_rate=0.1, max_bin=None,\n",
       "              max_cat_threshold=None, max_cat_to_onehot=None,\n",
       "              max_delta_step=None, max_depth=3, max_leaves=None,\n",
       "              min_child_weight=None, missing=nan, monotone_constraints=None,\n",
       "              multi_strategy=None, n_estimators=200, n_jobs=None, num_class=117,\n",
       "              num_parallel_tree=None, ...)</pre></div></div></div></div></div>"
      ],
      "text/plain": [
       "XGBClassifier(base_score=None, booster=None, callbacks=None,\n",
       "              colsample_bylevel=None, colsample_bynode=None,\n",
       "              colsample_bytree=None, device=None, early_stopping_rounds=None,\n",
       "              enable_categorical=False, eval_metric=None, feature_types=None,\n",
       "              gamma=None, grow_policy=None, importance_type=None,\n",
       "              interaction_constraints=None, learning_rate=0.1, max_bin=None,\n",
       "              max_cat_threshold=None, max_cat_to_onehot=None,\n",
       "              max_delta_step=None, max_depth=3, max_leaves=None,\n",
       "              min_child_weight=None, missing=nan, monotone_constraints=None,\n",
       "              multi_strategy=None, n_estimators=200, n_jobs=None, num_class=117,\n",
       "              num_parallel_tree=None, ...)"
      ]
     },
     "execution_count": 10,
     "metadata": {},
     "output_type": "execute_result"
    }
   ],
   "source": [
    "num_classes = len(np.unique(df_8['Allele']))\n",
    "model_l8 = xgb.XGBClassifier(\n",
    "    objective='multi:softmax',\n",
    "    num_class=num_classes,\n",
    "    max_depth=3,\n",
    "    learning_rate=0.1,\n",
    "    n_estimators=200\n",
    ")\n",
    "\n",
    "# Train the model while monitoring the evaluation metrics\n",
    "model_l8.fit(\n",
    "    X_train_encoded, y_train_labeled,\n",
    "    eval_metric=[\"mlogloss\"],  # List of metrics to evaluate\n",
    "    eval_set=[(X_train_encoded, y_train_labeled), (X_test_encoded, y_test_labeled)],  # Datasets for evaluation\n",
    "    verbose=True\n",
    ")\n"
   ]
  },
  {
   "cell_type": "code",
   "execution_count": 11,
   "metadata": {},
   "outputs": [
    {
     "data": {
      "image/png": "[encoded data removed]",
      "text/plain": [
       "<Figure size 1000x600 with 1 Axes>"
      ]
     },
     "metadata": {},
     "output_type": "display_data"
    }
   ],
   "source": [
    "# Get the evaluation results for both training and validation sets\n",
    "results = model_l8.evals_result()\n",
    "\n",
    "# Extract log-loss values\n",
    "train_logloss = results[\"validation_0\"][\"mlogloss\"]\n",
    "test_logloss = results[\"validation_1\"][\"mlogloss\"]\n",
    "\n",
    "# Plot log-loss\n",
    "plt.figure(figsize=(10, 6))\n",
    "plt.plot(train_logloss, label=\"Training Log-loss\")\n",
    "plt.plot(test_logloss, label=\"Testing Log-loss\")\n",
    "plt.xlabel(\"Boosting Round\")\n",
    "plt.ylabel(\"Log-loss\")\n",
    "plt.title(\"Training and Testing Log-loss\")\n",
    "plt.legend()\n",
    "plt.grid(True)\n",
    "plt.show()"
   ]
  },
  {
   "cell_type": "markdown",
   "metadata": {},
   "source": [
    "Compare to MixMHCpred"
   ]
  },
  {
   "cell_type": "code",
   "execution_count": 12,
   "metadata": {},
   "outputs": [],
   "source": [
    "test_peptides = df_8.iloc[test_indices]['Peptide']"
   ]
  },
  {
   "cell_type": "code",
   "execution_count": 14,
   "metadata": {},
   "outputs": [],
   "source": [
    "test_peptides_file = \"/Users/halasadi/code/pmhc_methods_tf/analysis/test_peptides.fasta\"\n",
    "\n",
    "# Open the output file for writing\n",
    "with open(test_peptides_file, \"w\") as fasta_file:\n",
    "    for peptide in test_peptides:\n",
    "        # Write the peptide name as the header line starting with \">\"\n",
    "        fasta_file.write(f\">{peptide}\\n\")\n",
    "        fasta_file.write(f\"{peptide}\\n\")\n"
   ]
  },
  {
   "cell_type": "code",
   "execution_count": 16,
   "metadata": {},
   "outputs": [],
   "source": [
    "import subprocess\n",
    "\n",
    "out_file = '/Users/halasadi/code/pmhc_methods_tf/analysis/out.txt'\n",
    "command = [\"/Users/halasadi/code/MixMHCpred-master/MixMHCpred\", \"-i\", test_peptides_file, '-o', out_file, '-a', \",\".join(np.unique(df_8['Allele'].values))]\n",
    "try:\n",
    "    output = subprocess.check_output(command, stderr=subprocess.STDOUT, universal_newlines=True)\n",
    "except subprocess.CalledProcessError as e:\n",
    "    print(f\"Command failed with return code {e.returncode}\")"
   ]
  },
  {
   "cell_type": "code",
   "execution_count": 38,
   "metadata": {},
   "outputs": [
    {
     "name": "stdout",
     "output_type": "stream",
     "text": [
      "Accuracy of XgBoost: 0.573820395738204\n",
      "Accuracy of High Confidence XgBoost Calls: 0.9574944071588367\n"
     ]
    }
   ],
   "source": [
    "y_pred = model_l8.predict(X_test_encoded)\n",
    "pred_labels = label_encoder.inverse_transform(y_pred)\n",
    "true_labels = label_encoder.inverse_transform(y_test_labeled)\n",
    "accuracy = accuracy_score(pred_labels, true_labels)\n",
    "print(f\"Accuracy of XgBoost: {accuracy}\")\n",
    "\n",
    "pred_p = model_l8.predict_proba(X_test_encoded)\n",
    "max_p = np.amax(pred_p, axis=1)\n",
    "accuracy = accuracy_score(pred_labels[max_p > 0.9], true_labels[max_p > 0.9])\n",
    "print(f\"Accuracy of High Confidence XgBoost Calls: {accuracy}\")"
   ]
  },
  {
   "cell_type": "code",
   "execution_count": 27,
   "metadata": {},
   "outputs": [
    {
     "name": "stdout",
     "output_type": "stream",
     "text": [
      "Accuracy of MixMHCPred: 0.5232046070460704\n"
     ]
    }
   ],
   "source": [
    "df_out = pd.read_csv(out_file, sep='\\t', comment='#')\n",
    "mixmhcpredout = df_out[['Peptide', 'BestAllele']]\n",
    "df_8_test = df_8.iloc[test_indices][['Peptide', \"Allele\"]]\n",
    "mixmhcpredout = mixmhcpredout.merge(df_8_test, on = \"Peptide\", how = \"left\")\n",
    "accuracy = accuracy_score(mixmhcpredout['Allele'], mixmhcpredout['BestAllele'])\n",
    "print(f\"Accuracy of MixMHCPred: {accuracy}\")"
   ]
  },
  {
   "cell_type": "markdown",
   "metadata": {},
   "source": [
    "It looks like our XgBoost model beats the PWM approach by a noticeable margin!"
   ]
  },
  {
   "cell_type": "markdown",
   "metadata": {},
   "source": [
    "# Build XgBoost model for peptides with length of 9"
   ]
  },
  {
   "cell_type": "markdown",
   "metadata": {},
   "source": [
    "Here we will use our XgBoost model from "
   ]
  }
 ],
 "metadata": {
  "kernelspec": {
   "display_name": "Python 3",
   "language": "python",
   "name": "python3"
  },
  "language_info": {
   "codemirror_mode": {
    "name": "ipython",
    "version": 3
   },
   "file_extension": ".py",
   "mimetype": "text/x-python",
   "name": "python",
   "nbconvert_exporter": "python",
   "pygments_lexer": "ipython3",
   "version": "3.11.6"
  }
 },
 "nbformat": 4,
 "nbformat_minor": 2
}
