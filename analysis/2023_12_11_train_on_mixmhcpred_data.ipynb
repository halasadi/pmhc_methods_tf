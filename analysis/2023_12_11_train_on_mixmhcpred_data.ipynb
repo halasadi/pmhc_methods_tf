{
 "cells": [
  {
   "cell_type": "code",
   "execution_count": 12,
   "metadata": {},
   "outputs": [],
   "source": [
    "import pandas as pd\n",
    "import xgboost as xgb\n",
    "from sklearn.model_selection import train_test_split\n",
    "from sklearn.preprocessing import LabelEncoder\n",
    "import numpy as np\n",
    "import matplotlib.pyplot as plt\n",
    "from sklearn.preprocessing import OneHotEncoder\n",
    "from sklearn.metrics import accuracy_score\n",
    "import joblib"
   ]
  },
  {
   "cell_type": "markdown",
   "metadata": {},
   "source": [
    "# Load data "
   ]
  },
  {
   "cell_type": "code",
   "execution_count": 6,
   "metadata": {},
   "outputs": [],
   "source": [
    "path_to_data = '../external_data/mixmhcpred/TableS2.txt'\n",
    "# ignore the first row (header)\n",
    "df = pd.read_csv(path_to_data, sep='\\t', skiprows=1)"
   ]
  },
  {
   "cell_type": "code",
   "execution_count": 7,
   "metadata": {},
   "outputs": [
    {
     "data": {
      "text/plain": [
       "<Axes: >"
      ]
     },
     "execution_count": 7,
     "metadata": {},
     "output_type": "execute_result"
    },
    {
     "data": {
      "image/png": "[encoded data removed]",
      "text/plain": [
       "<Figure size 640x480 with 1 Axes>"
      ]
     },
     "metadata": {},
     "output_type": "display_data"
    }
   ],
   "source": [
    "# length distributions of peptides\n",
    "df['Peptide_Lengths'] = df['Peptide'].apply(len)\n",
    "df['Peptide_Lengths'].hist(bins=20)"
   ]
  },
  {
   "cell_type": "markdown",
   "metadata": {},
   "source": [
    "# Build XgBoost model for peptides with length of 9"
   ]
  },
  {
   "cell_type": "code",
   "execution_count": 8,
   "metadata": {},
   "outputs": [],
   "source": [
    "df_9 = df[df['Peptide_Lengths'] == 9]\n",
    "\n",
    "#alleles_to_exclude = ['C1505', 'B1401', 'C0704', 'B4801', 'C1602', 'B1803']\n",
    "#df_9 = df_9[~df_9['Allele'].isin(alleles_to_exclude)]\n",
    "\n",
    "allele_counts = df_9['Allele'].value_counts()\n",
    "# Create a mask to filter IDs that appear at least 10 times\n",
    "mask = df_9['Allele'].map(allele_counts) >= 10\n",
    "df_9 = df_9[mask]"
   ]
  },
  {
   "cell_type": "code",
   "execution_count": 9,
   "metadata": {},
   "outputs": [],
   "source": [
    "ninemer_encoder = OneHotEncoder()\n",
    "X_encoded = np.array([list(s) for s in df_9['Peptide'].values])\n",
    "X_encoded = ninemer_encoder.fit_transform(X_encoded).toarray()\n",
    "\n",
    "ninemer_label_encoder = LabelEncoder()\n",
    "# Fit the encoder on your class labels and transform them into numerical labels\n",
    "y_labeled = ninemer_label_encoder.fit_transform(df_9['Allele'].values)\n"
   ]
  },
  {
   "cell_type": "code",
   "execution_count": 10,
   "metadata": {},
   "outputs": [],
   "source": [
    "X_train_encoded, X_test_encoded, y_train_labeled, y_test_labeled = train_test_split(X_encoded, y_labeled, test_size=0.1, random_state=1)\n",
    "#X_train_encoded, X_valid_encoded, y_train_labeled, y_valid_encoded = train_test_split(X_train_encoded, y_train_labeled, test_size=0.12, random_state=1) # 0.12 x 0.9 ~ 0.1"
   ]
  },
  {
   "cell_type": "code",
   "execution_count": 11,
   "metadata": {},
   "outputs": [
    {
     "name": "stdout",
     "output_type": "stream",
     "text": [
      "[0]\tvalidation_0-mlogloss:3.34041\tvalidation_1-mlogloss:3.35545\n",
      "[1]\tvalidation_0-mlogloss:2.84202\tvalidation_1-mlogloss:2.86180\n",
      "[2]\tvalidation_0-mlogloss:2.60235\tvalidation_1-mlogloss:2.62648\n"
     ]
    },
    {
     "data": {
      "text/html": [
       "<style>#sk-container-id-1 {color: black;}#sk-container-id-1 pre{padding: 0;}#sk-container-id-1 div.sk-toggleable {background-color: white;}#sk-container-id-1 label.sk-toggleable__label {cursor: pointer;display: block;width: 100%;margin-bottom: 0;padding: 0.3em;box-sizing: border-box;text-align: center;}#sk-container-id-1 label.sk-toggleable__label-arrow:before {content: \"▸\";float: left;margin-right: 0.25em;color: #696969;}#sk-container-id-1 label.sk-toggleable__label-arrow:hover:before {color: black;}#sk-container-id-1 div.sk-estimator:hover label.sk-toggleable__label-arrow:before {color: black;}#sk-container-id-1 div.sk-toggleable__content {max-height: 0;max-width: 0;overflow: hidden;text-align: left;background-color: #f0f8ff;}#sk-container-id-1 div.sk-toggleable__content pre {margin: 0.2em;color: black;border-radius: 0.25em;background-color: #f0f8ff;}#sk-container-id-1 input.sk-toggleable__control:checked~div.sk-toggleable__content {max-height: 200px;max-width: 100%;overflow: auto;}#sk-container-id-1 input.sk-toggleable__control:checked~label.sk-toggleable__label-arrow:before {content: \"▾\";}#sk-container-id-1 div.sk-estimator input.sk-toggleable__control:checked~label.sk-toggleable__label {background-color: #d4ebff;}#sk-container-id-1 div.sk-label input.sk-toggleable__control:checked~label.sk-toggleable__label {background-color: #d4ebff;}#sk-container-id-1 input.sk-hidden--visually {border: 0;clip: rect(1px 1px 1px 1px);clip: rect(1px, 1px, 1px, 1px);height: 1px;margin: -1px;overflow: hidden;padding: 0;position: absolute;width: 1px;}#sk-container-id-1 div.sk-estimator {font-family: monospace;background-color: #f0f8ff;border: 1px dotted black;border-radius: 0.25em;box-sizing: border-box;margin-bottom: 0.5em;}#sk-container-id-1 div.sk-estimator:hover {background-color: #d4ebff;}#sk-container-id-1 div.sk-parallel-item::after {content: \"\";width: 100%;border-bottom: 1px solid gray;flex-grow: 1;}#sk-container-id-1 div.sk-label:hover label.sk-toggleable__label {background-color: #d4ebff;}#sk-container-id-1 div.sk-serial::before {content: \"\";position: absolute;border-left: 1px solid gray;box-sizing: border-box;top: 0;bottom: 0;left: 50%;z-index: 0;}#sk-container-id-1 div.sk-serial {display: flex;flex-direction: column;align-items: center;background-color: white;padding-right: 0.2em;padding-left: 0.2em;position: relative;}#sk-container-id-1 div.sk-item {position: relative;z-index: 1;}#sk-container-id-1 div.sk-parallel {display: flex;align-items: stretch;justify-content: center;background-color: white;position: relative;}#sk-container-id-1 div.sk-item::before, #sk-container-id-1 div.sk-parallel-item::before {content: \"\";position: absolute;border-left: 1px solid gray;box-sizing: border-box;top: 0;bottom: 0;left: 50%;z-index: -1;}#sk-container-id-1 div.sk-parallel-item {display: flex;flex-direction: column;z-index: 1;position: relative;background-color: white;}#sk-container-id-1 div.sk-parallel-item:first-child::after {align-self: flex-end;width: 50%;}#sk-container-id-1 div.sk-parallel-item:last-child::after {align-self: flex-start;width: 50%;}#sk-container-id-1 div.sk-parallel-item:only-child::after {width: 0;}#sk-container-id-1 div.sk-dashed-wrapped {border: 1px dashed gray;margin: 0 0.4em 0.5em 0.4em;box-sizing: border-box;padding-bottom: 0.4em;background-color: white;}#sk-container-id-1 div.sk-label label {font-family: monospace;font-weight: bold;display: inline-block;line-height: 1.2em;}#sk-container-id-1 div.sk-label-container {text-align: center;}#sk-container-id-1 div.sk-container {/* jupyter's `normalize.less` sets `[hidden] { display: none; }` but bootstrap.min.css set `[hidden] { display: none !important; }` so we also need the `!important` here to be able to override the default hidden behavior on the sphinx rendered scikit-learn.org. See: https://github.com/scikit-learn/scikit-learn/issues/21755 */display: inline-block !important;position: relative;}#sk-container-id-1 div.sk-text-repr-fallback {display: none;}</style><div id=\"sk-container-id-1\" class=\"sk-top-container\"><div class=\"sk-text-repr-fallback\"><pre>XGBClassifier(base_score=None, booster=&#x27;gblinear&#x27;, callbacks=None,\n",
       "              colsample_bylevel=None, colsample_bynode=None,\n",
       "              colsample_bytree=None, device=None, early_stopping_rounds=None,\n",
       "              enable_categorical=False, eval_metric=&#x27;mlogloss&#x27;,\n",
       "              feature_types=None, gamma=None, grow_policy=None,\n",
       "              importance_type=None, interaction_constraints=None,\n",
       "              learning_rate=0.2, max_bin=None, max_cat_threshold=None,\n",
       "              max_cat_to_onehot=None, max_delta_step=None, max_depth=None,\n",
       "              max_leaves=None, min_child_weight=None, missing=nan,\n",
       "              monotone_constraints=None, multi_strategy=None, n_estimators=3,\n",
       "              n_jobs=None, num_class=119, num_parallel_tree=None, ...)</pre><b>In a Jupyter environment, please rerun this cell to show the HTML representation or trust the notebook. <br />On GitHub, the HTML representation is unable to render, please try loading this page with nbviewer.org.</b></div><div class=\"sk-container\" hidden><div class=\"sk-item\"><div class=\"sk-estimator sk-toggleable\"><input class=\"sk-toggleable__control sk-hidden--visually\" id=\"sk-estimator-id-1\" type=\"checkbox\" checked><label for=\"sk-estimator-id-1\" class=\"sk-toggleable__label sk-toggleable__label-arrow\">XGBClassifier</label><div class=\"sk-toggleable__content\"><pre>XGBClassifier(base_score=None, booster=&#x27;gblinear&#x27;, callbacks=None,\n",
       "              colsample_bylevel=None, colsample_bynode=None,\n",
       "              colsample_bytree=None, device=None, early_stopping_rounds=None,\n",
       "              enable_categorical=False, eval_metric=&#x27;mlogloss&#x27;,\n",
       "              feature_types=None, gamma=None, grow_policy=None,\n",
       "              importance_type=None, interaction_constraints=None,\n",
       "              learning_rate=0.2, max_bin=None, max_cat_threshold=None,\n",
       "              max_cat_to_onehot=None, max_delta_step=None, max_depth=None,\n",
       "              max_leaves=None, min_child_weight=None, missing=nan,\n",
       "              monotone_constraints=None, multi_strategy=None, n_estimators=3,\n",
       "              n_jobs=None, num_class=119, num_parallel_tree=None, ...)</pre></div></div></div></div></div>"
      ],
      "text/plain": [
       "XGBClassifier(base_score=None, booster='gblinear', callbacks=None,\n",
       "              colsample_bylevel=None, colsample_bynode=None,\n",
       "              colsample_bytree=None, device=None, early_stopping_rounds=None,\n",
       "              enable_categorical=False, eval_metric='mlogloss',\n",
       "              feature_types=None, gamma=None, grow_policy=None,\n",
       "              importance_type=None, interaction_constraints=None,\n",
       "              learning_rate=0.2, max_bin=None, max_cat_threshold=None,\n",
       "              max_cat_to_onehot=None, max_delta_step=None, max_depth=None,\n",
       "              max_leaves=None, min_child_weight=None, missing=nan,\n",
       "              monotone_constraints=None, multi_strategy=None, n_estimators=3,\n",
       "              n_jobs=None, num_class=119, num_parallel_tree=None, ...)"
      ]
     },
     "execution_count": 11,
     "metadata": {},
     "output_type": "execute_result"
    }
   ],
   "source": [
    "# I learned that alpha is important when the data-set size is small; and also early stopping\n",
    "# could be important. As a result, we must do a hyper-parameter grid search but I don't have enough compute\n",
    "# power in my laptop so just training k = 9 for now\n",
    "\n",
    "num_classes = len(np.unique(df_9['Allele']))\n",
    "model_l9 = xgb.XGBClassifier(\n",
    "    objective='multi:softmax',\n",
    "    num_class=num_classes,\n",
    "    learning_rate=0.2,\n",
    "    n_estimators=3,\n",
    "    eval_metric = \"mlogloss\",\n",
    "    #alpha = 0.0001,\n",
    "    booster = \"gblinear\"\n",
    ")\n",
    "\n",
    "# Train the model while monitoring the evaluation metrics\n",
    "model_l9.fit(\n",
    "    X_train_encoded, y_train_labeled,\n",
    "    eval_set=[(X_train_encoded, y_train_labeled), (X_test_encoded, y_test_labeled)],  # Datasets for evaluation\n",
    "    verbose=True\n",
    ")\n"
   ]
  },
  {
   "cell_type": "code",
   "execution_count": 19,
   "metadata": {},
   "outputs": [],
   "source": [
    "def save_model_params(feature_encoder, label_encoder, my_model, file_path):\n",
    "        joblib.dump(my_model, file_path + \"_xgboost_model.joblib\")\n",
    "        joblib.dump(feature_encoder, file_path + '_feature_encoder.joblib')\n",
    "        joblib.dump(label_encoder, file_path + '_label_encoder.joblib')\n",
    "\n",
    "def load_model_params(file_path):\n",
    "        my_model = joblib.load(file_path + \"_xgboost_model.json\")\n",
    "        feature_encoder = joblib.load(file_path + '_feature_encoder.joblib')\n",
    "        label_encoder = joblib.load(file_path + '_label_encoder.joblib')\n"
   ]
  },
  {
   "cell_type": "code",
   "execution_count": 20,
   "metadata": {},
   "outputs": [],
   "source": [
    "save_model_params(ninemer_encoder, ninemer_label_encoder, model_l9,\n",
    "                  \"/Users/halasadi/code/pmhc_methods_tf/internal_data/2023_12_22_test_9mer_xgboost_model\")"
   ]
  },
  {
   "cell_type": "code",
   "execution_count": 11,
   "metadata": {},
   "outputs": [
    {
     "name": "stdout",
     "output_type": "stream",
     "text": [
      "{'objective': 'multi:softmax', 'base_score': None, 'booster': 'gblinear', 'callbacks': None, 'colsample_bylevel': None, 'colsample_bynode': None, 'colsample_bytree': None, 'device': None, 'early_stopping_rounds': None, 'enable_categorical': False, 'eval_metric': 'mlogloss', 'feature_types': None, 'gamma': None, 'grow_policy': None, 'importance_type': None, 'interaction_constraints': None, 'learning_rate': 0.2, 'max_bin': None, 'max_cat_threshold': None, 'max_cat_to_onehot': None, 'max_delta_step': None, 'max_depth': None, 'max_leaves': None, 'min_child_weight': None, 'missing': nan, 'monotone_constraints': None, 'multi_strategy': None, 'n_estimators': 50, 'n_jobs': None, 'num_parallel_tree': None, 'random_state': None, 'reg_alpha': None, 'reg_lambda': None, 'sampling_method': None, 'scale_pos_weight': None, 'subsample': None, 'tree_method': None, 'validate_parameters': None, 'verbosity': None, 'num_class': 119}\n"
     ]
    }
   ],
   "source": [
    "model_params = model_l9.get_params()\n",
    "print(model_params)"
   ]
  },
  {
   "cell_type": "code",
   "execution_count": 13,
   "metadata": {},
   "outputs": [
    {
     "data": {
      "image/png": "[encoded data removed]",
      "text/plain": [
       "<Figure size 1000x600 with 1 Axes>"
      ]
     },
     "metadata": {},
     "output_type": "display_data"
    }
   ],
   "source": [
    "# Get the evaluation results for both training and validation sets\n",
    "results = model_l9.evals_result()\n",
    "\n",
    "# Extract log-loss values\n",
    "train_logloss = results[\"validation_0\"][\"mlogloss\"]\n",
    "test_logloss = results[\"validation_1\"][\"mlogloss\"]\n",
    "\n",
    "# Plot log-loss\n",
    "plt.figure(figsize=(10, 6))\n",
    "plt.plot(train_logloss, label=\"Training Log-loss\")\n",
    "plt.plot(test_logloss, label=\"Testing Log-loss\")\n",
    "plt.xlabel(\"Boosting Round\")\n",
    "plt.ylabel(\"Log-loss\")\n",
    "plt.title(\"Training and Testing Log-loss\")\n",
    "plt.legend()\n",
    "plt.grid(True)\n",
    "plt.show()"
   ]
  },
  {
   "cell_type": "markdown",
   "metadata": {},
   "source": [
    "Compare to MixMHCpred"
   ]
  },
  {
   "cell_type": "code",
   "execution_count": 14,
   "metadata": {},
   "outputs": [],
   "source": [
    "\n",
    "test_peptides = ninemer_encoder.inverse_transform(X_test_encoded)\n",
    "test_peptides = [\"\".join(x) for x in test_peptides]\n",
    "test_peptides_file = \"/Users/halasadi/code/pmhc_methods_tf/internal_data/test_peptides.fasta\"\n",
    "\n",
    "# Open the output file for writing\n",
    "with open(test_peptides_file, \"w\") as fasta_file:\n",
    "    for peptide in test_peptides:\n",
    "        # Write the peptide name as the header line starting with \">\"\n",
    "        fasta_file.write(f\">{peptide}\\n\")\n",
    "        fasta_file.write(f\"{peptide}\\n\")\n",
    "\n",
    "\n",
    "true_labels = ninemer_label_encoder.inverse_transform(y_test_labeled)\n",
    "df_9_test_truth = pd.DataFrame({'Peptide':test_peptides, 'Allele': true_labels})"
   ]
  },
  {
   "cell_type": "code",
   "execution_count": 15,
   "metadata": {},
   "outputs": [],
   "source": [
    "import subprocess\n",
    "\n",
    "out_file = '/Users/halasadi/code/pmhc_methods_tf/internal_data/out.txt'\n",
    "command = [\"/Users/halasadi/code/MixMHCpred-master/MixMHCpred\", \"-i\", test_peptides_file, '-o', out_file, '-a', \",\".join(np.unique(df_9['Allele'].values))]\n",
    "try:\n",
    "    output = subprocess.check_output(command, stderr=subprocess.STDOUT, universal_newlines=True)\n",
    "except subprocess.CalledProcessError as e:\n",
    "    print(f\"Command failed with return code {e.returncode}\")"
   ]
  },
  {
   "cell_type": "code",
   "execution_count": 19,
   "metadata": {},
   "outputs": [
    {
     "name": "stdout",
     "output_type": "stream",
     "text": [
      "Accuracy of XgBoost: 0.4506508976431549\n",
      "Accuracy of High Confidence XgBoost Calls: 0.9393939393939394\n"
     ]
    }
   ],
   "source": [
    "y_pred = model_l9.predict(X_test_encoded)\n",
    "pred_labels = ninemer_label_encoder.inverse_transform(y_pred)\n",
    "accuracy = accuracy_score(pred_labels, df_9_test_truth['Allele'].values)\n",
    "print(f\"Accuracy of XgBoost: {accuracy}\")\n",
    "\n",
    "pred_p = model_l9.predict_proba(X_test_encoded)\n",
    "max_p = np.amax(pred_p, axis=1)\n",
    "accuracy = accuracy_score(pred_labels[max_p > 0.9], df_9_test_truth['Allele'][max_p > 0.9].values)\n",
    "print(f\"Accuracy of High Confidence XgBoost Calls: {accuracy}\")"
   ]
  },
  {
   "cell_type": "code",
   "execution_count": 20,
   "metadata": {},
   "outputs": [
    {
     "name": "stdout",
     "output_type": "stream",
     "text": [
      "Accuracy of MixMHCPred: 0.3341403483414035\n"
     ]
    }
   ],
   "source": [
    "df_out = pd.read_csv(out_file, sep='\\t', comment='#')\n",
    "mixmhcpredout = df_out[['Peptide', 'BestAllele']]\n",
    "mixmhcpredout = mixmhcpredout.merge(df_9_test_truth, on = \"Peptide\", how = \"left\")\n",
    "accuracy = accuracy_score(mixmhcpredout['Allele'], mixmhcpredout['BestAllele'])\n",
    "print(f\"Accuracy of MixMHCPred: {accuracy}\")"
   ]
  },
  {
   "cell_type": "markdown",
   "metadata": {},
   "source": [
    "It looks like our XgBoost model beats the PWM approach by a noticeable margin!"
   ]
  },
  {
   "cell_type": "markdown",
   "metadata": {},
   "source": [
    "save XgBoost model"
   ]
  },
  {
   "cell_type": "markdown",
   "metadata": {},
   "source": [
    "# Build XgBoost model for peptides with length 10 and investigating whether data from peptide lengths == 9 helps."
   ]
  },
  {
   "cell_type": "markdown",
   "metadata": {},
   "source": [
    "Here we will use our XgBoost model trained on 9mers on 10mers "
   ]
  },
  {
   "cell_type": "code",
   "execution_count": 10,
   "metadata": {},
   "outputs": [],
   "source": [
    "df_10 = df[df['Peptide_Lengths'] == 10]"
   ]
  },
  {
   "cell_type": "code",
   "execution_count": 11,
   "metadata": {},
   "outputs": [],
   "source": [
    "#allele_counts = df_10['Allele'].value_counts()\n",
    "# Create a mask to filter IDs that appear at least 10 times\n",
    "#mask = df_10['Allele'].map(allele_counts) >= 10\n",
    "# Apply the mask to filter the DataFrame\n",
    "#df_10 = df_10[mask]\n",
    "\n",
    "alleles_to_exclude = ['C1505', 'B1401', 'C0704', 'B4801', 'C1602', 'B1803']\n",
    "df_10 = df_10[~df_10['Allele'].isin(alleles_to_exclude)]"
   ]
  },
  {
   "cell_type": "markdown",
   "metadata": {},
   "source": [
    "Let's investigate whether there is signal in the 9mer data that has predictive signal in the 10mer data. "
   ]
  },
  {
   "cell_type": "code",
   "execution_count": 12,
   "metadata": {},
   "outputs": [
    {
     "name": "stdout",
     "output_type": "stream",
     "text": [
      "0.20290680666964328\n",
      "0.11958245446567413\n",
      "0.20290680666964328\n"
     ]
    }
   ],
   "source": [
    "all_substrings_of_length_9 = [(s[:9], s[1:10]) for s in df_10['Peptide'].values]\n",
    "\n",
    "\n",
    "sub_peptides_1 = [tu[0] for tu in all_substrings_of_length_9]\n",
    "x_substr_9_1 = np.array([list(s) for s in sub_peptides_1])\n",
    "x_substr_9_1 = ninemer_encoder.fit_transform(x_substr_9_1).toarray()\n",
    "\n",
    "sub_peptides_2 = [tu[1] for tu in all_substrings_of_length_9]\n",
    "x_substr_9_2 = np.array([list(s) for s in sub_peptides_2])\n",
    "x_substr_9_2 = ninemer_encoder.fit_transform(x_substr_9_2).toarray()\n",
    "\n",
    "y_pred_9_1 = ninemer_label_encoder.inverse_transform(model_l9.predict(x_substr_9_1))\n",
    "y_pred_9_2 = ninemer_label_encoder.inverse_transform(model_l9.predict(x_substr_9_2))\n",
    "\n",
    "max_p1 = np.amax(model_l9.predict_proba(x_substr_9_1), axis=1)\n",
    "max_p2 = np.amax(model_l9.predict_proba(x_substr_9_2), axis=1)\n",
    "y_pred_combined = y_pred_9_1\n",
    "y_pred_combined[max_p2 > max_p1] = y_pred_9_2[max_p2 > max_p1]\n",
    "\n",
    "\n",
    "print(accuracy_score(y_pred_9_1, df_10['Allele'].values))\n",
    "print(accuracy_score(y_pred_9_2, df_10['Allele'].values))\n",
    "print(accuracy_score(y_pred_combined, df_10['Allele'].values))"
   ]
  },
  {
   "cell_type": "markdown",
   "metadata": {},
   "source": [
    "Yes! There does seem to be substantial signal that is transferable across 9,10 mers. Interestingly, the left aligned peptides do a lot better, which suggests to me that position matters quite a bit here! "
   ]
  },
  {
   "cell_type": "markdown",
   "metadata": {},
   "source": [
    "# How well does the model against other methods on an evaluation data-set"
   ]
  },
  {
   "cell_type": "code",
   "execution_count": 46,
   "metadata": {},
   "outputs": [],
   "source": [
    "\n",
    "# Read data from Pyke et al\n",
    "file_path = \"/Users/halasadi/code/pmhc_methods_tf/external_data/mixmhcpred/pyke_supplemental_table_s1.xlsx\"\n",
    "df_excel = pd.read_excel(file_path, sheet_name= \"Unique Peptides\")"
   ]
  },
  {
   "cell_type": "code",
   "execution_count": 96,
   "metadata": {},
   "outputs": [
    {
     "data": {
      "text/plain": [
       "15640"
      ]
     },
     "execution_count": 96,
     "metadata": {},
     "output_type": "execute_result"
    }
   ],
   "source": [
    "# I dont understand, shouldn't this be zero?\n",
    "len(set(df_excel['peptide']).intersection(df_9['Peptide'].values))"
   ]
  },
  {
   "cell_type": "code",
   "execution_count": 53,
   "metadata": {},
   "outputs": [],
   "source": [
    "df_excel['peptide_length'] = df_excel['peptide'].apply(len)\n",
    "df_excel_sub = df_excel[df_excel['peptide_length'] == 9]\n"
   ]
  },
  {
   "cell_type": "code",
   "execution_count": 102,
   "metadata": {},
   "outputs": [
    {
     "data": {
      "text/plain": [
       "27418"
      ]
     },
     "execution_count": 102,
     "metadata": {},
     "output_type": "execute_result"
    }
   ],
   "source": [
    "# I dont understand, shouldn't this be zero?\n",
    "len(set(df_excel_sub['peptide']).intersection(df_9['Peptide'].values))\n",
    "len(df_excel_sub['peptide'])"
   ]
  },
  {
   "cell_type": "code",
   "execution_count": 103,
   "metadata": {},
   "outputs": [],
   "source": [
    "df_excel_sub = df_excel_sub[~df_excel_sub['peptide'].isin(df_9['Peptide'].values)]"
   ]
  },
  {
   "cell_type": "code",
   "execution_count": 105,
   "metadata": {},
   "outputs": [],
   "source": [
    "import re\n",
    "\n",
    "def parse_hla(hla):\n",
    "    match = re.match(r\"HLA-(\\w)(\\d+):(\\d+)\", hla)\n",
    "    hla_parsed = match.group(1) + match.group(2) + match.group(3)\n",
    "    return(hla_parsed)"
   ]
  },
  {
   "cell_type": "code",
   "execution_count": 106,
   "metadata": {},
   "outputs": [],
   "source": [
    "df_excel_sub['allele_formatted'] = df_excel_sub['allele'].apply(parse_hla).values"
   ]
  },
  {
   "cell_type": "code",
   "execution_count": 107,
   "metadata": {},
   "outputs": [],
   "source": [
    "X_encoded_external = np.array([list(s) for s in df_excel_sub['peptide'].values])\n",
    "X_encoded_external = ninemer_encoder.fit_transform(X_encoded_external).toarray()"
   ]
  },
  {
   "cell_type": "code",
   "execution_count": 108,
   "metadata": {},
   "outputs": [
    {
     "name": "stdout",
     "output_type": "stream",
     "text": [
      "Accuracy of XgBoost: 0.39241721324588064\n"
     ]
    }
   ],
   "source": [
    "y_pred = model_l9.predict(X_encoded_external)\n",
    "pred_labels = ninemer_label_encoder.inverse_transform(y_pred)\n",
    "accuracy = accuracy_score(pred_labels, df_excel_sub['allele_formatted'].values)\n",
    "print(f\"Accuracy of XgBoost: {accuracy}\")"
   ]
  },
  {
   "cell_type": "markdown",
   "metadata": {},
   "source": [
    "# Compare against MixMHCPred"
   ]
  },
  {
   "cell_type": "code",
   "execution_count": 109,
   "metadata": {},
   "outputs": [],
   "source": [
    "pyke_peptides_file = \"/Users/halasadi/code/pmhc_methods_tf/internal_data/test_peptides_pyke.fasta\"\n",
    "# Open the output file for writing\n",
    "with open(pyke_peptides_file, \"w\") as fasta_file:\n",
    "    for peptide in df_excel_sub['peptide'].values:\n",
    "        # Write the peptide name as the header line starting with \">\"\n",
    "        fasta_file.write(f\">{peptide}\\n\")\n",
    "        fasta_file.write(f\"{peptide}\\n\")\n",
    "\n",
    "out_file = '/Users/halasadi/code/pmhc_methods_tf/internal_data/pyke_out.txt'\n",
    "command = [\"/Users/halasadi/code/MixMHCpred-master/MixMHCpred\", \"-i\", pyke_peptides_file, '-o', out_file, '-a', \",\".join(np.unique(df_9['Allele'].values))]\n",
    "try:\n",
    "    output = subprocess.check_output(command, stderr=subprocess.STDOUT, universal_newlines=True)\n",
    "except subprocess.CalledProcessError as e:\n",
    "    print(f\"Command failed with return code {e.returncode}\")"
   ]
  },
  {
   "cell_type": "code",
   "execution_count": 110,
   "metadata": {},
   "outputs": [
    {
     "name": "stdout",
     "output_type": "stream",
     "text": [
      "Accuracy of MixMHCPred: 0.18327641519196936\n"
     ]
    }
   ],
   "source": [
    "df_out = pd.read_csv(out_file, sep='\\t', comment='#')\n",
    "mixmhcpredout = df_out[['Peptide', 'BestAllele']]\n",
    "mixmhcpredout = mixmhcpredout.rename(columns = {'Peptide': 'peptide'})\n",
    "mixmhcpredout = mixmhcpredout.merge(df_excel_sub, on = \"peptide\", how = \"left\")\n",
    "accuracy = accuracy_score(mixmhcpredout['allele_formatted'], mixmhcpredout['BestAllele'])\n",
    "print(f\"Accuracy of MixMHCPred: {accuracy}\")"
   ]
  },
  {
   "cell_type": "code",
   "execution_count": 114,
   "metadata": {},
   "outputs": [],
   "source": [
    "import mhcflurry"
   ]
  },
  {
   "cell_type": "code",
   "execution_count": 116,
   "metadata": {},
   "outputs": [
    {
     "name": "stdout",
     "output_type": "stream",
     "text": [
      "2023-12-18 13:25:01.668025: I tensorflow/core/platform/cpu_feature_guard.cc:182] This TensorFlow binary is optimized to use available CPU instructions in performance-critical operations.\n",
      "To enable the following instructions: AVX2 FMA, in other operations, rebuild TensorFlow with the appropriate compiler flags.\n",
      "135MB [05:16, 428kB/s]                                                          \n",
      "Extracting: 100%|███████████████████████████████| 62/62 [00:24<00:00,  2.56it/s]\n"
     ]
    }
   ],
   "source": [
    "!mhcflurry-downloads --quiet fetch models_class1_presentation"
   ]
  },
  {
   "cell_type": "code",
   "execution_count": 117,
   "metadata": {},
   "outputs": [],
   "source": [
    "predictor = mhcflurry.Class1PresentationPredictor.load()"
   ]
  },
  {
   "cell_type": "code",
   "execution_count": 119,
   "metadata": {},
   "outputs": [],
   "source": [
    "#df_excel_sub['allele_netmhc'] = df_excel_sub['allele'].apply(lambda x: x.replace(\"HLA-\", \"A*\"))"
   ]
  },
  {
   "cell_type": "code",
   "execution_count": 123,
   "metadata": {},
   "outputs": [],
   "source": [
    "#alleles = np.unique(df_excel_sub['allele_netmhc'])\n",
    "#results1 = predictor.predict(df_excel_sub['peptide'].values, alleles)"
   ]
  },
  {
   "cell_type": "markdown",
   "metadata": {},
   "source": [
    "# Graveyard"
   ]
  },
  {
   "cell_type": "markdown",
   "metadata": {},
   "source": [
    "Then we will train a new classifier based on 10mer data only"
   ]
  },
  {
   "cell_type": "code",
   "execution_count": 22,
   "metadata": {},
   "outputs": [],
   "source": [
    "tenmer_encoder = OneHotEncoder()\n",
    "X_encoded = np.array([list(s) for s in df_10['Peptide'].values])\n",
    "X_encoded = tenmer_encoder.fit_transform(X_encoded).toarray()\n",
    "\n",
    "#tenmer_label_encoder = LabelEncoder()\n",
    "# Fit the encoder on your class labels and transform them into numerical labels\n",
    "y_labeled = ninemer_label_encoder.fit_transform(df_10['Allele'].values)\n"
   ]
  },
  {
   "cell_type": "code",
   "execution_count": 23,
   "metadata": {},
   "outputs": [],
   "source": [
    "X_train_encoded, X_test_encoded, y_train_labeled, y_test_labeled = train_test_split(X_encoded, y_labeled, test_size=0.1, random_state=1)\n",
    "X_train_encoded, X_valid_encoded, y_train_labeled, y_valid_labeled = train_test_split(X_train_encoded, y_train_labeled, test_size=0.12, random_state=1) # 0.12 x 0.9 ~ 0.1"
   ]
  },
  {
   "cell_type": "code",
   "execution_count": 15,
   "metadata": {},
   "outputs": [
    {
     "ename": "NameError",
     "evalue": "name 'y_valid_labeled' is not defined",
     "output_type": "error",
     "traceback": [
      "\u001b[0;31m---------------------------------------------------------------------------\u001b[0m",
      "\u001b[0;31mNameError\u001b[0m                                 Traceback (most recent call last)",
      "Cell \u001b[0;32mIn[15], line 14\u001b[0m\n\u001b[1;32m      2\u001b[0m model_l10 \u001b[38;5;241m=\u001b[39m xgb\u001b[38;5;241m.\u001b[39mXGBClassifier(\n\u001b[1;32m      3\u001b[0m     objective\u001b[38;5;241m=\u001b[39m\u001b[38;5;124m'\u001b[39m\u001b[38;5;124mmulti:softmax\u001b[39m\u001b[38;5;124m'\u001b[39m,\n\u001b[1;32m      4\u001b[0m     num_class\u001b[38;5;241m=\u001b[39mnum_classes,\n\u001b[0;32m   (...)\u001b[0m\n\u001b[1;32m      8\u001b[0m     eval_metric \u001b[38;5;241m=\u001b[39m \u001b[38;5;124m\"\u001b[39m\u001b[38;5;124mmlogloss\u001b[39m\u001b[38;5;124m\"\u001b[39m\n\u001b[1;32m      9\u001b[0m )\n\u001b[1;32m     11\u001b[0m \u001b[38;5;66;03m# Train the model while monitoring the evaluation metrics\u001b[39;00m\n\u001b[1;32m     12\u001b[0m model_l10\u001b[38;5;241m.\u001b[39mfit(\n\u001b[1;32m     13\u001b[0m     X_train_encoded, y_train_labeled,\n\u001b[0;32m---> 14\u001b[0m     eval_set\u001b[38;5;241m=\u001b[39m[(X_train_encoded, y_train_labeled), (X_valid_encoded, \u001b[43my_valid_labeled\u001b[49m)],  \u001b[38;5;66;03m# Datasets for evaluation\u001b[39;00m\n\u001b[1;32m     15\u001b[0m     verbose\u001b[38;5;241m=\u001b[39m\u001b[38;5;28;01mTrue\u001b[39;00m\n\u001b[1;32m     16\u001b[0m )\n",
      "\u001b[0;31mNameError\u001b[0m: name 'y_valid_labeled' is not defined"
     ]
    }
   ],
   "source": [
    "num_classes = len(np.unique(y_train_labeled))\n",
    "model_l10 = xgb.XGBClassifier(\n",
    "    objective='multi:softmax',\n",
    "    num_class=num_classes,\n",
    "    max_depth=3,\n",
    "    learning_rate=0.1,\n",
    "    n_estimators=100,\n",
    "    eval_metric = \"mlogloss\"\n",
    ")\n",
    "\n",
    "# Train the model while monitoring the evaluation metrics\n",
    "model_l10.fit(\n",
    "    X_train_encoded, y_train_labeled,\n",
    "    eval_set=[(X_train_encoded, y_train_labeled), (X_valid_encoded, y_valid_labeled)],  # Datasets for evaluation\n",
    "    verbose=True\n",
    ")\n"
   ]
  },
  {
   "cell_type": "code",
   "execution_count": 25,
   "metadata": {},
   "outputs": [
    {
     "name": "stdout",
     "output_type": "stream",
     "text": [
      "Accuracy of XgBoost: 0.46813423645320196\n"
     ]
    }
   ],
   "source": [
    "y_pred = model_l10.predict(X_test_encoded)\n",
    "pred_labels = ninemer_label_encoder.inverse_transform(y_pred)\n",
    "\n",
    "test_peptides = tenmer_encoder.inverse_transform(X_test_encoded)\n",
    "test_peptides = [\"\".join(x) for x in test_peptides]\n",
    "true_labels = ninemer_label_encoder.inverse_transform(y_test_labeled)\n",
    "df_10_test_truth = pd.DataFrame({'Peptide':test_peptides, 'Allele': true_labels})\n",
    "\n",
    "accuracy = accuracy_score(pred_labels, df_10_test_truth['Allele'].values)\n",
    "print(f\"Accuracy of XgBoost: {accuracy}\")"
   ]
  },
  {
   "cell_type": "code",
   "execution_count": 26,
   "metadata": {},
   "outputs": [],
   "source": [
    "all_test_substrings_of_length_9 = [(s[:9], s[1:10]) for s in df_10_test_truth['Peptide'].values]\n",
    "test_sub_peptides_1 = [tu[0] for tu in all_test_substrings_of_length_9]\n",
    "x_substr_9_1 = np.array([list(s) for s in test_sub_peptides_1])\n",
    "x_substr_9_1 = ninemer_encoder.fit_transform(x_substr_9_1).toarray()"
   ]
  },
  {
   "cell_type": "code",
   "execution_count": 27,
   "metadata": {},
   "outputs": [],
   "source": [
    "p10 = model_l10.predict_proba(X_test_encoded)\n",
    "p9 = model_l9.predict_proba(x_substr_9_1)"
   ]
  },
  {
   "cell_type": "code",
   "execution_count": 45,
   "metadata": {},
   "outputs": [],
   "source": [
    "# maybe try something like this\n",
    "ptotal = 0.2 * p9 + 0.8 * p10"
   ]
  },
  {
   "cell_type": "code",
   "execution_count": 46,
   "metadata": {},
   "outputs": [],
   "source": [
    "max_i = ptotal.argmax(axis = 1)\n",
    "pred_labels_by_total = ninemer_label_encoder.inverse_transform(max_i)"
   ]
  },
  {
   "cell_type": "code",
   "execution_count": 48,
   "metadata": {},
   "outputs": [
    {
     "name": "stdout",
     "output_type": "stream",
     "text": [
      "Accuracy of Combined Methods, using 9mer and 10mers: 0.4676724137931034\n"
     ]
    }
   ],
   "source": [
    "accuracy = accuracy_score(pred_labels_by_total, df_10_test_truth['Allele'].values)\n",
    "print(f\"Accuracy of Combined Methods, using 9mer and 10mers: {accuracy}\")"
   ]
  }
 ],
 "metadata": {
  "kernelspec": {
   "display_name": "Python 3",
   "language": "python",
   "name": "python3"
  },
  "language_info": {
   "codemirror_mode": {
    "name": "ipython",
    "version": 3
   },
   "file_extension": ".py",
   "mimetype": "text/x-python",
   "name": "python",
   "nbconvert_exporter": "python",
   "pygments_lexer": "ipython3",
   "version": "3.11.6"
  }
 },
 "nbformat": 4,
 "nbformat_minor": 2
}
