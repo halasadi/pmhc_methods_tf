{
 "cells": [
  {
   "cell_type": "code",
   "execution_count": 1,
   "metadata": {},
   "outputs": [],
   "source": [
    "import pandas as pd\n",
    "from sklearn.model_selection import train_test_split\n",
    "from sklearn.preprocessing import LabelEncoder\n",
    "import numpy as np\n",
    "import matplotlib.pyplot as plt\n",
    "from sklearn.metrics import accuracy_score\n",
    "import joblib"
   ]
  },
  {
   "cell_type": "code",
   "execution_count": 10,
   "metadata": {},
   "outputs": [],
   "source": [
    "import torch\n",
    "import torch.nn as nn\n",
    "import torch.optim as optim\n",
    "from torch.utils.data import DataLoader, TensorDataset\n",
    "from torch.nn import functional as F"
   ]
  },
  {
   "cell_type": "code",
   "execution_count": 2,
   "metadata": {},
   "outputs": [],
   "source": [
    "path_to_data = '../external_data/mixmhcpred/TableS2.txt'\n",
    "# ignore the first row (header)\n",
    "df = pd.read_csv(path_to_data, sep='\\t', skiprows=1)\n",
    "df['Peptide_Lengths'] = df['Peptide'].apply(len)\n",
    "df = df[df['Peptide_Lengths'] == 9]"
   ]
  },
  {
   "cell_type": "code",
   "execution_count": null,
   "metadata": {},
   "outputs": [],
   "source": [
    "allele_counts = df['Allele'].value_counts()\n",
    "# Create a mask to filter IDs that appear at least 10 times\n",
    "mask = df['Allele'].map(allele_counts) >= 10\n",
    "df = df[mask]"
   ]
  },
  {
   "cell_type": "code",
   "execution_count": 44,
   "metadata": {},
   "outputs": [],
   "source": [
    "label_encoder = LabelEncoder()\n",
    "# Fit the encoder on your class labels and transform them into numerical labels\n",
    "y = label_encoder.fit_transform(df['Allele'].values)"
   ]
  },
  {
   "cell_type": "code",
   "execution_count": 37,
   "metadata": {},
   "outputs": [
    {
     "name": "stdout",
     "output_type": "stream",
     "text": [
      "[0, 0, 0, 8, 16, 8, 1, 18]\n",
      "AAAHTHRY\n"
     ]
    }
   ],
   "source": [
    "\n",
    "# create a mapping from amino-acids to integers\n",
    "stoi_peptide = { ch:i for i,ch in enumerate(amino_acids) }\n",
    "itos_peptide = { i:ch for i,ch in enumerate(amino_acids) }\n",
    "encode_peptide = lambda s: [stoi_peptide[c] for c in s] # encoder: take a string, output a list of integers\n",
    "decode_peptide = lambda l: ''.join([itos_peptide[i] for i in l]) # decoder: take a list of integers, output a string\n",
    "\n",
    "print(encode_peptide(\"AAAHTHRY\"))\n",
    "print(decode_peptide(encode_peptide(\"AAAHTHRY\")))"
   ]
  },
  {
   "cell_type": "code",
   "execution_count": 38,
   "metadata": {},
   "outputs": [],
   "source": [
    "X = np.array([encode_peptide(sequence) for sequence in df['Peptide'].values])"
   ]
  },
  {
   "cell_type": "code",
   "execution_count": 39,
   "metadata": {},
   "outputs": [
    {
     "name": "stdout",
     "output_type": "stream",
     "text": [
      "torch.Size([235054, 9]) torch.int64\n"
     ]
    }
   ],
   "source": [
    "import torch # we use PyTorch: https://pytorch.org\n",
    "data = torch.tensor(X, dtype=torch.long)\n",
    "print(data.shape, data.dtype)\n",
    "\n",
    "ydata = torch.tensor(y, dtype = torch.float)\n",
    "\n",
    "# Let's now split up the data into train and validation sets\n",
    "n = int(0.9*len(data)) # first 90% will be train, rest val\n",
    "train_data = data[:n]\n",
    "val_data = data[n:]\n",
    "train_y = ydata[:n].long()\n",
    "val_y = ydata[n:].long()"
   ]
  },
  {
   "cell_type": "code",
   "execution_count": 40,
   "metadata": {},
   "outputs": [],
   "source": [
    "def get_batch(split):\n",
    "    # generate a small batch of data of inputs x and targets y\n",
    "    data = train_data if split == 'train' else val_data\n",
    "    ypred = train_y if split == 'train' else val_y\n",
    "   \n",
    "    ix = torch.randint(len(data), (batch_size,))\n",
    "    x = torch.stack([data[i] for i in ix])\n",
    "    y = torch.stack([ypred[i] for i in ix])\n",
    "    x, y = x.to(device), y.to(device)\n",
    "    return x, y\n",
    "\n",
    "@torch.no_grad()\n",
    "def estimate_loss():\n",
    "    out = {}\n",
    "    model.eval()\n",
    "    for split in ['train', 'val']:\n",
    "        losses = torch.zeros(eval_iters)\n",
    "        for k in range(eval_iters):\n",
    "            X, Y = get_batch(split)\n",
    "            logits, loss = model(X, Y)\n",
    "            losses[k] = loss.item()\n",
    "        out[split] = losses.mean()\n",
    "    model.train()\n",
    "    return out"
   ]
  },
  {
   "cell_type": "code",
   "execution_count": 157,
   "metadata": {},
   "outputs": [],
   "source": [
    "kmer = 9\n",
    "\n",
    "amino_acids = [\"A\", \"R\", \"N\", \"D\", \"C\", \"Q\", \"E\", \"G\", \"H\", \"I\", \"L\", \"K\", \"M\", \"F\", \"P\", \"S\", \"T\", \"W\", \"Y\", \"V\"]\n",
    "\n",
    "\n",
    "device = 'cuda' if torch.cuda.is_available() else 'cpu'\n",
    "batch_size = 64 # how many independent sequences will we process in parallel?\n",
    "max_iters = 1500\n",
    "eval_interval = 100\n",
    "learning_rate = 1e-3\n",
    "eval_iters = 200\n",
    "n_embd = 20\n",
    "dropout = 0.25\n",
    "vocab_size = len(amino_acids)\n",
    "\n",
    "# of categories\n",
    "output_dim = df['Allele'].nunique()"
   ]
  },
  {
   "cell_type": "code",
   "execution_count": 158,
   "metadata": {},
   "outputs": [],
   "source": [
    "\n",
    "\n",
    "class pMHCModel(nn.Module):\n",
    "    def __init__(self):\n",
    "        super().__init__()\n",
    "        # each token directly reads off the logits for the next token from a lookup table\n",
    "        self.token_embedding_table = nn.Embedding(vocab_size, vocab_size)\n",
    "        self.lm = nn.Linear(vocab_size * kmer, n_embd)\n",
    "        self.relu = nn.ReLU()\n",
    "        self.dropout = nn.Dropout(dropout)\n",
    "        self.ln_f = nn.LayerNorm(n_embd)\n",
    "        self.lm_head = nn.Linear(n_embd, output_dim)\n",
    "    \n",
    "    def forward(self, idx, targets=None):\n",
    "        B, T = idx.shape\n",
    "        # idx and targets are both (B,T) tensor of integers\n",
    "        x = self.token_embedding_table(idx) # (B,T,vocab_size)\n",
    "        (B, T, C) = x.shape\n",
    "        x = x.view(B, T * C)\n",
    "        x = self.lm(x)\n",
    "        x = self.relu(x)\n",
    "        x = self.dropout(x)\n",
    "        x = self.ln_f(x)\n",
    "        logits = self.lm_head(x) # (B,output_dim)\n",
    "\n",
    "        loss = F.cross_entropy(logits, targets)\n",
    "        return logits, loss\n"
   ]
  },
  {
   "cell_type": "code",
   "execution_count": 159,
   "metadata": {},
   "outputs": [
    {
     "name": "stdout",
     "output_type": "stream",
     "text": [
      "6.559 K parameters\n"
     ]
    }
   ],
   "source": [
    "model = pMHCModel()\n",
    "m = model.to(device)\n",
    "# print the number of parameters in the model\n",
    "print(sum(p.numel() for p in m.parameters())/1e3, 'K parameters')\n",
    "\n",
    "# create a PyTorch optimizer\n",
    "optimizer = torch.optim.AdamW(model.parameters(), lr=learning_rate)"
   ]
  },
  {
   "cell_type": "code",
   "execution_count": 160,
   "metadata": {},
   "outputs": [
    {
     "name": "stdout",
     "output_type": "stream",
     "text": [
      "step 0: train loss 4.9527, val loss 4.9497\n",
      "step 100: train loss 4.3074, val loss 5.7026\n",
      "step 200: train loss 3.8623, val loss 6.5030\n",
      "step 300: train loss 3.4362, val loss 6.9058\n",
      "step 400: train loss 3.0968, val loss 7.4350\n",
      "step 500: train loss 2.8609, val loss 7.7252\n",
      "step 600: train loss 2.6479, val loss 7.8706\n",
      "step 700: train loss 2.5191, val loss 8.3049\n",
      "step 800: train loss 2.4341, val loss 8.3817\n",
      "step 900: train loss 2.3564, val loss 8.6962\n",
      "step 1000: train loss 2.2799, val loss 8.8762\n",
      "step 1100: train loss 2.2695, val loss 9.2076\n",
      "step 1200: train loss 2.2235, val loss 9.4407\n",
      "step 1300: train loss 2.1667, val loss 9.4952\n",
      "step 1400: train loss 2.1823, val loss 9.8066\n",
      "step 1499: train loss 2.1790, val loss 9.9722\n"
     ]
    }
   ],
   "source": [
    "for iter in range(max_iters):\n",
    "\n",
    "        # every once in a while evaluate the loss on train and val sets\n",
    "    if iter % eval_interval == 0 or iter == max_iters - 1:\n",
    "        losses = estimate_loss()\n",
    "        print(f\"step {iter}: train loss {losses['train']:.4f}, val loss {losses['val']:.4f}\")\n",
    "\n",
    "    # sample a batch of data\n",
    "    xb, yb = get_batch('train')\n",
    "\n",
    "    # evaluate the loss\n",
    "    logits, loss = model(xb, yb)\n",
    "    optimizer.zero_grad(set_to_none=True)\n",
    "    loss.backward()\n",
    "    optimizer.step()"
   ]
  },
  {
   "cell_type": "markdown",
   "metadata": {},
   "source": []
  },
  {
   "cell_type": "code",
   "execution_count": null,
   "metadata": {},
   "outputs": [],
   "source": []
  }
 ],
 "metadata": {
  "kernelspec": {
   "display_name": "Python 3",
   "language": "python",
   "name": "python3"
  },
  "language_info": {
   "codemirror_mode": {
    "name": "ipython",
    "version": 3
   },
   "file_extension": ".py",
   "mimetype": "text/x-python",
   "name": "python",
   "nbconvert_exporter": "python",
   "pygments_lexer": "ipython3",
   "version": "3.11.6"
  }
 },
 "nbformat": 4,
 "nbformat_minor": 2
}
